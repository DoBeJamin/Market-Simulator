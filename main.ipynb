{
 "cells": [
  {
   "cell_type": "code",
   "execution_count": 532,
   "id": "f154258c",
   "metadata": {},
   "outputs": [],
   "source": [
    "import plotly.graph_objects as go\n",
    "import math\n",
    "import numpy as np\n"
   ]
  },
  {
   "cell_type": "code",
   "execution_count": 533,
   "id": "2d220fe0",
   "metadata": {},
   "outputs": [],
   "source": [
    "class Order():\n",
    "    def __init__(self,price,volume,isBuy):\n",
    "        self.price = price\n",
    "        self.volume = volume\n",
    "        self.isBuy = isBuy\n",
    "        self.unfilledVolume = volume\n",
    "        self.executionPrices = []\n",
    "\n",
    "    def __str__(self):\n",
    "        return f\"Price={self.price}, Volume={self.volume}, Unfilled={self.unfilledVolume}\"\n",
    "\n",
    "    def execute(self,execution): #in the future can change this to log when orders are filled or execute something or whatever (amount,price)\n",
    "        self.executionPrices.append(execution)\n",
    "        self.unfilledVolume -= execution[0]\n",
    "\n"
   ]
  },
  {
   "cell_type": "code",
   "execution_count": 534,
   "id": "94f15fac",
   "metadata": {},
   "outputs": [],
   "source": [
    "class Node():\n",
    "    def __init__(self,value,orders = None):\n",
    "        self.value = value\n",
    "        self.left = None\n",
    "        self.right = None\n",
    "        self.parent = None\n",
    "        if orders == None: #for increased efficiency change orders to a linked list but I am to lazy to do that right now\n",
    "            self.orders = []\n",
    "        else:\n",
    "            self.orders = orders\n",
    "\n",
    "    def __str__(self): #does inorder traversal returning all of the orders\n",
    "        output  = []\n",
    "        for order in self.orders:\n",
    "            output.append(str(order))\n",
    "        return \".\\n\".join(output)\n",
    "\n",
    "    def in_order(self):\n",
    "        if self.left != None:\n",
    "            yield from self.left.in_order()\n",
    "\n",
    "        yield self.orders,self\n",
    "        \n",
    "        if self.right != None:\n",
    "            yield from self.right.in_order()\n",
    "\n",
    "\n",
    "    def insert(self,order,direction): \n",
    "        if order.price == self.value:\n",
    "            self.orders.append(order) \n",
    "\n",
    "        elif order.price * direction < self.value * direction: #move to right node\n",
    "            if self.right == None:\n",
    "                self.right = Node(order.price,[order])\n",
    "                self.right.parent = self\n",
    "            else:\n",
    "                self.right.insert(order,direction)\n",
    "\n",
    "        else: #move to left node\n",
    "            if self.left == None:\n",
    "                self.left = Node(order.price,[order])\n",
    "                self.left.parent = self\n",
    "            else:\n",
    "                self.left.insert(order,direction)\n",
    "\n"
   ]
  },
  {
   "cell_type": "code",
   "execution_count": 535,
   "id": "d68f6471",
   "metadata": {},
   "outputs": [],
   "source": [
    "class OrderTree():\n",
    "    def __init__(self,isBuy,node = None):\n",
    "        self.head = node\n",
    "        self.isBuy = isBuy\n",
    "\n",
    "    def bestPrice(self):\n",
    "        if self.head == None:\n",
    "            if self.isBuy:\n",
    "                return -math.inf\n",
    "            else:\n",
    "                return math.inf\n",
    "        else:\n",
    "            currentNode = self.head\n",
    "            while currentNode.left is not None:\n",
    "                currentNode = currentNode.left\n",
    "            return currentNode.value\n",
    "\n",
    "    def __str__(self):\n",
    "        header = f\"bestPrice={self.bestPrice()}\"\n",
    "        if self.head == None:\n",
    "            tree = \"empty\"\n",
    "        else:\n",
    "            tree = \".\\n\".join([str(order) for orders,_ in self.head.in_order() for order in orders])\n",
    "        return header + '\\n' + tree\n",
    "\n",
    "\n",
    "    def insertOrder(self,order): \n",
    "        if self.head is None: #to optimize use a self balancing tree\n",
    "            self.head = Node(order.price, [order])\n",
    "        else:\n",
    "            direction = 1 if self.isBuy else -1\n",
    "            self.head.insert(order, direction)\n",
    "        '''if self.isBuy:\n",
    "\n",
    "            if order.price > self.bestPrice(): \n",
    "                newNode = Node(order.price,[order])\n",
    "                if self.head == None:\n",
    "                    self.head = newNode\n",
    "                else:\n",
    "                    newNode.right = self.head\n",
    "                    self.head = newNode\n",
    "                    self.head.right.parent = newNode\n",
    "            else:\n",
    "                self.head.insert(order,1)\n",
    "\n",
    "        else:\n",
    "\n",
    "            if order.price < self.bestPrice(): \n",
    "                newNode = Node(order.price,[order])\n",
    "                if self.head == None:\n",
    "                    self.head = newNode\n",
    "                else:\n",
    "                    newNode.right = self.head\n",
    "                    self.head = newNode\n",
    "                    self.head.right.parent = newNode\n",
    "            else:\n",
    "                self.head.insert(order,-1)'''"
   ]
  },
  {
   "cell_type": "code",
   "execution_count": 536,
   "id": "0d8cdf50",
   "metadata": {},
   "outputs": [],
   "source": [
    "class orderbook:\n",
    "    def __init__(self):\n",
    "        self.sells = OrderTree(False)\n",
    "        self.buys = OrderTree(True)\n",
    "\n",
    "\n",
    "    def __str__(self):\n",
    "        return \"---------------\\nBuy Book \\n---------------\\n\" + str(self.buys) + \"\\n\" + \"---------------\\nSell Book \\n---------------\\n\" + str(self.sells) \n",
    "\n",
    "    def submitOrder(self,order): #ensure that it checks that the price is still currently a valid price\n",
    "\n",
    "        deleteNodes = []\n",
    "        \n",
    "        if order.isBuy: #submitting a buy order\n",
    "            if order.price < self.sells.bestPrice(): #no order fill\n",
    "                self.buys.insertOrder(order)\n",
    "            else: #order fillable\n",
    "                for existingOrders, currentNode in self.sells.head.in_order(): # fills order on root node\n",
    "\n",
    "                    if order.price < currentNode.value:\n",
    "                        break\n",
    "                    updatedOrders = []\n",
    "\n",
    "                    for existingOrder in existingOrders:\n",
    "                        if existingOrder.unfilledVolume <= order.unfilledVolume:\n",
    "                            #fill entire order\n",
    "                            order.execute((existingOrder.unfilledVolume,existingOrder.price))\n",
    "                            existingOrder.execute((existingOrder.unfilledVolume,existingOrder.price))\n",
    "                        else:\n",
    "                            #partial fill the order\n",
    "                            existingOrder.execute((order.unfilledVolume,existingOrder.price)) #adds tuple of trade execution to the order and sets remaning volume to zero\n",
    "                            order.execute((order.unfilledVolume,existingOrder.price))\n",
    "                            updatedOrders.append(existingOrder)\n",
    "                            break\n",
    "                        if existingOrder.unfilledVolume > 0:\n",
    "                            updatedOrders.append(existingOrder)\n",
    "\n",
    "                    currentNode.orders = updatedOrders\n",
    "                    if len(updatedOrders) == 0:\n",
    "                        deleteNodes.append(currentNode)\n",
    "\n",
    "\n",
    "                    if order.unfilledVolume <= 0:#order is completely filled\n",
    "                        break\n",
    "                if order.unfilledVolume > 0:#insert remaining unfilled volume onto the market\n",
    "                    self.buys.insertOrder(order)\n",
    "\n",
    "                for node in deleteNodes:\n",
    "                    if node.parent == None: \n",
    "                        self.sells.head = self.sells.head.right\n",
    "                        if self.sells.head != None:\n",
    "                            self.sells.head.parent = None\n",
    "                    else:\n",
    "                        if node.right == None:\n",
    "                            node.parent.left = node.right\n",
    "                        else:\n",
    "                            node.right.parent = node.parent\n",
    "                            node.parent.left = node.right\n",
    "                        \n",
    "\n",
    "\n",
    "\n",
    "        else: #submitting a sell order\n",
    "            if order.price > self.buys.bestPrice(): #no order fill\n",
    "                self.sells.insertOrder(order)\n",
    "            else: #order fillable\n",
    "                for existingOrders, currentNode in self.buys.head.in_order(): # fills order on root node\n",
    "\n",
    "                    if order.price > currentNode.value:\n",
    "                        break\n",
    "                    updatedOrders = []\n",
    "\n",
    "                    for existingOrder in existingOrders:\n",
    "                        if existingOrder.unfilledVolume <= order.unfilledVolume:\n",
    "                            #fill entire order\n",
    "                            order.execute((existingOrder.unfilledVolume,existingOrder.price))\n",
    "                            existingOrder.execute((existingOrder.unfilledVolume,existingOrder.price))\n",
    "                        else:\n",
    "                            #partial fill the order\n",
    "                            existingOrder.execute((order.unfilledVolume,existingOrder.price)) #adds tuple of trade execution to the order and sets remaning volume to zero\n",
    "                            order.execute((order.unfilledVolume,existingOrder.price))\n",
    "                            updatedOrders.append(existingOrder)\n",
    "                            break\n",
    "                        if existingOrder.unfilledVolume > 0:\n",
    "                            updatedOrders.append(existingOrder)\n",
    "\n",
    "                    currentNode.orders = updatedOrders\n",
    "                    if len(updatedOrders) == 0:\n",
    "                        deleteNodes.append(currentNode)\n",
    "\n",
    "\n",
    "                    if order.unfilledVolume <= 0:#order is completely filled\n",
    "                        break\n",
    "\n",
    "                if order.unfilledVolume > 0: #insert remaining unfilled volume onto the market\n",
    "                    self.sells.insertOrder(order)\n",
    "        \n",
    "                for node in deleteNodes:\n",
    "                    if node.parent == None: \n",
    "                        self.buys.head = self.buys.head.right\n",
    "                        if self.buys.head != None:\n",
    "                            self.buys.head.parent = None\n",
    "                    else:\n",
    "                        if node.right == None:\n",
    "                            node.parent.left = node.right\n",
    "                        else:\n",
    "                            node.right.parent = node.parent\n",
    "                            node.parent.left = node.right"
   ]
  },
  {
   "cell_type": "code",
   "execution_count": 537,
   "id": "882c159e",
   "metadata": {},
   "outputs": [
    {
     "name": "stdout",
     "output_type": "stream",
     "text": [
      "---------------\n",
      "Buy Book \n",
      "---------------\n",
      "bestPrice=100\n",
      "Price=100, Volume=40, Unfilled=20\n",
      "---------------\n",
      "Sell Book \n",
      "---------------\n",
      "bestPrice=150\n",
      "Price=150, Volume=40, Unfilled=40\n"
     ]
    }
   ],
   "source": [
    "exchange = orderbook()\n",
    "\n",
    "order1 = Order(100,40,True)\n",
    "order2 = Order(120,40,True)\n",
    "\n",
    "\n",
    "exchange.submitOrder(order1)\n",
    "exchange.submitOrder(order2)\n",
    "\n",
    "a = Order(150,40,False)\n",
    "exchange.submitOrder(a)\n",
    "\n",
    "\n",
    "a = Order(100,60,False)\n",
    "exchange.submitOrder(a)\n",
    "\n",
    "print(exchange)\n"
   ]
  },
  {
   "cell_type": "code",
   "execution_count": 540,
   "id": "8cd84cc6",
   "metadata": {},
   "outputs": [
    {
     "name": "stdout",
     "output_type": "stream",
     "text": [
      "---------------\n",
      "Buy Book \n",
      "---------------\n",
      "bestPrice=536.0\n",
      "Price=536.0, Volume=282, Unfilled=41.\n",
      "Price=496.0, Volume=113, Unfilled=113.\n",
      "Price=471.0, Volume=355, Unfilled=189.\n",
      "Price=451.0, Volume=242, Unfilled=242.\n",
      "Price=450.0, Volume=304, Unfilled=304.\n",
      "Price=446.0, Volume=257, Unfilled=257.\n",
      "Price=436.0, Volume=151, Unfilled=151.\n",
      "Price=433.0, Volume=358, Unfilled=358.\n",
      "Price=418.0, Volume=414, Unfilled=414.\n",
      "Price=375.0, Volume=225, Unfilled=225.\n",
      "Price=368.0, Volume=93, Unfilled=93.\n",
      "Price=360.0, Volume=440, Unfilled=440\n",
      "---------------\n",
      "Sell Book \n",
      "---------------\n",
      "bestPrice=543.0\n",
      "Price=543.0, Volume=258, Unfilled=14.\n",
      "Price=545.0, Volume=261, Unfilled=59.\n",
      "Price=554.0, Volume=410, Unfilled=410.\n",
      "Price=554.0, Volume=144, Unfilled=144.\n",
      "Price=555.0, Volume=69, Unfilled=69.\n",
      "Price=563.0, Volume=236, Unfilled=236.\n",
      "Price=567.0, Volume=437, Unfilled=437.\n",
      "Price=587.0, Volume=4, Unfilled=4.\n",
      "Price=596.0, Volume=373, Unfilled=373.\n",
      "Price=603.0, Volume=91, Unfilled=91.\n",
      "Price=606.0, Volume=458, Unfilled=458.\n",
      "Price=607.0, Volume=459, Unfilled=459.\n",
      "Price=623.0, Volume=318, Unfilled=318.\n",
      "Price=646.0, Volume=241, Unfilled=241\n"
     ]
    }
   ],
   "source": [
    "import random\n",
    "exchange = orderbook()\n",
    "\n",
    "for x in range(100):\n",
    "\n",
    "    order1 = Order(np.floor(np.random.normal()* 50) + 500,random.randint(1,500),False)\n",
    "    order2 = Order(np.floor(np.random.normal()* 50) + 490,random.randint(1,500),True)\n",
    "    exchange.submitOrder(random.choice([order1,order2]))\n",
    "\n",
    "\n",
    "print(exchange)"
   ]
  },
  {
   "cell_type": "code",
   "execution_count": 539,
   "id": "446ecb9f",
   "metadata": {},
   "outputs": [
    {
     "data": {
      "application/vnd.plotly.v1+json": {
       "config": {
        "plotlyServerURL": "https://plot.ly"
       },
       "data": [
        {
         "line": {
          "color": "green",
          "shape": "hv"
         },
         "mode": "lines+markers",
         "name": "Bids (Buy)",
         "type": "scatter",
         "x": [
          523,
          517,
          484,
          480,
          477,
          470,
          463,
          462,
          461,
          460,
          459,
          454,
          452,
          450,
          449,
          448,
          447,
          446,
          445,
          444,
          443,
          442,
          441,
          440,
          439,
          438,
          437,
          436,
          435,
          434,
          433,
          432,
          431,
          430,
          429,
          428,
          427,
          426,
          425,
          424,
          423,
          422,
          421,
          420,
          419,
          418,
          417,
          416,
          415,
          414,
          413,
          412,
          411,
          410,
          409,
          408,
          407,
          406,
          405,
          404,
          403,
          402,
          401,
          400,
          399,
          398,
          397,
          396,
          395,
          394,
          393,
          392,
          391,
          390,
          389,
          388,
          387,
          386,
          385,
          384,
          383,
          382,
          381,
          380,
          379,
          378,
          377,
          376,
          375,
          374,
          373,
          372,
          371,
          370,
          369,
          368,
          367,
          366,
          365,
          364,
          363,
          362,
          361,
          360,
          359,
          358,
          357,
          356,
          355,
          354,
          353,
          352,
          351,
          350,
          349,
          348,
          347,
          346,
          345,
          344,
          343,
          342,
          341,
          340,
          339,
          338,
          337,
          336,
          335,
          334,
          333,
          332,
          331,
          329,
          328,
          327,
          326,
          325,
          324,
          322,
          321,
          320,
          319,
          316,
          315,
          314,
          311,
          310,
          309,
          307,
          306,
          304,
          303,
          302,
          298,
          267
         ],
         "y": [
          48,
          190,
          487,
          603,
          697,
          912,
          1111,
          1449,
          1821,
          2291,
          2447,
          2583,
          3041,
          3603,
          4613,
          5176,
          6713,
          7331,
          7612,
          8646,
          9272,
          79596,
          133927,
          190523,
          249116,
          306386,
          366049,
          421584,
          479143,
          532744,
          590923,
          647035,
          694982,
          743479,
          787981,
          831423,
          883366,
          927225,
          971126,
          1012737,
          1048895,
          1097114,
          1139211,
          1187165,
          1225390,
          1260621,
          1290756,
          1330693,
          1358886,
          1388292,
          1423656,
          1454353,
          1491062,
          1516276,
          1549202,
          1577219,
          1606276,
          1629394,
          1653801,
          1683949,
          1708713,
          1728369,
          1747665,
          1766532,
          1786116,
          1805136,
          1819642,
          1833602,
          1853526,
          1870089,
          1887097,
          1898420,
          1908442,
          1923469,
          1937814,
          1952339,
          1963773,
          1976137,
          1987429,
          1998427,
          2008683,
          2018911,
          2025986,
          2033415,
          2043136,
          2049456,
          2055013,
          2062473,
          2065979,
          2071884,
          2076233,
          2082396,
          2088965,
          2097055,
          2102620,
          2107200,
          2112518,
          2115544,
          2119283,
          2123573,
          2126916,
          2130006,
          2133492,
          2136047,
          2139539,
          2142815,
          2144177,
          2147611,
          2151050,
          2152432,
          2155857,
          2158518,
          2160392,
          2161310,
          2162935,
          2164380,
          2167131,
          2167789,
          2169439,
          2171005,
          2172875,
          2173419,
          2174251,
          2175973,
          2177425,
          2178034,
          2179093,
          2179776,
          2180166,
          2181343,
          2181802,
          2182356,
          2183136,
          2183305,
          2183862,
          2184286,
          2185009,
          2185711,
          2186036,
          2187535,
          2187994,
          2188526,
          2188559,
          2188851,
          2189250,
          2189693,
          2190457,
          2190801,
          2191354,
          2191765,
          2191813,
          2192281,
          2192400,
          2192839,
          2192988,
          2193214
         ]
        },
        {
         "line": {
          "color": "red",
          "shape": "hv"
         },
         "mode": "lines+markers",
         "name": "Asks (Sell)",
         "type": "scatter",
         "x": [
          524,
          525,
          526,
          527,
          533,
          534,
          535,
          536,
          537,
          538,
          539,
          540,
          541,
          542,
          543,
          544,
          545,
          546,
          547,
          548,
          549,
          550,
          551,
          552,
          553,
          554,
          555,
          556,
          557,
          558,
          559,
          560,
          561,
          562,
          563,
          564,
          565,
          566,
          567,
          568,
          569,
          570,
          571,
          572,
          573,
          574,
          575,
          576,
          577,
          578,
          579,
          580,
          581,
          582,
          583,
          584,
          585,
          586,
          587,
          588,
          589,
          590,
          591,
          592,
          593,
          594,
          595,
          596,
          597,
          598,
          599,
          600,
          601,
          602,
          603,
          604,
          605,
          606,
          607,
          608,
          609,
          610,
          611,
          612,
          613,
          614,
          615,
          616,
          617,
          618,
          619,
          620,
          621,
          622,
          623,
          624,
          625,
          626,
          627,
          628,
          629,
          630,
          631,
          632,
          633,
          634,
          635,
          636,
          637,
          638,
          639,
          640,
          641,
          642,
          643,
          644,
          645,
          646,
          647,
          648,
          649,
          650,
          651,
          652,
          653,
          654,
          655,
          656,
          657,
          658,
          659,
          660,
          661,
          662,
          663,
          664,
          665,
          666,
          667,
          669,
          672,
          674,
          676,
          677,
          680,
          682,
          685,
          686,
          748
         ],
         "y": [
          530,
          693,
          981,
          1020,
          1378,
          1654,
          1932,
          2269,
          4208,
          4717,
          7298,
          9773,
          12798,
          13780,
          16287,
          19565,
          20234,
          22366,
          34649,
          49261,
          60608,
          121305,
          179216,
          238697,
          297951,
          357817,
          414033,
          466160,
          516958,
          564873,
          622900,
          672958,
          718374,
          757102,
          802203,
          836976,
          877236,
          924328,
          959391,
          998924,
          1031509,
          1063876,
          1101643,
          1136982,
          1167095,
          1204282,
          1239140,
          1270630,
          1299022,
          1326035,
          1356002,
          1382970,
          1409739,
          1435992,
          1461756,
          1481655,
          1504696,
          1525297,
          1545174,
          1565897,
          1580727,
          1595570,
          1618240,
          1633573,
          1650815,
          1668388,
          1682337,
          1699518,
          1715009,
          1729338,
          1740293,
          1752022,
          1762359,
          1775230,
          1784220,
          1795893,
          1804685,
          1814051,
          1824425,
          1834949,
          1847167,
          1857381,
          1865592,
          1872476,
          1879074,
          1882820,
          1890305,
          1896942,
          1901924,
          1906716,
          1913609,
          1919121,
          1923287,
          1927260,
          1930762,
          1933935,
          1936748,
          1940561,
          1944066,
          1949640,
          1954943,
          1957332,
          1964099,
          1968424,
          1970307,
          1972357,
          1975444,
          1978147,
          1981338,
          1983422,
          1986078,
          1986478,
          1987418,
          1989565,
          1991048,
          1992407,
          1994381,
          1995895,
          1998020,
          1998348,
          1998461,
          1999137,
          1999694,
          2000087,
          2000693,
          2001165,
          2002550,
          2003073,
          2004229,
          2005482,
          2006099,
          2006373,
          2007164,
          2007586,
          2008011,
          2009249,
          2009692,
          2009746,
          2010577,
          2010963,
          2011149,
          2011348,
          2011916,
          2012486,
          2012668,
          2013088,
          2013428,
          2013927,
          2013974
         ]
        }
       ],
       "layout": {
        "template": {
         "data": {
          "bar": [
           {
            "error_x": {
             "color": "#2a3f5f"
            },
            "error_y": {
             "color": "#2a3f5f"
            },
            "marker": {
             "line": {
              "color": "white",
              "width": 0.5
             },
             "pattern": {
              "fillmode": "overlay",
              "size": 10,
              "solidity": 0.2
             }
            },
            "type": "bar"
           }
          ],
          "barpolar": [
           {
            "marker": {
             "line": {
              "color": "white",
              "width": 0.5
             },
             "pattern": {
              "fillmode": "overlay",
              "size": 10,
              "solidity": 0.2
             }
            },
            "type": "barpolar"
           }
          ],
          "carpet": [
           {
            "aaxis": {
             "endlinecolor": "#2a3f5f",
             "gridcolor": "#C8D4E3",
             "linecolor": "#C8D4E3",
             "minorgridcolor": "#C8D4E3",
             "startlinecolor": "#2a3f5f"
            },
            "baxis": {
             "endlinecolor": "#2a3f5f",
             "gridcolor": "#C8D4E3",
             "linecolor": "#C8D4E3",
             "minorgridcolor": "#C8D4E3",
             "startlinecolor": "#2a3f5f"
            },
            "type": "carpet"
           }
          ],
          "choropleth": [
           {
            "colorbar": {
             "outlinewidth": 0,
             "ticks": ""
            },
            "type": "choropleth"
           }
          ],
          "contour": [
           {
            "colorbar": {
             "outlinewidth": 0,
             "ticks": ""
            },
            "colorscale": [
             [
              0,
              "#0d0887"
             ],
             [
              0.1111111111111111,
              "#46039f"
             ],
             [
              0.2222222222222222,
              "#7201a8"
             ],
             [
              0.3333333333333333,
              "#9c179e"
             ],
             [
              0.4444444444444444,
              "#bd3786"
             ],
             [
              0.5555555555555556,
              "#d8576b"
             ],
             [
              0.6666666666666666,
              "#ed7953"
             ],
             [
              0.7777777777777778,
              "#fb9f3a"
             ],
             [
              0.8888888888888888,
              "#fdca26"
             ],
             [
              1,
              "#f0f921"
             ]
            ],
            "type": "contour"
           }
          ],
          "contourcarpet": [
           {
            "colorbar": {
             "outlinewidth": 0,
             "ticks": ""
            },
            "type": "contourcarpet"
           }
          ],
          "heatmap": [
           {
            "colorbar": {
             "outlinewidth": 0,
             "ticks": ""
            },
            "colorscale": [
             [
              0,
              "#0d0887"
             ],
             [
              0.1111111111111111,
              "#46039f"
             ],
             [
              0.2222222222222222,
              "#7201a8"
             ],
             [
              0.3333333333333333,
              "#9c179e"
             ],
             [
              0.4444444444444444,
              "#bd3786"
             ],
             [
              0.5555555555555556,
              "#d8576b"
             ],
             [
              0.6666666666666666,
              "#ed7953"
             ],
             [
              0.7777777777777778,
              "#fb9f3a"
             ],
             [
              0.8888888888888888,
              "#fdca26"
             ],
             [
              1,
              "#f0f921"
             ]
            ],
            "type": "heatmap"
           }
          ],
          "heatmapgl": [
           {
            "colorbar": {
             "outlinewidth": 0,
             "ticks": ""
            },
            "colorscale": [
             [
              0,
              "#0d0887"
             ],
             [
              0.1111111111111111,
              "#46039f"
             ],
             [
              0.2222222222222222,
              "#7201a8"
             ],
             [
              0.3333333333333333,
              "#9c179e"
             ],
             [
              0.4444444444444444,
              "#bd3786"
             ],
             [
              0.5555555555555556,
              "#d8576b"
             ],
             [
              0.6666666666666666,
              "#ed7953"
             ],
             [
              0.7777777777777778,
              "#fb9f3a"
             ],
             [
              0.8888888888888888,
              "#fdca26"
             ],
             [
              1,
              "#f0f921"
             ]
            ],
            "type": "heatmapgl"
           }
          ],
          "histogram": [
           {
            "marker": {
             "pattern": {
              "fillmode": "overlay",
              "size": 10,
              "solidity": 0.2
             }
            },
            "type": "histogram"
           }
          ],
          "histogram2d": [
           {
            "colorbar": {
             "outlinewidth": 0,
             "ticks": ""
            },
            "colorscale": [
             [
              0,
              "#0d0887"
             ],
             [
              0.1111111111111111,
              "#46039f"
             ],
             [
              0.2222222222222222,
              "#7201a8"
             ],
             [
              0.3333333333333333,
              "#9c179e"
             ],
             [
              0.4444444444444444,
              "#bd3786"
             ],
             [
              0.5555555555555556,
              "#d8576b"
             ],
             [
              0.6666666666666666,
              "#ed7953"
             ],
             [
              0.7777777777777778,
              "#fb9f3a"
             ],
             [
              0.8888888888888888,
              "#fdca26"
             ],
             [
              1,
              "#f0f921"
             ]
            ],
            "type": "histogram2d"
           }
          ],
          "histogram2dcontour": [
           {
            "colorbar": {
             "outlinewidth": 0,
             "ticks": ""
            },
            "colorscale": [
             [
              0,
              "#0d0887"
             ],
             [
              0.1111111111111111,
              "#46039f"
             ],
             [
              0.2222222222222222,
              "#7201a8"
             ],
             [
              0.3333333333333333,
              "#9c179e"
             ],
             [
              0.4444444444444444,
              "#bd3786"
             ],
             [
              0.5555555555555556,
              "#d8576b"
             ],
             [
              0.6666666666666666,
              "#ed7953"
             ],
             [
              0.7777777777777778,
              "#fb9f3a"
             ],
             [
              0.8888888888888888,
              "#fdca26"
             ],
             [
              1,
              "#f0f921"
             ]
            ],
            "type": "histogram2dcontour"
           }
          ],
          "mesh3d": [
           {
            "colorbar": {
             "outlinewidth": 0,
             "ticks": ""
            },
            "type": "mesh3d"
           }
          ],
          "parcoords": [
           {
            "line": {
             "colorbar": {
              "outlinewidth": 0,
              "ticks": ""
             }
            },
            "type": "parcoords"
           }
          ],
          "pie": [
           {
            "automargin": true,
            "type": "pie"
           }
          ],
          "scatter": [
           {
            "fillpattern": {
             "fillmode": "overlay",
             "size": 10,
             "solidity": 0.2
            },
            "type": "scatter"
           }
          ],
          "scatter3d": [
           {
            "line": {
             "colorbar": {
              "outlinewidth": 0,
              "ticks": ""
             }
            },
            "marker": {
             "colorbar": {
              "outlinewidth": 0,
              "ticks": ""
             }
            },
            "type": "scatter3d"
           }
          ],
          "scattercarpet": [
           {
            "marker": {
             "colorbar": {
              "outlinewidth": 0,
              "ticks": ""
             }
            },
            "type": "scattercarpet"
           }
          ],
          "scattergeo": [
           {
            "marker": {
             "colorbar": {
              "outlinewidth": 0,
              "ticks": ""
             }
            },
            "type": "scattergeo"
           }
          ],
          "scattergl": [
           {
            "marker": {
             "colorbar": {
              "outlinewidth": 0,
              "ticks": ""
             }
            },
            "type": "scattergl"
           }
          ],
          "scattermapbox": [
           {
            "marker": {
             "colorbar": {
              "outlinewidth": 0,
              "ticks": ""
             }
            },
            "type": "scattermapbox"
           }
          ],
          "scatterpolar": [
           {
            "marker": {
             "colorbar": {
              "outlinewidth": 0,
              "ticks": ""
             }
            },
            "type": "scatterpolar"
           }
          ],
          "scatterpolargl": [
           {
            "marker": {
             "colorbar": {
              "outlinewidth": 0,
              "ticks": ""
             }
            },
            "type": "scatterpolargl"
           }
          ],
          "scatterternary": [
           {
            "marker": {
             "colorbar": {
              "outlinewidth": 0,
              "ticks": ""
             }
            },
            "type": "scatterternary"
           }
          ],
          "surface": [
           {
            "colorbar": {
             "outlinewidth": 0,
             "ticks": ""
            },
            "colorscale": [
             [
              0,
              "#0d0887"
             ],
             [
              0.1111111111111111,
              "#46039f"
             ],
             [
              0.2222222222222222,
              "#7201a8"
             ],
             [
              0.3333333333333333,
              "#9c179e"
             ],
             [
              0.4444444444444444,
              "#bd3786"
             ],
             [
              0.5555555555555556,
              "#d8576b"
             ],
             [
              0.6666666666666666,
              "#ed7953"
             ],
             [
              0.7777777777777778,
              "#fb9f3a"
             ],
             [
              0.8888888888888888,
              "#fdca26"
             ],
             [
              1,
              "#f0f921"
             ]
            ],
            "type": "surface"
           }
          ],
          "table": [
           {
            "cells": {
             "fill": {
              "color": "#EBF0F8"
             },
             "line": {
              "color": "white"
             }
            },
            "header": {
             "fill": {
              "color": "#C8D4E3"
             },
             "line": {
              "color": "white"
             }
            },
            "type": "table"
           }
          ]
         },
         "layout": {
          "annotationdefaults": {
           "arrowcolor": "#2a3f5f",
           "arrowhead": 0,
           "arrowwidth": 1
          },
          "autotypenumbers": "strict",
          "coloraxis": {
           "colorbar": {
            "outlinewidth": 0,
            "ticks": ""
           }
          },
          "colorscale": {
           "diverging": [
            [
             0,
             "#8e0152"
            ],
            [
             0.1,
             "#c51b7d"
            ],
            [
             0.2,
             "#de77ae"
            ],
            [
             0.3,
             "#f1b6da"
            ],
            [
             0.4,
             "#fde0ef"
            ],
            [
             0.5,
             "#f7f7f7"
            ],
            [
             0.6,
             "#e6f5d0"
            ],
            [
             0.7,
             "#b8e186"
            ],
            [
             0.8,
             "#7fbc41"
            ],
            [
             0.9,
             "#4d9221"
            ],
            [
             1,
             "#276419"
            ]
           ],
           "sequential": [
            [
             0,
             "#0d0887"
            ],
            [
             0.1111111111111111,
             "#46039f"
            ],
            [
             0.2222222222222222,
             "#7201a8"
            ],
            [
             0.3333333333333333,
             "#9c179e"
            ],
            [
             0.4444444444444444,
             "#bd3786"
            ],
            [
             0.5555555555555556,
             "#d8576b"
            ],
            [
             0.6666666666666666,
             "#ed7953"
            ],
            [
             0.7777777777777778,
             "#fb9f3a"
            ],
            [
             0.8888888888888888,
             "#fdca26"
            ],
            [
             1,
             "#f0f921"
            ]
           ],
           "sequentialminus": [
            [
             0,
             "#0d0887"
            ],
            [
             0.1111111111111111,
             "#46039f"
            ],
            [
             0.2222222222222222,
             "#7201a8"
            ],
            [
             0.3333333333333333,
             "#9c179e"
            ],
            [
             0.4444444444444444,
             "#bd3786"
            ],
            [
             0.5555555555555556,
             "#d8576b"
            ],
            [
             0.6666666666666666,
             "#ed7953"
            ],
            [
             0.7777777777777778,
             "#fb9f3a"
            ],
            [
             0.8888888888888888,
             "#fdca26"
            ],
            [
             1,
             "#f0f921"
            ]
           ]
          },
          "colorway": [
           "#636efa",
           "#EF553B",
           "#00cc96",
           "#ab63fa",
           "#FFA15A",
           "#19d3f3",
           "#FF6692",
           "#B6E880",
           "#FF97FF",
           "#FECB52"
          ],
          "font": {
           "color": "#2a3f5f"
          },
          "geo": {
           "bgcolor": "white",
           "lakecolor": "white",
           "landcolor": "white",
           "showlakes": true,
           "showland": true,
           "subunitcolor": "#C8D4E3"
          },
          "hoverlabel": {
           "align": "left"
          },
          "hovermode": "closest",
          "mapbox": {
           "style": "light"
          },
          "paper_bgcolor": "white",
          "plot_bgcolor": "white",
          "polar": {
           "angularaxis": {
            "gridcolor": "#EBF0F8",
            "linecolor": "#EBF0F8",
            "ticks": ""
           },
           "bgcolor": "white",
           "radialaxis": {
            "gridcolor": "#EBF0F8",
            "linecolor": "#EBF0F8",
            "ticks": ""
           }
          },
          "scene": {
           "xaxis": {
            "backgroundcolor": "white",
            "gridcolor": "#DFE8F3",
            "gridwidth": 2,
            "linecolor": "#EBF0F8",
            "showbackground": true,
            "ticks": "",
            "zerolinecolor": "#EBF0F8"
           },
           "yaxis": {
            "backgroundcolor": "white",
            "gridcolor": "#DFE8F3",
            "gridwidth": 2,
            "linecolor": "#EBF0F8",
            "showbackground": true,
            "ticks": "",
            "zerolinecolor": "#EBF0F8"
           },
           "zaxis": {
            "backgroundcolor": "white",
            "gridcolor": "#DFE8F3",
            "gridwidth": 2,
            "linecolor": "#EBF0F8",
            "showbackground": true,
            "ticks": "",
            "zerolinecolor": "#EBF0F8"
           }
          },
          "shapedefaults": {
           "line": {
            "color": "#2a3f5f"
           }
          },
          "ternary": {
           "aaxis": {
            "gridcolor": "#DFE8F3",
            "linecolor": "#A2B1C6",
            "ticks": ""
           },
           "baxis": {
            "gridcolor": "#DFE8F3",
            "linecolor": "#A2B1C6",
            "ticks": ""
           },
           "bgcolor": "white",
           "caxis": {
            "gridcolor": "#DFE8F3",
            "linecolor": "#A2B1C6",
            "ticks": ""
           }
          },
          "title": {
           "x": 0.05
          },
          "xaxis": {
           "automargin": true,
           "gridcolor": "#EBF0F8",
           "linecolor": "#EBF0F8",
           "ticks": "",
           "title": {
            "standoff": 15
           },
           "zerolinecolor": "#EBF0F8",
           "zerolinewidth": 2
          },
          "yaxis": {
           "automargin": true,
           "gridcolor": "#EBF0F8",
           "linecolor": "#EBF0F8",
           "ticks": "",
           "title": {
            "standoff": 15
           },
           "zerolinecolor": "#EBF0F8",
           "zerolinewidth": 2
          }
         }
        },
        "title": {
         "text": "Order Book Depth Chart"
        },
        "xaxis": {
         "title": {
          "text": "Price"
         },
         "type": "linear"
        },
        "yaxis": {
         "title": {
          "text": "Cumulative Volume"
         },
         "type": "linear"
        }
       }
      }
     },
     "metadata": {},
     "output_type": "display_data"
    }
   ],
   "source": [
    "\n",
    "\n",
    "# Buy side (sorted high to low)\n",
    "\n",
    "exchange.sells.head.in_order()\n",
    "buy_prices = []\n",
    "buy_volumes = []\n",
    "\n",
    "for orders, currentNode in exchange.buys.head.in_order():\n",
    "    buy_prices.append(currentNode.value)\n",
    "    buy_volumes.append(sum(order.unfilledVolume for order in orders))\n",
    "\n",
    "# Sell side (sorted low to high)\n",
    "\n",
    "\n",
    "sell_prices = []\n",
    "sell_volumes = []\n",
    "\n",
    "for orders, currentNode in exchange.sells.head.in_order():\n",
    "    sell_prices.append(currentNode.value)\n",
    "    sell_volumes.append(sum(order.unfilledVolume for order in orders))\n",
    "\n",
    "\n",
    "buy_cumvol = np.cumsum(buy_volumes) \n",
    "sell_cumvol = np.cumsum(sell_volumes)           \n",
    "\n",
    "fig = go.Figure()\n",
    "\n",
    "# Buy side (bids)\n",
    "fig.add_trace(go.Scatter(\n",
    "    x=buy_prices,\n",
    "    y=buy_cumvol,\n",
    "    mode='lines+markers',\n",
    "    name='Bids (Buy)',\n",
    "    line=dict(color='green', shape='hv')\n",
    "))\n",
    "\n",
    "# Sell side (asks)\n",
    "fig.add_trace(go.Scatter(\n",
    "    x=sell_prices,\n",
    "    y=sell_cumvol,\n",
    "    mode='lines+markers',\n",
    "    name='Asks (Sell)',\n",
    "    line=dict(color='red', shape='hv')\n",
    "))\n",
    "\n",
    "fig.update_layout(\n",
    "    title='Order Book Depth Chart',\n",
    "    xaxis_title='Price',\n",
    "    yaxis_title='Cumulative Volume',\n",
    "    xaxis=dict(type='linear'),\n",
    "    yaxis=dict(type='linear'),\n",
    "    template='plotly_white'\n",
    ")\n",
    "\n",
    "fig.show()\n"
   ]
  }
 ],
 "metadata": {
  "kernelspec": {
   "display_name": "general",
   "language": "python",
   "name": "python3"
  },
  "language_info": {
   "codemirror_mode": {
    "name": "ipython",
    "version": 3
   },
   "file_extension": ".py",
   "mimetype": "text/x-python",
   "name": "python",
   "nbconvert_exporter": "python",
   "pygments_lexer": "ipython3",
   "version": "3.12.1"
  }
 },
 "nbformat": 4,
 "nbformat_minor": 5
}
