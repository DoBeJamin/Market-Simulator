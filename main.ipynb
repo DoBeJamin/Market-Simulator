{
 "cells": [
  {
   "cell_type": "code",
   "execution_count": 853,
   "id": "f154258c",
   "metadata": {},
   "outputs": [],
   "source": [
    "import plotly.graph_objects as go\n",
    "import math\n",
    "import numpy as np\n"
   ]
  },
  {
   "cell_type": "code",
   "execution_count": null,
   "id": "2d220fe0",
   "metadata": {},
   "outputs": [],
   "source": [
    "class Order():\n",
    "    def __init__(self,price,volume,isBuy,owner = \"None\"):\n",
    "        self.price = price\n",
    "        self.volume = volume\n",
    "        self.isBuy = isBuy\n",
    "        self.unfilledVolume = volume\n",
    "        self.executionPrices = []\n",
    "        self.owner = owner\n",
    "        self.location = None\n",
    "\n",
    "    def __str__(self):\n",
    "        return f\"Owner={self.owner}, Price={self.price}, Volume={self.volume}, Unfilled={self.unfilledVolume}\"\n",
    "\n",
    "    def execute(self,execution): #in the future can change this to log when orders are filled or execute something or whatever (amount,price)\n",
    "        self.executionPrices.append(execution)\n",
    "        self.unfilledVolume -= execution[0] \n",
    "\n",
    "        if self.isBuy:    \n",
    "            self.owner.cash -= execution[0] * execution[1]\n",
    "            self.owner.position += execution[0]\n",
    "        else:\n",
    "            self.owner.cash += execution[0] * execution[1]\n",
    "            self.owner.position -= execution[0]\n",
    "\n",
    "        if self.unfilledVolume == 0:\n",
    "            self.owner.orders.remove(self)\n",
    "\n",
    "\n",
    "    def remove_order(self):\n",
    "        node = self.location\n",
    "        if node != None: #if the location is none the order is unplaced.\n",
    "            if self in node.orders:\n",
    "                node.orders.remove(self)\n",
    "                if len(node.orders) == 0: #deleting the node\n",
    "\n",
    "                    if node.left != None:\n",
    "                        cNode = node.left\n",
    "                        while cNode != None:\n",
    "                            cNode = cNode.right\n",
    "\n",
    "                        node.left.parent = node.parent\n",
    "                        node.parent.left = node.left\n",
    "\n",
    "                        node.right.parent = cNode\n",
    "                        cNode.right = node.right\n",
    "\n",
    "                    else:\n",
    "                        node.parent.left = node.right\n",
    "\n",
    "            else:\n",
    "                return False\n",
    "\n",
    "\n",
    "\n",
    "            \n",
    "            \n",
    "\n"
   ]
  },
  {
   "cell_type": "code",
   "execution_count": null,
   "id": "94f15fac",
   "metadata": {},
   "outputs": [],
   "source": [
    "class Node():\n",
    "    def __init__(self,value,orders = None):\n",
    "        self.value = value\n",
    "        self.left = None\n",
    "        self.right = None\n",
    "        self.parent = None\n",
    "        if orders == None: #for increased efficiency change orders to a linked list but I am to lazy to do that right now\n",
    "            self.orders = []\n",
    "        else:\n",
    "            self.orders = orders\n",
    "\n",
    "    def __str__(self): #does inorder traversal returning all of the orders\n",
    "        output  = []\n",
    "        for order in self.orders:\n",
    "            output.append(str(order))\n",
    "        return \".\\n\".join(output)\n",
    "\n",
    "    def in_order(self):\n",
    "        if self.left != None:\n",
    "            yield from self.left.in_order()\n",
    "\n",
    "        yield self.orders,self\n",
    "        \n",
    "        if self.right != None:\n",
    "            yield from self.right.in_order()\n",
    "\n",
    "\n",
    "    def insert(self,order,direction): \n",
    "        if order.price == self.value:\n",
    "            self.orders.append(order) \n",
    "            order.location = self\n",
    "\n",
    "        elif order.price * direction < self.value * direction: #move to right node\n",
    "            if self.right == None:\n",
    "                self.right = Node(order.price,[order])\n",
    "                self.right.parent = self\n",
    "                order.location = self\n",
    "            else:\n",
    "                self.right.insert(order,direction)\n",
    "\n",
    "        else: #move to left node\n",
    "            if self.left == None:\n",
    "                self.left = Node(order.price,[order])\n",
    "                self.left.parent = self\n",
    "                order.location = self\n",
    "            else:\n",
    "                self.left.insert(order,direction)\n",
    "\n"
   ]
  },
  {
   "cell_type": "code",
   "execution_count": null,
   "id": "d68f6471",
   "metadata": {},
   "outputs": [],
   "source": [
    "class OrderTree():\n",
    "    def __init__(self,isBuy,node = None):\n",
    "        self.head = node\n",
    "        self.isBuy = isBuy\n",
    "\n",
    "    def bestPrice(self):\n",
    "        if self.head == None:\n",
    "            if self.isBuy:\n",
    "                return -math.inf\n",
    "            else:\n",
    "                return math.inf\n",
    "        else:\n",
    "            currentNode = self.head\n",
    "            while currentNode.left is not None:\n",
    "                currentNode = currentNode.left\n",
    "            return currentNode.value\n",
    "\n",
    "    def __str__(self):\n",
    "        header = f\"bestPrice={self.bestPrice()}\"\n",
    "        if self.head == None:\n",
    "            tree = \"empty\"\n",
    "        else:\n",
    "            tree = \".\\n\".join([str(order) for orders,_ in self.head.in_order() for order in orders])\n",
    "        return header + '\\n' + tree\n",
    "\n",
    "\n",
    "    def insertOrder(self,order): \n",
    "        if self.head is None: #to optimize use a self balancing tree\n",
    "            self.head = Node(order.price, [order])\n",
    "        else:\n",
    "            direction = 1 if self.isBuy else -1\n",
    "            self.head.insert(order, direction)\n"
   ]
  },
  {
   "cell_type": "code",
   "execution_count": 857,
   "id": "0d8cdf50",
   "metadata": {},
   "outputs": [],
   "source": [
    "class orderbook:\n",
    "    def __init__(self):\n",
    "        self.sells = OrderTree(False)\n",
    "        self.buys = OrderTree(True)\n",
    "\n",
    "\n",
    "    def __str__(self):\n",
    "        return \"---------------\\nBuy Book \\n---------------\\n\" + str(self.buys) + \"\\n\" + \"---------------\\nSell Book \\n---------------\\n\" + str(self.sells) \n",
    "\n",
    "    def submitOrder(self,order): #ensure that it checks that the price is still currently a valid price\n",
    "\n",
    "        deleteNodes = []\n",
    "        \n",
    "        if order.isBuy: #submitting a buy order\n",
    "            if order.price < self.sells.bestPrice(): #no order fill\n",
    "                self.buys.insertOrder(order)\n",
    "            else: #order fillable\n",
    "                for existingOrders, currentNode in self.sells.head.in_order(): # fills order on root node\n",
    "\n",
    "                    if order.price < currentNode.value:\n",
    "                        break\n",
    "                    updatedOrders = []\n",
    "\n",
    "                    for existingOrder in existingOrders:\n",
    "                        if existingOrder.unfilledVolume <= order.unfilledVolume:\n",
    "                            #fill entire order\n",
    "                            order.execute((existingOrder.unfilledVolume,existingOrder.price))\n",
    "                            existingOrder.execute((existingOrder.unfilledVolume,existingOrder.price))\n",
    "                        else:\n",
    "                            #partial fill the order\n",
    "                            existingOrder.execute((order.unfilledVolume,existingOrder.price)) #adds tuple of trade execution to the order and sets remaning volume to zero\n",
    "                            order.execute((order.unfilledVolume,existingOrder.price))\n",
    "                            updatedOrders.append(existingOrder)\n",
    "                            break\n",
    "                        if existingOrder.unfilledVolume > 0:\n",
    "                            updatedOrders.append(existingOrder)\n",
    "\n",
    "                    currentNode.orders = updatedOrders\n",
    "                    if len(updatedOrders) == 0:\n",
    "                        deleteNodes.append(currentNode)\n",
    "\n",
    "\n",
    "                    if order.unfilledVolume <= 0:#order is completely filled\n",
    "                        break\n",
    "                if order.unfilledVolume > 0:#insert remaining unfilled volume onto the market\n",
    "                    self.buys.insertOrder(order)\n",
    "\n",
    "                for node in deleteNodes:\n",
    "                    if node.parent == None: \n",
    "                        self.sells.head = self.sells.head.right\n",
    "                        if self.sells.head != None:\n",
    "                            self.sells.head.parent = None\n",
    "                    else:\n",
    "                        if node.right == None:\n",
    "                            node.parent.left = node.right\n",
    "                        else:\n",
    "                            node.right.parent = node.parent\n",
    "                            node.parent.left = node.right\n",
    "                        \n",
    "\n",
    "\n",
    "\n",
    "        else: #submitting a sell order\n",
    "            if order.price > self.buys.bestPrice(): #no order fill\n",
    "                self.sells.insertOrder(order)\n",
    "            else: #order fillable\n",
    "                for existingOrders, currentNode in self.buys.head.in_order(): # fills order on root node\n",
    "\n",
    "                    if order.price > currentNode.value:\n",
    "                        break\n",
    "                    updatedOrders = []\n",
    "\n",
    "                    for existingOrder in existingOrders:\n",
    "                        if existingOrder.unfilledVolume <= order.unfilledVolume:\n",
    "                            #fill entire order\n",
    "                            order.execute((existingOrder.unfilledVolume,existingOrder.price))\n",
    "                            existingOrder.execute((existingOrder.unfilledVolume,existingOrder.price))\n",
    "                        else:\n",
    "                            #partial fill the order\n",
    "                            existingOrder.execute((order.unfilledVolume,existingOrder.price)) #adds tuple of trade execution to the order and sets remaning volume to zero\n",
    "                            order.execute((order.unfilledVolume,existingOrder.price))\n",
    "                            updatedOrders.append(existingOrder)\n",
    "                            break\n",
    "                        if existingOrder.unfilledVolume > 0:\n",
    "                            updatedOrders.append(existingOrder)\n",
    "\n",
    "                    currentNode.orders = updatedOrders\n",
    "                    if len(updatedOrders) == 0:\n",
    "                        deleteNodes.append(currentNode)\n",
    "\n",
    "\n",
    "                    if order.unfilledVolume <= 0:#order is completely filled\n",
    "                        break\n",
    "\n",
    "                if order.unfilledVolume > 0: #insert remaining unfilled volume onto the market\n",
    "                    self.sells.insertOrder(order)\n",
    "        \n",
    "                for node in deleteNodes:\n",
    "                    if node.parent == None: \n",
    "                        self.buys.head = self.buys.head.right\n",
    "                        if self.buys.head != None:\n",
    "                            self.buys.head.parent = None\n",
    "                    else:\n",
    "                        if node.right == None:\n",
    "                            node.parent.left = node.right\n",
    "                        else:\n",
    "                            node.right.parent = node.parent\n",
    "                            node.parent.left = node.right\\\n",
    "                            \n",
    "    def cancelOrder(self):\n",
    "        pass"
   ]
  },
  {
   "cell_type": "code",
   "execution_count": null,
   "id": "62a4d384",
   "metadata": {},
   "outputs": [],
   "source": [
    "class member:\n",
    "    def __init__(self,cash):\n",
    "        self.cash = cash\n",
    "        self.position = 0\n",
    "        self.orders = []"
   ]
  },
  {
   "cell_type": "code",
   "execution_count": null,
   "id": "36e8ca51",
   "metadata": {},
   "outputs": [],
   "source": []
  },
  {
   "cell_type": "code",
   "execution_count": 859,
   "id": "882c159e",
   "metadata": {},
   "outputs": [
    {
     "name": "stdout",
     "output_type": "stream",
     "text": [
      "---------------\n",
      "Buy Book \n",
      "---------------\n",
      "bestPrice=100\n",
      "Owner=None, Price=100, Volume=40, Unfilled=20\n",
      "---------------\n",
      "Sell Book \n",
      "---------------\n",
      "bestPrice=150\n",
      "Owner=None, Price=150, Volume=40, Unfilled=40\n"
     ]
    }
   ],
   "source": [
    "exchange = orderbook()\n",
    "\n",
    "order1 = Order(100,40,True)\n",
    "order2 = Order(120,40,True)\n",
    "\n",
    "\n",
    "exchange.submitOrder(order1)\n",
    "exchange.submitOrder(order2)\n",
    "\n",
    "a = Order(150,40,False)\n",
    "exchange.submitOrder(a)\n",
    "\n",
    "\n",
    "a = Order(100,60,False)\n",
    "exchange.submitOrder(a)\n",
    "\n",
    "print(exchange)\n"
   ]
  },
  {
   "cell_type": "code",
   "execution_count": 860,
   "id": "8cd84cc6",
   "metadata": {},
   "outputs": [
    {
     "name": "stdout",
     "output_type": "stream",
     "text": [
      "---------------\n",
      "Buy Book \n",
      "---------------\n",
      "bestPrice=488.0\n",
      "Owner=None, Price=488.0, Volume=462, Unfilled=31.\n",
      "Owner=None, Price=487.0, Volume=43, Unfilled=43.\n",
      "Owner=None, Price=487.0, Volume=357, Unfilled=357.\n",
      "Owner=None, Price=485.0, Volume=212, Unfilled=212.\n",
      "Owner=None, Price=481.0, Volume=30, Unfilled=30.\n",
      "Owner=None, Price=479.0, Volume=48, Unfilled=48.\n",
      "Owner=None, Price=477.0, Volume=383, Unfilled=383.\n",
      "Owner=None, Price=476.0, Volume=155, Unfilled=155.\n",
      "Owner=None, Price=470.0, Volume=218, Unfilled=218.\n",
      "Owner=None, Price=461.0, Volume=169, Unfilled=169.\n",
      "Owner=None, Price=458.0, Volume=54, Unfilled=54.\n",
      "Owner=None, Price=457.0, Volume=45, Unfilled=45.\n",
      "Owner=None, Price=452.0, Volume=436, Unfilled=436.\n",
      "Owner=None, Price=452.0, Volume=432, Unfilled=432.\n",
      "Owner=None, Price=446.0, Volume=137, Unfilled=137\n",
      "---------------\n",
      "Sell Book \n",
      "---------------\n",
      "bestPrice=489.0\n",
      "Owner=None, Price=489.0, Volume=442, Unfilled=201.\n",
      "Owner=None, Price=493.0, Volume=484, Unfilled=484.\n",
      "Owner=None, Price=519.0, Volume=459, Unfilled=226.\n",
      "Owner=None, Price=521.0, Volume=152, Unfilled=152.\n",
      "Owner=None, Price=522.0, Volume=248, Unfilled=248.\n",
      "Owner=None, Price=540.0, Volume=143, Unfilled=143.\n",
      "Owner=None, Price=542.0, Volume=34, Unfilled=34\n"
     ]
    }
   ],
   "source": [
    "import random\n",
    "exchange = orderbook()\n",
    "\n",
    "for x in range(100):\n",
    "    \n",
    "    order1 = Order(np.floor(np.random.normal()* 25) + 500,random.randint(1,500),False)\n",
    "    order2 = Order(np.floor(np.random.normal()* 25) + 495,random.randint(1,500),True)\n",
    "    exchange.submitOrder(random.choice([order1,order2]))\n",
    "\n",
    "\n",
    "'''\n",
    "for x in range(1000):\n",
    "    try:\n",
    "        mid_price = int((exchange.sells.bestPrice() + exchange.buys.bestPrice())/2)\n",
    "    except:\n",
    "        mid_price = 500\n",
    "\n",
    "    \n",
    "    order1 = Order(np.floor(np.random.normal()* 25) + mid_price+2,random.randint(1,500),False)\n",
    "    order2 = Order(np.floor(np.random.normal()* 25) + mid_price-2,random.randint(1,500),True)\n",
    "    exchange.submitOrder(random.choice([order1,order2]))\n",
    "'''\n",
    "\n",
    "print(exchange)"
   ]
  },
  {
   "cell_type": "code",
   "execution_count": 861,
   "id": "446ecb9f",
   "metadata": {},
   "outputs": [
    {
     "data": {
      "application/vnd.plotly.v1+json": {
       "config": {
        "plotlyServerURL": "https://plot.ly"
       },
       "data": [
        {
         "line": {
          "color": "green",
          "shape": "hv"
         },
         "mode": "lines+markers",
         "name": "Bids (Buy)",
         "type": "scatter",
         "x": [
          488,
          487,
          485,
          481,
          479,
          477,
          476,
          470,
          461,
          458,
          457,
          452,
          446
         ],
         "y": [
          31,
          431,
          643,
          673,
          721,
          1104,
          1259,
          1477,
          1646,
          1700,
          1745,
          2613,
          2750
         ]
        },
        {
         "line": {
          "color": "red",
          "shape": "hv"
         },
         "mode": "lines+markers",
         "name": "Asks (Sell)",
         "type": "scatter",
         "x": [
          489,
          493,
          519,
          521,
          522,
          540,
          542
         ],
         "y": [
          201,
          685,
          911,
          1063,
          1311,
          1454,
          1488
         ]
        }
       ],
       "layout": {
        "template": {
         "data": {
          "bar": [
           {
            "error_x": {
             "color": "#2a3f5f"
            },
            "error_y": {
             "color": "#2a3f5f"
            },
            "marker": {
             "line": {
              "color": "white",
              "width": 0.5
             },
             "pattern": {
              "fillmode": "overlay",
              "size": 10,
              "solidity": 0.2
             }
            },
            "type": "bar"
           }
          ],
          "barpolar": [
           {
            "marker": {
             "line": {
              "color": "white",
              "width": 0.5
             },
             "pattern": {
              "fillmode": "overlay",
              "size": 10,
              "solidity": 0.2
             }
            },
            "type": "barpolar"
           }
          ],
          "carpet": [
           {
            "aaxis": {
             "endlinecolor": "#2a3f5f",
             "gridcolor": "#C8D4E3",
             "linecolor": "#C8D4E3",
             "minorgridcolor": "#C8D4E3",
             "startlinecolor": "#2a3f5f"
            },
            "baxis": {
             "endlinecolor": "#2a3f5f",
             "gridcolor": "#C8D4E3",
             "linecolor": "#C8D4E3",
             "minorgridcolor": "#C8D4E3",
             "startlinecolor": "#2a3f5f"
            },
            "type": "carpet"
           }
          ],
          "choropleth": [
           {
            "colorbar": {
             "outlinewidth": 0,
             "ticks": ""
            },
            "type": "choropleth"
           }
          ],
          "contour": [
           {
            "colorbar": {
             "outlinewidth": 0,
             "ticks": ""
            },
            "colorscale": [
             [
              0,
              "#0d0887"
             ],
             [
              0.1111111111111111,
              "#46039f"
             ],
             [
              0.2222222222222222,
              "#7201a8"
             ],
             [
              0.3333333333333333,
              "#9c179e"
             ],
             [
              0.4444444444444444,
              "#bd3786"
             ],
             [
              0.5555555555555556,
              "#d8576b"
             ],
             [
              0.6666666666666666,
              "#ed7953"
             ],
             [
              0.7777777777777778,
              "#fb9f3a"
             ],
             [
              0.8888888888888888,
              "#fdca26"
             ],
             [
              1,
              "#f0f921"
             ]
            ],
            "type": "contour"
           }
          ],
          "contourcarpet": [
           {
            "colorbar": {
             "outlinewidth": 0,
             "ticks": ""
            },
            "type": "contourcarpet"
           }
          ],
          "heatmap": [
           {
            "colorbar": {
             "outlinewidth": 0,
             "ticks": ""
            },
            "colorscale": [
             [
              0,
              "#0d0887"
             ],
             [
              0.1111111111111111,
              "#46039f"
             ],
             [
              0.2222222222222222,
              "#7201a8"
             ],
             [
              0.3333333333333333,
              "#9c179e"
             ],
             [
              0.4444444444444444,
              "#bd3786"
             ],
             [
              0.5555555555555556,
              "#d8576b"
             ],
             [
              0.6666666666666666,
              "#ed7953"
             ],
             [
              0.7777777777777778,
              "#fb9f3a"
             ],
             [
              0.8888888888888888,
              "#fdca26"
             ],
             [
              1,
              "#f0f921"
             ]
            ],
            "type": "heatmap"
           }
          ],
          "heatmapgl": [
           {
            "colorbar": {
             "outlinewidth": 0,
             "ticks": ""
            },
            "colorscale": [
             [
              0,
              "#0d0887"
             ],
             [
              0.1111111111111111,
              "#46039f"
             ],
             [
              0.2222222222222222,
              "#7201a8"
             ],
             [
              0.3333333333333333,
              "#9c179e"
             ],
             [
              0.4444444444444444,
              "#bd3786"
             ],
             [
              0.5555555555555556,
              "#d8576b"
             ],
             [
              0.6666666666666666,
              "#ed7953"
             ],
             [
              0.7777777777777778,
              "#fb9f3a"
             ],
             [
              0.8888888888888888,
              "#fdca26"
             ],
             [
              1,
              "#f0f921"
             ]
            ],
            "type": "heatmapgl"
           }
          ],
          "histogram": [
           {
            "marker": {
             "pattern": {
              "fillmode": "overlay",
              "size": 10,
              "solidity": 0.2
             }
            },
            "type": "histogram"
           }
          ],
          "histogram2d": [
           {
            "colorbar": {
             "outlinewidth": 0,
             "ticks": ""
            },
            "colorscale": [
             [
              0,
              "#0d0887"
             ],
             [
              0.1111111111111111,
              "#46039f"
             ],
             [
              0.2222222222222222,
              "#7201a8"
             ],
             [
              0.3333333333333333,
              "#9c179e"
             ],
             [
              0.4444444444444444,
              "#bd3786"
             ],
             [
              0.5555555555555556,
              "#d8576b"
             ],
             [
              0.6666666666666666,
              "#ed7953"
             ],
             [
              0.7777777777777778,
              "#fb9f3a"
             ],
             [
              0.8888888888888888,
              "#fdca26"
             ],
             [
              1,
              "#f0f921"
             ]
            ],
            "type": "histogram2d"
           }
          ],
          "histogram2dcontour": [
           {
            "colorbar": {
             "outlinewidth": 0,
             "ticks": ""
            },
            "colorscale": [
             [
              0,
              "#0d0887"
             ],
             [
              0.1111111111111111,
              "#46039f"
             ],
             [
              0.2222222222222222,
              "#7201a8"
             ],
             [
              0.3333333333333333,
              "#9c179e"
             ],
             [
              0.4444444444444444,
              "#bd3786"
             ],
             [
              0.5555555555555556,
              "#d8576b"
             ],
             [
              0.6666666666666666,
              "#ed7953"
             ],
             [
              0.7777777777777778,
              "#fb9f3a"
             ],
             [
              0.8888888888888888,
              "#fdca26"
             ],
             [
              1,
              "#f0f921"
             ]
            ],
            "type": "histogram2dcontour"
           }
          ],
          "mesh3d": [
           {
            "colorbar": {
             "outlinewidth": 0,
             "ticks": ""
            },
            "type": "mesh3d"
           }
          ],
          "parcoords": [
           {
            "line": {
             "colorbar": {
              "outlinewidth": 0,
              "ticks": ""
             }
            },
            "type": "parcoords"
           }
          ],
          "pie": [
           {
            "automargin": true,
            "type": "pie"
           }
          ],
          "scatter": [
           {
            "fillpattern": {
             "fillmode": "overlay",
             "size": 10,
             "solidity": 0.2
            },
            "type": "scatter"
           }
          ],
          "scatter3d": [
           {
            "line": {
             "colorbar": {
              "outlinewidth": 0,
              "ticks": ""
             }
            },
            "marker": {
             "colorbar": {
              "outlinewidth": 0,
              "ticks": ""
             }
            },
            "type": "scatter3d"
           }
          ],
          "scattercarpet": [
           {
            "marker": {
             "colorbar": {
              "outlinewidth": 0,
              "ticks": ""
             }
            },
            "type": "scattercarpet"
           }
          ],
          "scattergeo": [
           {
            "marker": {
             "colorbar": {
              "outlinewidth": 0,
              "ticks": ""
             }
            },
            "type": "scattergeo"
           }
          ],
          "scattergl": [
           {
            "marker": {
             "colorbar": {
              "outlinewidth": 0,
              "ticks": ""
             }
            },
            "type": "scattergl"
           }
          ],
          "scattermapbox": [
           {
            "marker": {
             "colorbar": {
              "outlinewidth": 0,
              "ticks": ""
             }
            },
            "type": "scattermapbox"
           }
          ],
          "scatterpolar": [
           {
            "marker": {
             "colorbar": {
              "outlinewidth": 0,
              "ticks": ""
             }
            },
            "type": "scatterpolar"
           }
          ],
          "scatterpolargl": [
           {
            "marker": {
             "colorbar": {
              "outlinewidth": 0,
              "ticks": ""
             }
            },
            "type": "scatterpolargl"
           }
          ],
          "scatterternary": [
           {
            "marker": {
             "colorbar": {
              "outlinewidth": 0,
              "ticks": ""
             }
            },
            "type": "scatterternary"
           }
          ],
          "surface": [
           {
            "colorbar": {
             "outlinewidth": 0,
             "ticks": ""
            },
            "colorscale": [
             [
              0,
              "#0d0887"
             ],
             [
              0.1111111111111111,
              "#46039f"
             ],
             [
              0.2222222222222222,
              "#7201a8"
             ],
             [
              0.3333333333333333,
              "#9c179e"
             ],
             [
              0.4444444444444444,
              "#bd3786"
             ],
             [
              0.5555555555555556,
              "#d8576b"
             ],
             [
              0.6666666666666666,
              "#ed7953"
             ],
             [
              0.7777777777777778,
              "#fb9f3a"
             ],
             [
              0.8888888888888888,
              "#fdca26"
             ],
             [
              1,
              "#f0f921"
             ]
            ],
            "type": "surface"
           }
          ],
          "table": [
           {
            "cells": {
             "fill": {
              "color": "#EBF0F8"
             },
             "line": {
              "color": "white"
             }
            },
            "header": {
             "fill": {
              "color": "#C8D4E3"
             },
             "line": {
              "color": "white"
             }
            },
            "type": "table"
           }
          ]
         },
         "layout": {
          "annotationdefaults": {
           "arrowcolor": "#2a3f5f",
           "arrowhead": 0,
           "arrowwidth": 1
          },
          "autotypenumbers": "strict",
          "coloraxis": {
           "colorbar": {
            "outlinewidth": 0,
            "ticks": ""
           }
          },
          "colorscale": {
           "diverging": [
            [
             0,
             "#8e0152"
            ],
            [
             0.1,
             "#c51b7d"
            ],
            [
             0.2,
             "#de77ae"
            ],
            [
             0.3,
             "#f1b6da"
            ],
            [
             0.4,
             "#fde0ef"
            ],
            [
             0.5,
             "#f7f7f7"
            ],
            [
             0.6,
             "#e6f5d0"
            ],
            [
             0.7,
             "#b8e186"
            ],
            [
             0.8,
             "#7fbc41"
            ],
            [
             0.9,
             "#4d9221"
            ],
            [
             1,
             "#276419"
            ]
           ],
           "sequential": [
            [
             0,
             "#0d0887"
            ],
            [
             0.1111111111111111,
             "#46039f"
            ],
            [
             0.2222222222222222,
             "#7201a8"
            ],
            [
             0.3333333333333333,
             "#9c179e"
            ],
            [
             0.4444444444444444,
             "#bd3786"
            ],
            [
             0.5555555555555556,
             "#d8576b"
            ],
            [
             0.6666666666666666,
             "#ed7953"
            ],
            [
             0.7777777777777778,
             "#fb9f3a"
            ],
            [
             0.8888888888888888,
             "#fdca26"
            ],
            [
             1,
             "#f0f921"
            ]
           ],
           "sequentialminus": [
            [
             0,
             "#0d0887"
            ],
            [
             0.1111111111111111,
             "#46039f"
            ],
            [
             0.2222222222222222,
             "#7201a8"
            ],
            [
             0.3333333333333333,
             "#9c179e"
            ],
            [
             0.4444444444444444,
             "#bd3786"
            ],
            [
             0.5555555555555556,
             "#d8576b"
            ],
            [
             0.6666666666666666,
             "#ed7953"
            ],
            [
             0.7777777777777778,
             "#fb9f3a"
            ],
            [
             0.8888888888888888,
             "#fdca26"
            ],
            [
             1,
             "#f0f921"
            ]
           ]
          },
          "colorway": [
           "#636efa",
           "#EF553B",
           "#00cc96",
           "#ab63fa",
           "#FFA15A",
           "#19d3f3",
           "#FF6692",
           "#B6E880",
           "#FF97FF",
           "#FECB52"
          ],
          "font": {
           "color": "#2a3f5f"
          },
          "geo": {
           "bgcolor": "white",
           "lakecolor": "white",
           "landcolor": "white",
           "showlakes": true,
           "showland": true,
           "subunitcolor": "#C8D4E3"
          },
          "hoverlabel": {
           "align": "left"
          },
          "hovermode": "closest",
          "mapbox": {
           "style": "light"
          },
          "paper_bgcolor": "white",
          "plot_bgcolor": "white",
          "polar": {
           "angularaxis": {
            "gridcolor": "#EBF0F8",
            "linecolor": "#EBF0F8",
            "ticks": ""
           },
           "bgcolor": "white",
           "radialaxis": {
            "gridcolor": "#EBF0F8",
            "linecolor": "#EBF0F8",
            "ticks": ""
           }
          },
          "scene": {
           "xaxis": {
            "backgroundcolor": "white",
            "gridcolor": "#DFE8F3",
            "gridwidth": 2,
            "linecolor": "#EBF0F8",
            "showbackground": true,
            "ticks": "",
            "zerolinecolor": "#EBF0F8"
           },
           "yaxis": {
            "backgroundcolor": "white",
            "gridcolor": "#DFE8F3",
            "gridwidth": 2,
            "linecolor": "#EBF0F8",
            "showbackground": true,
            "ticks": "",
            "zerolinecolor": "#EBF0F8"
           },
           "zaxis": {
            "backgroundcolor": "white",
            "gridcolor": "#DFE8F3",
            "gridwidth": 2,
            "linecolor": "#EBF0F8",
            "showbackground": true,
            "ticks": "",
            "zerolinecolor": "#EBF0F8"
           }
          },
          "shapedefaults": {
           "line": {
            "color": "#2a3f5f"
           }
          },
          "ternary": {
           "aaxis": {
            "gridcolor": "#DFE8F3",
            "linecolor": "#A2B1C6",
            "ticks": ""
           },
           "baxis": {
            "gridcolor": "#DFE8F3",
            "linecolor": "#A2B1C6",
            "ticks": ""
           },
           "bgcolor": "white",
           "caxis": {
            "gridcolor": "#DFE8F3",
            "linecolor": "#A2B1C6",
            "ticks": ""
           }
          },
          "title": {
           "x": 0.05
          },
          "xaxis": {
           "automargin": true,
           "gridcolor": "#EBF0F8",
           "linecolor": "#EBF0F8",
           "ticks": "",
           "title": {
            "standoff": 15
           },
           "zerolinecolor": "#EBF0F8",
           "zerolinewidth": 2
          },
          "yaxis": {
           "automargin": true,
           "gridcolor": "#EBF0F8",
           "linecolor": "#EBF0F8",
           "ticks": "",
           "title": {
            "standoff": 15
           },
           "zerolinecolor": "#EBF0F8",
           "zerolinewidth": 2
          }
         }
        },
        "title": {
         "text": "Order Book Depth Chart"
        },
        "xaxis": {
         "title": {
          "text": "Price"
         },
         "type": "linear"
        },
        "yaxis": {
         "title": {
          "text": "Cumulative Volume"
         },
         "type": "linear"
        }
       }
      },
      "text/html": [
       "<div>                            <div id=\"e4a27215-b321-435d-9fec-a5853ac389ae\" class=\"plotly-graph-div\" style=\"height:525px; width:100%;\"></div>            <script type=\"text/javascript\">                require([\"plotly\"], function(Plotly) {                    window.PLOTLYENV=window.PLOTLYENV || {};                                    if (document.getElementById(\"e4a27215-b321-435d-9fec-a5853ac389ae\")) {                    Plotly.newPlot(                        \"e4a27215-b321-435d-9fec-a5853ac389ae\",                        [{\"line\":{\"color\":\"green\",\"shape\":\"hv\"},\"mode\":\"lines+markers\",\"name\":\"Bids (Buy)\",\"x\":[488.0,487.0,485.0,481.0,479.0,477.0,476.0,470.0,461.0,458.0,457.0,452.0,446.0],\"y\":[31,431,643,673,721,1104,1259,1477,1646,1700,1745,2613,2750],\"type\":\"scatter\"},{\"line\":{\"color\":\"red\",\"shape\":\"hv\"},\"mode\":\"lines+markers\",\"name\":\"Asks (Sell)\",\"x\":[489.0,493.0,519.0,521.0,522.0,540.0,542.0],\"y\":[201,685,911,1063,1311,1454,1488],\"type\":\"scatter\"}],                        {\"template\":{\"data\":{\"barpolar\":[{\"marker\":{\"line\":{\"color\":\"white\",\"width\":0.5},\"pattern\":{\"fillmode\":\"overlay\",\"size\":10,\"solidity\":0.2}},\"type\":\"barpolar\"}],\"bar\":[{\"error_x\":{\"color\":\"#2a3f5f\"},\"error_y\":{\"color\":\"#2a3f5f\"},\"marker\":{\"line\":{\"color\":\"white\",\"width\":0.5},\"pattern\":{\"fillmode\":\"overlay\",\"size\":10,\"solidity\":0.2}},\"type\":\"bar\"}],\"carpet\":[{\"aaxis\":{\"endlinecolor\":\"#2a3f5f\",\"gridcolor\":\"#C8D4E3\",\"linecolor\":\"#C8D4E3\",\"minorgridcolor\":\"#C8D4E3\",\"startlinecolor\":\"#2a3f5f\"},\"baxis\":{\"endlinecolor\":\"#2a3f5f\",\"gridcolor\":\"#C8D4E3\",\"linecolor\":\"#C8D4E3\",\"minorgridcolor\":\"#C8D4E3\",\"startlinecolor\":\"#2a3f5f\"},\"type\":\"carpet\"}],\"choropleth\":[{\"colorbar\":{\"outlinewidth\":0,\"ticks\":\"\"},\"type\":\"choropleth\"}],\"contourcarpet\":[{\"colorbar\":{\"outlinewidth\":0,\"ticks\":\"\"},\"type\":\"contourcarpet\"}],\"contour\":[{\"colorbar\":{\"outlinewidth\":0,\"ticks\":\"\"},\"colorscale\":[[0.0,\"#0d0887\"],[0.1111111111111111,\"#46039f\"],[0.2222222222222222,\"#7201a8\"],[0.3333333333333333,\"#9c179e\"],[0.4444444444444444,\"#bd3786\"],[0.5555555555555556,\"#d8576b\"],[0.6666666666666666,\"#ed7953\"],[0.7777777777777778,\"#fb9f3a\"],[0.8888888888888888,\"#fdca26\"],[1.0,\"#f0f921\"]],\"type\":\"contour\"}],\"heatmapgl\":[{\"colorbar\":{\"outlinewidth\":0,\"ticks\":\"\"},\"colorscale\":[[0.0,\"#0d0887\"],[0.1111111111111111,\"#46039f\"],[0.2222222222222222,\"#7201a8\"],[0.3333333333333333,\"#9c179e\"],[0.4444444444444444,\"#bd3786\"],[0.5555555555555556,\"#d8576b\"],[0.6666666666666666,\"#ed7953\"],[0.7777777777777778,\"#fb9f3a\"],[0.8888888888888888,\"#fdca26\"],[1.0,\"#f0f921\"]],\"type\":\"heatmapgl\"}],\"heatmap\":[{\"colorbar\":{\"outlinewidth\":0,\"ticks\":\"\"},\"colorscale\":[[0.0,\"#0d0887\"],[0.1111111111111111,\"#46039f\"],[0.2222222222222222,\"#7201a8\"],[0.3333333333333333,\"#9c179e\"],[0.4444444444444444,\"#bd3786\"],[0.5555555555555556,\"#d8576b\"],[0.6666666666666666,\"#ed7953\"],[0.7777777777777778,\"#fb9f3a\"],[0.8888888888888888,\"#fdca26\"],[1.0,\"#f0f921\"]],\"type\":\"heatmap\"}],\"histogram2dcontour\":[{\"colorbar\":{\"outlinewidth\":0,\"ticks\":\"\"},\"colorscale\":[[0.0,\"#0d0887\"],[0.1111111111111111,\"#46039f\"],[0.2222222222222222,\"#7201a8\"],[0.3333333333333333,\"#9c179e\"],[0.4444444444444444,\"#bd3786\"],[0.5555555555555556,\"#d8576b\"],[0.6666666666666666,\"#ed7953\"],[0.7777777777777778,\"#fb9f3a\"],[0.8888888888888888,\"#fdca26\"],[1.0,\"#f0f921\"]],\"type\":\"histogram2dcontour\"}],\"histogram2d\":[{\"colorbar\":{\"outlinewidth\":0,\"ticks\":\"\"},\"colorscale\":[[0.0,\"#0d0887\"],[0.1111111111111111,\"#46039f\"],[0.2222222222222222,\"#7201a8\"],[0.3333333333333333,\"#9c179e\"],[0.4444444444444444,\"#bd3786\"],[0.5555555555555556,\"#d8576b\"],[0.6666666666666666,\"#ed7953\"],[0.7777777777777778,\"#fb9f3a\"],[0.8888888888888888,\"#fdca26\"],[1.0,\"#f0f921\"]],\"type\":\"histogram2d\"}],\"histogram\":[{\"marker\":{\"pattern\":{\"fillmode\":\"overlay\",\"size\":10,\"solidity\":0.2}},\"type\":\"histogram\"}],\"mesh3d\":[{\"colorbar\":{\"outlinewidth\":0,\"ticks\":\"\"},\"type\":\"mesh3d\"}],\"parcoords\":[{\"line\":{\"colorbar\":{\"outlinewidth\":0,\"ticks\":\"\"}},\"type\":\"parcoords\"}],\"pie\":[{\"automargin\":true,\"type\":\"pie\"}],\"scatter3d\":[{\"line\":{\"colorbar\":{\"outlinewidth\":0,\"ticks\":\"\"}},\"marker\":{\"colorbar\":{\"outlinewidth\":0,\"ticks\":\"\"}},\"type\":\"scatter3d\"}],\"scattercarpet\":[{\"marker\":{\"colorbar\":{\"outlinewidth\":0,\"ticks\":\"\"}},\"type\":\"scattercarpet\"}],\"scattergeo\":[{\"marker\":{\"colorbar\":{\"outlinewidth\":0,\"ticks\":\"\"}},\"type\":\"scattergeo\"}],\"scattergl\":[{\"marker\":{\"colorbar\":{\"outlinewidth\":0,\"ticks\":\"\"}},\"type\":\"scattergl\"}],\"scattermapbox\":[{\"marker\":{\"colorbar\":{\"outlinewidth\":0,\"ticks\":\"\"}},\"type\":\"scattermapbox\"}],\"scatterpolargl\":[{\"marker\":{\"colorbar\":{\"outlinewidth\":0,\"ticks\":\"\"}},\"type\":\"scatterpolargl\"}],\"scatterpolar\":[{\"marker\":{\"colorbar\":{\"outlinewidth\":0,\"ticks\":\"\"}},\"type\":\"scatterpolar\"}],\"scatter\":[{\"fillpattern\":{\"fillmode\":\"overlay\",\"size\":10,\"solidity\":0.2},\"type\":\"scatter\"}],\"scatterternary\":[{\"marker\":{\"colorbar\":{\"outlinewidth\":0,\"ticks\":\"\"}},\"type\":\"scatterternary\"}],\"surface\":[{\"colorbar\":{\"outlinewidth\":0,\"ticks\":\"\"},\"colorscale\":[[0.0,\"#0d0887\"],[0.1111111111111111,\"#46039f\"],[0.2222222222222222,\"#7201a8\"],[0.3333333333333333,\"#9c179e\"],[0.4444444444444444,\"#bd3786\"],[0.5555555555555556,\"#d8576b\"],[0.6666666666666666,\"#ed7953\"],[0.7777777777777778,\"#fb9f3a\"],[0.8888888888888888,\"#fdca26\"],[1.0,\"#f0f921\"]],\"type\":\"surface\"}],\"table\":[{\"cells\":{\"fill\":{\"color\":\"#EBF0F8\"},\"line\":{\"color\":\"white\"}},\"header\":{\"fill\":{\"color\":\"#C8D4E3\"},\"line\":{\"color\":\"white\"}},\"type\":\"table\"}]},\"layout\":{\"annotationdefaults\":{\"arrowcolor\":\"#2a3f5f\",\"arrowhead\":0,\"arrowwidth\":1},\"autotypenumbers\":\"strict\",\"coloraxis\":{\"colorbar\":{\"outlinewidth\":0,\"ticks\":\"\"}},\"colorscale\":{\"diverging\":[[0,\"#8e0152\"],[0.1,\"#c51b7d\"],[0.2,\"#de77ae\"],[0.3,\"#f1b6da\"],[0.4,\"#fde0ef\"],[0.5,\"#f7f7f7\"],[0.6,\"#e6f5d0\"],[0.7,\"#b8e186\"],[0.8,\"#7fbc41\"],[0.9,\"#4d9221\"],[1,\"#276419\"]],\"sequential\":[[0.0,\"#0d0887\"],[0.1111111111111111,\"#46039f\"],[0.2222222222222222,\"#7201a8\"],[0.3333333333333333,\"#9c179e\"],[0.4444444444444444,\"#bd3786\"],[0.5555555555555556,\"#d8576b\"],[0.6666666666666666,\"#ed7953\"],[0.7777777777777778,\"#fb9f3a\"],[0.8888888888888888,\"#fdca26\"],[1.0,\"#f0f921\"]],\"sequentialminus\":[[0.0,\"#0d0887\"],[0.1111111111111111,\"#46039f\"],[0.2222222222222222,\"#7201a8\"],[0.3333333333333333,\"#9c179e\"],[0.4444444444444444,\"#bd3786\"],[0.5555555555555556,\"#d8576b\"],[0.6666666666666666,\"#ed7953\"],[0.7777777777777778,\"#fb9f3a\"],[0.8888888888888888,\"#fdca26\"],[1.0,\"#f0f921\"]]},\"colorway\":[\"#636efa\",\"#EF553B\",\"#00cc96\",\"#ab63fa\",\"#FFA15A\",\"#19d3f3\",\"#FF6692\",\"#B6E880\",\"#FF97FF\",\"#FECB52\"],\"font\":{\"color\":\"#2a3f5f\"},\"geo\":{\"bgcolor\":\"white\",\"lakecolor\":\"white\",\"landcolor\":\"white\",\"showlakes\":true,\"showland\":true,\"subunitcolor\":\"#C8D4E3\"},\"hoverlabel\":{\"align\":\"left\"},\"hovermode\":\"closest\",\"mapbox\":{\"style\":\"light\"},\"paper_bgcolor\":\"white\",\"plot_bgcolor\":\"white\",\"polar\":{\"angularaxis\":{\"gridcolor\":\"#EBF0F8\",\"linecolor\":\"#EBF0F8\",\"ticks\":\"\"},\"bgcolor\":\"white\",\"radialaxis\":{\"gridcolor\":\"#EBF0F8\",\"linecolor\":\"#EBF0F8\",\"ticks\":\"\"}},\"scene\":{\"xaxis\":{\"backgroundcolor\":\"white\",\"gridcolor\":\"#DFE8F3\",\"gridwidth\":2,\"linecolor\":\"#EBF0F8\",\"showbackground\":true,\"ticks\":\"\",\"zerolinecolor\":\"#EBF0F8\"},\"yaxis\":{\"backgroundcolor\":\"white\",\"gridcolor\":\"#DFE8F3\",\"gridwidth\":2,\"linecolor\":\"#EBF0F8\",\"showbackground\":true,\"ticks\":\"\",\"zerolinecolor\":\"#EBF0F8\"},\"zaxis\":{\"backgroundcolor\":\"white\",\"gridcolor\":\"#DFE8F3\",\"gridwidth\":2,\"linecolor\":\"#EBF0F8\",\"showbackground\":true,\"ticks\":\"\",\"zerolinecolor\":\"#EBF0F8\"}},\"shapedefaults\":{\"line\":{\"color\":\"#2a3f5f\"}},\"ternary\":{\"aaxis\":{\"gridcolor\":\"#DFE8F3\",\"linecolor\":\"#A2B1C6\",\"ticks\":\"\"},\"baxis\":{\"gridcolor\":\"#DFE8F3\",\"linecolor\":\"#A2B1C6\",\"ticks\":\"\"},\"bgcolor\":\"white\",\"caxis\":{\"gridcolor\":\"#DFE8F3\",\"linecolor\":\"#A2B1C6\",\"ticks\":\"\"}},\"title\":{\"x\":0.05},\"xaxis\":{\"automargin\":true,\"gridcolor\":\"#EBF0F8\",\"linecolor\":\"#EBF0F8\",\"ticks\":\"\",\"title\":{\"standoff\":15},\"zerolinecolor\":\"#EBF0F8\",\"zerolinewidth\":2},\"yaxis\":{\"automargin\":true,\"gridcolor\":\"#EBF0F8\",\"linecolor\":\"#EBF0F8\",\"ticks\":\"\",\"title\":{\"standoff\":15},\"zerolinecolor\":\"#EBF0F8\",\"zerolinewidth\":2}}},\"xaxis\":{\"title\":{\"text\":\"Price\"},\"type\":\"linear\"},\"yaxis\":{\"title\":{\"text\":\"Cumulative Volume\"},\"type\":\"linear\"},\"title\":{\"text\":\"Order Book Depth Chart\"}},                        {\"responsive\": true}                    ).then(function(){\n",
       "                            \n",
       "var gd = document.getElementById('e4a27215-b321-435d-9fec-a5853ac389ae');\n",
       "var x = new MutationObserver(function (mutations, observer) {{\n",
       "        var display = window.getComputedStyle(gd).display;\n",
       "        if (!display || display === 'none') {{\n",
       "            console.log([gd, 'removed!']);\n",
       "            Plotly.purge(gd);\n",
       "            observer.disconnect();\n",
       "        }}\n",
       "}});\n",
       "\n",
       "// Listen for the removal of the full notebook cells\n",
       "var notebookContainer = gd.closest('#notebook-container');\n",
       "if (notebookContainer) {{\n",
       "    x.observe(notebookContainer, {childList: true});\n",
       "}}\n",
       "\n",
       "// Listen for the clearing of the current output cell\n",
       "var outputEl = gd.closest('.output');\n",
       "if (outputEl) {{\n",
       "    x.observe(outputEl, {childList: true});\n",
       "}}\n",
       "\n",
       "                        })                };                });            </script>        </div>"
      ]
     },
     "metadata": {},
     "output_type": "display_data"
    }
   ],
   "source": [
    "#generating a random exchange \n",
    "\n",
    "# Buy side (sorted high to low)\n",
    "\n",
    "\n",
    "buy_prices = []\n",
    "buy_volumes = []\n",
    "\n",
    "for orders, currentNode in exchange.buys.head.in_order():\n",
    "    buy_prices.append(currentNode.value)\n",
    "    buy_volumes.append(sum(order.unfilledVolume for order in orders))\n",
    "\n",
    "# Sell side (sorted low to high)\n",
    "\n",
    "\n",
    "sell_prices = []\n",
    "sell_volumes = []\n",
    "\n",
    "for orders, currentNode in exchange.sells.head.in_order():\n",
    "    sell_prices.append(currentNode.value)\n",
    "    sell_volumes.append(sum(order.unfilledVolume for order in orders))\n",
    "\n",
    "\n",
    "buy_cumvol = np.cumsum(buy_volumes) \n",
    "sell_cumvol = np.cumsum(sell_volumes)           \n",
    "\n",
    "fig = go.Figure()\n",
    "\n",
    "# Buy side (bids)\n",
    "fig.add_trace(go.Scatter(\n",
    "    x=buy_prices,\n",
    "    y=buy_cumvol,\n",
    "    mode='lines+markers',\n",
    "    name='Bids (Buy)',\n",
    "    line=dict(color='green', shape='hv')\n",
    "))\n",
    "\n",
    "# Sell side (asks)\n",
    "fig.add_trace(go.Scatter(\n",
    "    x=sell_prices,\n",
    "    y=sell_cumvol,\n",
    "    mode='lines+markers',\n",
    "    name='Asks (Sell)',\n",
    "    line=dict(color='red', shape='hv')\n",
    "))\n",
    "\n",
    "fig.update_layout(\n",
    "    title='Order Book Depth Chart',\n",
    "    xaxis_title='Price',\n",
    "    yaxis_title='Cumulative Volume',\n",
    "    xaxis=dict(type='linear'),\n",
    "    yaxis=dict(type='linear'),\n",
    "    template='plotly_white'\n",
    ")\n",
    "\n",
    "fig.show()\n"
   ]
  },
  {
   "cell_type": "code",
   "execution_count": 862,
   "id": "ee9d369f",
   "metadata": {},
   "outputs": [
    {
     "data": {
      "application/vnd.plotly.v1+json": {
       "config": {
        "plotlyServerURL": "https://plot.ly"
       },
       "data": [
        {
         "line": {
          "color": "green",
          "shape": "hv"
         },
         "mode": "lines+markers",
         "name": "Bids (Buy)",
         "type": "scatter",
         "x": [
          488,
          487,
          485,
          481,
          479,
          477,
          476,
          470,
          461,
          458,
          457,
          452,
          446
         ],
         "y": [
          31,
          431,
          643,
          673,
          721,
          1104,
          1259,
          1477,
          1646,
          1700,
          1745,
          2613,
          2750
         ]
        },
        {
         "line": {
          "color": "red",
          "shape": "hv"
         },
         "mode": "lines+markers",
         "name": "Asks (Sell)",
         "type": "scatter",
         "x": [
          489,
          493,
          519,
          521,
          522,
          540,
          542
         ],
         "y": [
          201,
          685,
          911,
          1063,
          1311,
          1454,
          1488
         ]
        }
       ],
       "frames": [
        {
         "data": [
          {
           "line": {
            "color": "green",
            "shape": "hv"
           },
           "mode": "lines+markers",
           "type": "scatter",
           "x": [
            488,
            487,
            485,
            481,
            479,
            477,
            476,
            470,
            461,
            458,
            457,
            452,
            446
           ],
           "y": [
            31,
            431,
            643,
            673,
            721,
            1104,
            1259,
            1477,
            1646,
            1700,
            1745,
            2613,
            2750
           ]
          },
          {
           "line": {
            "color": "red",
            "shape": "hv"
           },
           "mode": "lines+markers",
           "type": "scatter",
           "x": [
            489,
            493,
            519,
            521,
            522,
            540,
            542
           ],
           "y": [
            201,
            685,
            911,
            1063,
            1311,
            1454,
            1488
           ]
          }
         ],
         "name": "0"
        },
        {
         "data": [
          {
           "line": {
            "color": "green",
            "shape": "hv"
           },
           "mode": "lines+markers",
           "type": "scatter",
           "x": [
            488,
            487,
            485,
            481,
            479,
            477,
            476,
            470,
            461,
            458,
            457,
            452,
            446
           ],
           "y": [
            31,
            431,
            643,
            673,
            721,
            1104,
            1259,
            1477,
            1646,
            1700,
            1745,
            2613,
            2750
           ]
          },
          {
           "line": {
            "color": "red",
            "shape": "hv"
           },
           "mode": "lines+markers",
           "type": "scatter",
           "x": [
            489,
            493,
            519,
            520,
            521,
            522,
            540,
            542
           ],
           "y": [
            201,
            685,
            911,
            1137,
            1289,
            1537,
            1680,
            1714
           ]
          }
         ],
         "name": "1"
        },
        {
         "data": [
          {
           "line": {
            "color": "green",
            "shape": "hv"
           },
           "mode": "lines+markers",
           "type": "scatter",
           "x": [
            488,
            487,
            485,
            484,
            481,
            479,
            477,
            476,
            470,
            461,
            458,
            457,
            452,
            446
           ],
           "y": [
            31,
            431,
            643,
            1073,
            1103,
            1151,
            1534,
            1689,
            1907,
            2076,
            2130,
            2175,
            3043,
            3180
           ]
          },
          {
           "line": {
            "color": "red",
            "shape": "hv"
           },
           "mode": "lines+markers",
           "type": "scatter",
           "x": [
            489,
            493,
            519,
            520,
            521,
            522,
            540,
            542
           ],
           "y": [
            201,
            685,
            911,
            1137,
            1289,
            1537,
            1680,
            1714
           ]
          }
         ],
         "name": "2"
        },
        {
         "data": [
          {
           "line": {
            "color": "green",
            "shape": "hv"
           },
           "mode": "lines+markers",
           "type": "scatter",
           "x": [
            488,
            487,
            485,
            484,
            481,
            479,
            477,
            476,
            470,
            461,
            458,
            457,
            452,
            446
           ],
           "y": [
            31,
            431,
            643,
            1073,
            1103,
            1519,
            1902,
            2057,
            2275,
            2444,
            2498,
            2543,
            3411,
            3548
           ]
          },
          {
           "line": {
            "color": "red",
            "shape": "hv"
           },
           "mode": "lines+markers",
           "type": "scatter",
           "x": [
            489,
            493,
            519,
            520,
            521,
            522,
            540,
            542
           ],
           "y": [
            201,
            685,
            911,
            1137,
            1289,
            1537,
            1680,
            1714
           ]
          }
         ],
         "name": "3"
        },
        {
         "data": [
          {
           "line": {
            "color": "green",
            "shape": "hv"
           },
           "mode": "lines+markers",
           "type": "scatter",
           "x": [
            488,
            487,
            485,
            484,
            481,
            479,
            477,
            476,
            470,
            461,
            458,
            457,
            452,
            446
           ],
           "y": [
            31,
            431,
            643,
            1073,
            1103,
            1519,
            1902,
            2057,
            2275,
            2444,
            2498,
            2543,
            3411,
            3548
           ]
          },
          {
           "line": {
            "color": "red",
            "shape": "hv"
           },
           "mode": "lines+markers",
           "type": "scatter",
           "x": [
            489,
            493,
            496,
            519,
            520,
            521,
            522,
            540,
            542
           ],
           "y": [
            201,
            685,
            1024,
            1250,
            1476,
            1628,
            1876,
            2019,
            2053
           ]
          }
         ],
         "name": "4"
        },
        {
         "data": [
          {
           "line": {
            "color": "green",
            "shape": "hv"
           },
           "mode": "lines+markers",
           "type": "scatter",
           "x": [
            488,
            487,
            485,
            484,
            481,
            479,
            477,
            476,
            470,
            461,
            458,
            457,
            452,
            446
           ],
           "y": [
            31,
            431,
            643,
            1073,
            1103,
            1519,
            1902,
            2057,
            2275,
            2444,
            2498,
            2543,
            3411,
            3548
           ]
          },
          {
           "line": {
            "color": "red",
            "shape": "hv"
           },
           "mode": "lines+markers",
           "type": "scatter",
           "x": [
            489,
            493,
            496,
            506,
            519,
            520,
            521,
            522,
            540,
            542
           ],
           "y": [
            201,
            685,
            1024,
            1154,
            1380,
            1606,
            1758,
            2006,
            2149,
            2183
           ]
          }
         ],
         "name": "5"
        },
        {
         "data": [
          {
           "line": {
            "color": "green",
            "shape": "hv"
           },
           "mode": "lines+markers",
           "type": "scatter",
           "x": [
            488,
            487,
            485,
            484,
            481,
            479,
            477,
            476,
            470,
            461,
            458,
            457,
            452,
            446
           ],
           "y": [
            31,
            431,
            643,
            1073,
            1103,
            1519,
            1902,
            2057,
            2275,
            2444,
            2498,
            2543,
            3411,
            3548
           ]
          },
          {
           "line": {
            "color": "red",
            "shape": "hv"
           },
           "mode": "lines+markers",
           "type": "scatter",
           "x": [
            489,
            493,
            496,
            506,
            519,
            520,
            521,
            522,
            540,
            542
           ],
           "y": [
            134,
            618,
            957,
            1087,
            1313,
            1539,
            1691,
            1939,
            2082,
            2116
           ]
          }
         ],
         "name": "6"
        },
        {
         "data": [
          {
           "line": {
            "color": "green",
            "shape": "hv"
           },
           "mode": "lines+markers",
           "type": "scatter",
           "x": [
            487,
            485,
            484,
            481,
            479,
            477,
            476,
            470,
            461,
            458,
            457,
            452,
            446
           ],
           "y": [
            400,
            612,
            1042,
            1072,
            1488,
            1871,
            2026,
            2244,
            2413,
            2467,
            2512,
            3380,
            3517
           ]
          },
          {
           "line": {
            "color": "red",
            "shape": "hv"
           },
           "mode": "lines+markers",
           "type": "scatter",
           "x": [
            488,
            489,
            493,
            496,
            506,
            519,
            520,
            521,
            522,
            540,
            542
           ],
           "y": [
            270,
            404,
            888,
            1227,
            1357,
            1583,
            1809,
            1961,
            2209,
            2352,
            2386
           ]
          }
         ],
         "name": "7"
        },
        {
         "data": [
          {
           "line": {
            "color": "green",
            "shape": "hv"
           },
           "mode": "lines+markers",
           "type": "scatter",
           "x": [
            487,
            485,
            484,
            481,
            479,
            477,
            476,
            470,
            461,
            458,
            457,
            452,
            446
           ],
           "y": [
            874,
            1086,
            1516,
            1546,
            1962,
            2345,
            2500,
            2718,
            2887,
            2941,
            2986,
            3854,
            3991
           ]
          },
          {
           "line": {
            "color": "red",
            "shape": "hv"
           },
           "mode": "lines+markers",
           "type": "scatter",
           "x": [
            488,
            489,
            493,
            496,
            506,
            519,
            520,
            521,
            522,
            540,
            542
           ],
           "y": [
            270,
            404,
            888,
            1227,
            1357,
            1583,
            1809,
            1961,
            2209,
            2352,
            2386
           ]
          }
         ],
         "name": "8"
        },
        {
         "data": [
          {
           "line": {
            "color": "green",
            "shape": "hv"
           },
           "mode": "lines+markers",
           "type": "scatter",
           "x": [
            487,
            485,
            484,
            481,
            479,
            477,
            476,
            470,
            461,
            458,
            457,
            452,
            446
           ],
           "y": [
            874,
            1086,
            1516,
            1546,
            1962,
            2345,
            2500,
            2718,
            2887,
            2941,
            2986,
            3854,
            3991
           ]
          },
          {
           "line": {
            "color": "red",
            "shape": "hv"
           },
           "mode": "lines+markers",
           "type": "scatter",
           "x": [
            489,
            493,
            496,
            506,
            519,
            520,
            521,
            522,
            540,
            542
           ],
           "y": [
            65,
            549,
            888,
            1018,
            1244,
            1470,
            1622,
            1870,
            2013,
            2047
           ]
          }
         ],
         "name": "9"
        },
        {
         "data": [
          {
           "line": {
            "color": "green",
            "shape": "hv"
           },
           "mode": "lines+markers",
           "type": "scatter",
           "x": [
            487,
            485,
            484,
            481,
            479,
            477,
            476,
            470,
            461,
            458,
            457,
            452,
            446
           ],
           "y": [
            874,
            1086,
            1516,
            1546,
            1962,
            2345,
            2500,
            2718,
            2887,
            2941,
            2986,
            3854,
            3991
           ]
          },
          {
           "line": {
            "color": "red",
            "shape": "hv"
           },
           "mode": "lines+markers",
           "type": "scatter",
           "x": [
            489,
            493,
            495,
            496,
            506,
            519,
            520,
            521,
            522,
            540,
            542
           ],
           "y": [
            65,
            549,
            785,
            1124,
            1254,
            1480,
            1706,
            1858,
            2106,
            2249,
            2283
           ]
          }
         ],
         "name": "10"
        },
        {
         "data": [
          {
           "line": {
            "color": "green",
            "shape": "hv"
           },
           "mode": "lines+markers",
           "type": "scatter",
           "x": [
            487,
            485,
            484,
            481,
            479,
            477,
            476,
            470,
            461,
            458,
            457,
            452,
            446
           ],
           "y": [
            874,
            1086,
            1516,
            1546,
            1962,
            2345,
            2500,
            2718,
            2887,
            2941,
            2986,
            3854,
            3991
           ]
          },
          {
           "line": {
            "color": "red",
            "shape": "hv"
           },
           "mode": "lines+markers",
           "type": "scatter",
           "x": [
            489,
            493,
            495,
            496,
            506,
            511,
            519,
            520,
            521,
            522,
            540,
            542
           ],
           "y": [
            65,
            549,
            785,
            1124,
            1254,
            1429,
            1655,
            1881,
            2033,
            2281,
            2424,
            2458
           ]
          }
         ],
         "name": "11"
        },
        {
         "data": [
          {
           "line": {
            "color": "green",
            "shape": "hv"
           },
           "mode": "lines+markers",
           "type": "scatter",
           "x": [
            487,
            485,
            484,
            481,
            479,
            477,
            476,
            470,
            461,
            458,
            457,
            452,
            446
           ],
           "y": [
            203,
            415,
            845,
            875,
            1291,
            1674,
            1829,
            2047,
            2216,
            2270,
            2315,
            3183,
            3320
           ]
          },
          {
           "line": {
            "color": "red",
            "shape": "hv"
           },
           "mode": "lines+markers",
           "type": "scatter",
           "x": [
            489,
            493,
            495,
            496,
            506,
            511,
            519,
            520,
            521,
            522,
            540,
            542
           ],
           "y": [
            65,
            549,
            785,
            1124,
            1254,
            1429,
            1655,
            1881,
            2033,
            2281,
            2424,
            2458
           ]
          }
         ],
         "name": "12"
        },
        {
         "data": [
          {
           "line": {
            "color": "green",
            "shape": "hv"
           },
           "mode": "lines+markers",
           "type": "scatter",
           "x": [
            487,
            485,
            484,
            481,
            479,
            477,
            476,
            470,
            461,
            458,
            457,
            452,
            446
           ],
           "y": [
            497,
            709,
            1139,
            1169,
            1585,
            1968,
            2123,
            2341,
            2510,
            2564,
            2609,
            3477,
            3614
           ]
          },
          {
           "line": {
            "color": "red",
            "shape": "hv"
           },
           "mode": "lines+markers",
           "type": "scatter",
           "x": [
            489,
            493,
            495,
            496,
            506,
            511,
            519,
            520,
            521,
            522,
            540,
            542
           ],
           "y": [
            65,
            549,
            785,
            1124,
            1254,
            1429,
            1655,
            1881,
            2033,
            2281,
            2424,
            2458
           ]
          }
         ],
         "name": "13"
        },
        {
         "data": [
          {
           "line": {
            "color": "green",
            "shape": "hv"
           },
           "mode": "lines+markers",
           "type": "scatter",
           "x": [
            487,
            485,
            484,
            481,
            479,
            477,
            476,
            470,
            461,
            458,
            457,
            452,
            446
           ],
           "y": [
            497,
            709,
            1212,
            1242,
            1658,
            2041,
            2196,
            2414,
            2583,
            2637,
            2682,
            3550,
            3687
           ]
          },
          {
           "line": {
            "color": "red",
            "shape": "hv"
           },
           "mode": "lines+markers",
           "type": "scatter",
           "x": [
            489,
            493,
            495,
            496,
            506,
            511,
            519,
            520,
            521,
            522,
            540,
            542
           ],
           "y": [
            65,
            549,
            785,
            1124,
            1254,
            1429,
            1655,
            1881,
            2033,
            2281,
            2424,
            2458
           ]
          }
         ],
         "name": "14"
        },
        {
         "data": [
          {
           "line": {
            "color": "green",
            "shape": "hv"
           },
           "mode": "lines+markers",
           "type": "scatter",
           "x": [
            487,
            485,
            484,
            481,
            479,
            477,
            476,
            470,
            461,
            458,
            457,
            452,
            446
           ],
           "y": [
            167,
            379,
            882,
            912,
            1328,
            1711,
            1866,
            2084,
            2253,
            2307,
            2352,
            3220,
            3357
           ]
          },
          {
           "line": {
            "color": "red",
            "shape": "hv"
           },
           "mode": "lines+markers",
           "type": "scatter",
           "x": [
            489,
            493,
            495,
            496,
            506,
            511,
            519,
            520,
            521,
            522,
            540,
            542
           ],
           "y": [
            65,
            549,
            785,
            1124,
            1254,
            1429,
            1655,
            1881,
            2033,
            2281,
            2424,
            2458
           ]
          }
         ],
         "name": "15"
        },
        {
         "data": [
          {
           "line": {
            "color": "green",
            "shape": "hv"
           },
           "mode": "lines+markers",
           "type": "scatter",
           "x": [
            487,
            485,
            484,
            481,
            479,
            477,
            476,
            470,
            461,
            458,
            457,
            452,
            446
           ],
           "y": [
            167,
            379,
            882,
            912,
            1328,
            1711,
            1866,
            2084,
            2253,
            2307,
            2352,
            3220,
            3357
           ]
          },
          {
           "line": {
            "color": "red",
            "shape": "hv"
           },
           "mode": "lines+markers",
           "type": "scatter",
           "x": [
            489,
            493,
            495,
            496,
            506,
            511,
            519,
            520,
            521,
            522,
            540,
            542
           ],
           "y": [
            22,
            506,
            742,
            1081,
            1211,
            1386,
            1612,
            1838,
            1990,
            2238,
            2381,
            2415
           ]
          }
         ],
         "name": "16"
        },
        {
         "data": [
          {
           "line": {
            "color": "green",
            "shape": "hv"
           },
           "mode": "lines+markers",
           "type": "scatter",
           "x": [
            489,
            487,
            485,
            484,
            481,
            479,
            477,
            476,
            470,
            461,
            458,
            457,
            452,
            446
           ],
           "y": [
            221,
            388,
            600,
            1103,
            1133,
            1549,
            1932,
            2087,
            2305,
            2474,
            2528,
            2573,
            3441,
            3578
           ]
          },
          {
           "line": {
            "color": "red",
            "shape": "hv"
           },
           "mode": "lines+markers",
           "type": "scatter",
           "x": [
            493,
            495,
            496,
            506,
            511,
            519,
            520,
            521,
            522,
            540,
            542
           ],
           "y": [
            484,
            720,
            1059,
            1189,
            1364,
            1590,
            1816,
            1968,
            2216,
            2359,
            2393
           ]
          }
         ],
         "name": "17"
        },
        {
         "data": [
          {
           "line": {
            "color": "green",
            "shape": "hv"
           },
           "mode": "lines+markers",
           "type": "scatter",
           "x": [
            489,
            487,
            485,
            484,
            481,
            479,
            477,
            476,
            470,
            461,
            458,
            457,
            452,
            446
           ],
           "y": [
            221,
            388,
            600,
            1103,
            1133,
            1549,
            1932,
            2087,
            2305,
            2474,
            2528,
            2573,
            3441,
            3578
           ]
          },
          {
           "line": {
            "color": "red",
            "shape": "hv"
           },
           "mode": "lines+markers",
           "type": "scatter",
           "x": [
            493,
            495,
            496,
            497,
            506,
            511,
            519,
            520,
            521,
            522,
            540,
            542
           ],
           "y": [
            484,
            720,
            1059,
            1311,
            1441,
            1616,
            1842,
            2068,
            2220,
            2468,
            2611,
            2645
           ]
          }
         ],
         "name": "18"
        },
        {
         "data": [
          {
           "line": {
            "color": "green",
            "shape": "hv"
           },
           "mode": "lines+markers",
           "type": "scatter",
           "x": [
            492,
            489,
            487,
            485,
            484,
            481,
            479,
            477,
            476,
            470,
            461,
            458,
            457,
            452,
            446
           ],
           "y": [
            74,
            295,
            462,
            674,
            1177,
            1207,
            1623,
            2006,
            2161,
            2379,
            2548,
            2602,
            2647,
            3515,
            3652
           ]
          },
          {
           "line": {
            "color": "red",
            "shape": "hv"
           },
           "mode": "lines+markers",
           "type": "scatter",
           "x": [
            493,
            495,
            496,
            497,
            506,
            511,
            519,
            520,
            521,
            522,
            540,
            542
           ],
           "y": [
            484,
            720,
            1059,
            1311,
            1441,
            1616,
            1842,
            2068,
            2220,
            2468,
            2611,
            2645
           ]
          }
         ],
         "name": "19"
        },
        {
         "data": [
          {
           "line": {
            "color": "green",
            "shape": "hv"
           },
           "mode": "lines+markers",
           "type": "scatter",
           "x": [
            492,
            489,
            487,
            485,
            484,
            481,
            479,
            477,
            476,
            470,
            461,
            458,
            457,
            452,
            446
           ],
           "y": [
            74,
            295,
            462,
            674,
            1177,
            1207,
            1623,
            2006,
            2161,
            2379,
            2548,
            2602,
            2647,
            3515,
            3652
           ]
          },
          {
           "line": {
            "color": "red",
            "shape": "hv"
           },
           "mode": "lines+markers",
           "type": "scatter",
           "x": [
            493,
            495,
            496,
            497,
            506,
            511,
            519,
            520,
            521,
            522,
            540,
            542
           ],
           "y": [
            484,
            720,
            1059,
            1311,
            1441,
            1616,
            1842,
            2068,
            2268,
            2516,
            2659,
            2693
           ]
          }
         ],
         "name": "20"
        },
        {
         "data": [
          {
           "line": {
            "color": "green",
            "shape": "hv"
           },
           "mode": "lines+markers",
           "type": "scatter",
           "x": [
            492,
            491,
            489,
            487,
            485,
            484,
            481,
            479,
            477,
            476,
            470,
            461,
            458,
            457,
            452,
            446
           ],
           "y": [
            74,
            244,
            465,
            632,
            844,
            1347,
            1377,
            1793,
            2176,
            2331,
            2549,
            2718,
            2772,
            2817,
            3685,
            3822
           ]
          },
          {
           "line": {
            "color": "red",
            "shape": "hv"
           },
           "mode": "lines+markers",
           "type": "scatter",
           "x": [
            493,
            495,
            496,
            497,
            506,
            511,
            519,
            520,
            521,
            522,
            540,
            542
           ],
           "y": [
            484,
            720,
            1059,
            1311,
            1441,
            1616,
            1842,
            2068,
            2268,
            2516,
            2659,
            2693
           ]
          }
         ],
         "name": "21"
        },
        {
         "data": [
          {
           "line": {
            "color": "green",
            "shape": "hv"
           },
           "mode": "lines+markers",
           "type": "scatter",
           "x": [
            492,
            491,
            489,
            487,
            485,
            484,
            481,
            479,
            477,
            476,
            470,
            461,
            458,
            457,
            452,
            446
           ],
           "y": [
            74,
            244,
            465,
            632,
            844,
            1347,
            1377,
            1793,
            2176,
            2331,
            2549,
            2718,
            2772,
            2817,
            3685,
            3822
           ]
          },
          {
           "line": {
            "color": "red",
            "shape": "hv"
           },
           "mode": "lines+markers",
           "type": "scatter",
           "x": [
            493,
            495,
            496,
            497,
            506,
            511,
            519,
            520,
            521,
            522,
            540,
            542
           ],
           "y": [
            97,
            333,
            672,
            924,
            1054,
            1229,
            1455,
            1681,
            1881,
            2129,
            2272,
            2306
           ]
          }
         ],
         "name": "22"
        },
        {
         "data": [
          {
           "line": {
            "color": "green",
            "shape": "hv"
           },
           "mode": "lines+markers",
           "type": "scatter",
           "x": [
            492,
            491,
            489,
            488,
            487,
            485,
            484,
            481,
            479,
            477,
            476,
            470,
            461,
            458,
            457,
            452,
            446
           ],
           "y": [
            74,
            244,
            465,
            752,
            919,
            1131,
            1634,
            1664,
            2080,
            2463,
            2618,
            2836,
            3005,
            3059,
            3104,
            3972,
            4109
           ]
          },
          {
           "line": {
            "color": "red",
            "shape": "hv"
           },
           "mode": "lines+markers",
           "type": "scatter",
           "x": [
            493,
            495,
            496,
            497,
            506,
            511,
            519,
            520,
            521,
            522,
            540,
            542
           ],
           "y": [
            97,
            333,
            672,
            924,
            1054,
            1229,
            1455,
            1681,
            1881,
            2129,
            2272,
            2306
           ]
          }
         ],
         "name": "23"
        },
        {
         "data": [
          {
           "line": {
            "color": "green",
            "shape": "hv"
           },
           "mode": "lines+markers",
           "type": "scatter",
           "x": [
            492,
            491,
            489,
            488,
            487,
            485,
            484,
            481,
            479,
            477,
            476,
            470,
            461,
            458,
            457,
            452,
            446
           ],
           "y": [
            74,
            244,
            465,
            752,
            919,
            1131,
            1634,
            1664,
            2080,
            2463,
            2618,
            2836,
            3005,
            3059,
            3104,
            3972,
            4109
           ]
          },
          {
           "line": {
            "color": "red",
            "shape": "hv"
           },
           "mode": "lines+markers",
           "type": "scatter",
           "x": [
            495,
            496,
            497,
            506,
            511,
            519,
            520,
            521,
            522,
            540,
            542
           ],
           "y": [
            127,
            466,
            718,
            848,
            1023,
            1249,
            1475,
            1675,
            1923,
            2066,
            2100
           ]
          }
         ],
         "name": "24"
        },
        {
         "data": [
          {
           "line": {
            "color": "green",
            "shape": "hv"
           },
           "mode": "lines+markers",
           "type": "scatter",
           "x": [
            492,
            491,
            489,
            488,
            487,
            485,
            484,
            481,
            479,
            477,
            476,
            470,
            461,
            458,
            457,
            452,
            446
           ],
           "y": [
            74,
            244,
            465,
            752,
            919,
            1131,
            1634,
            1664,
            2080,
            2463,
            2618,
            2836,
            3005,
            3059,
            3104,
            3972,
            4109
           ]
          },
          {
           "line": {
            "color": "red",
            "shape": "hv"
           },
           "mode": "lines+markers",
           "type": "scatter",
           "x": [
            495,
            496,
            497,
            506,
            510,
            511,
            519,
            520,
            521,
            522,
            540,
            542
           ],
           "y": [
            127,
            466,
            718,
            848,
            1195,
            1370,
            1596,
            1822,
            2022,
            2270,
            2413,
            2447
           ]
          }
         ],
         "name": "25"
        },
        {
         "data": [
          {
           "line": {
            "color": "green",
            "shape": "hv"
           },
           "mode": "lines+markers",
           "type": "scatter",
           "x": [
            492,
            491,
            489,
            488,
            487,
            485,
            484,
            481,
            479,
            477,
            476,
            470,
            461,
            458,
            457,
            452,
            446
           ],
           "y": [
            74,
            244,
            465,
            752,
            919,
            1131,
            1634,
            1664,
            2080,
            2463,
            2618,
            2836,
            3005,
            3059,
            3104,
            3972,
            4109
           ]
          },
          {
           "line": {
            "color": "red",
            "shape": "hv"
           },
           "mode": "lines+markers",
           "type": "scatter",
           "x": [
            496,
            497,
            506,
            510,
            511,
            519,
            520,
            521,
            522,
            540,
            542
           ],
           "y": [
            217,
            469,
            599,
            946,
            1121,
            1347,
            1573,
            1773,
            2021,
            2164,
            2198
           ]
          }
         ],
         "name": "26"
        },
        {
         "data": [
          {
           "line": {
            "color": "green",
            "shape": "hv"
           },
           "mode": "lines+markers",
           "type": "scatter",
           "x": [
            493,
            492,
            491,
            489,
            488,
            487,
            485,
            484,
            481,
            479,
            477,
            476,
            470,
            461,
            458,
            457,
            452,
            446
           ],
           "y": [
            135,
            209,
            379,
            600,
            887,
            1054,
            1266,
            1769,
            1799,
            2215,
            2598,
            2753,
            2971,
            3140,
            3194,
            3239,
            4107,
            4244
           ]
          },
          {
           "line": {
            "color": "red",
            "shape": "hv"
           },
           "mode": "lines+markers",
           "type": "scatter",
           "x": [
            496,
            497,
            506,
            510,
            511,
            519,
            520,
            521,
            522,
            540,
            542
           ],
           "y": [
            217,
            469,
            599,
            946,
            1121,
            1347,
            1573,
            1773,
            2021,
            2164,
            2198
           ]
          }
         ],
         "name": "27"
        },
        {
         "data": [
          {
           "line": {
            "color": "green",
            "shape": "hv"
           },
           "mode": "lines+markers",
           "type": "scatter",
           "x": [
            491,
            489,
            488,
            487,
            485,
            484,
            481,
            479,
            477,
            476,
            470,
            461,
            458,
            457,
            452,
            446
           ],
           "y": [
            137,
            358,
            645,
            812,
            1024,
            1527,
            1557,
            1973,
            2356,
            2511,
            2729,
            2898,
            2952,
            2997,
            3865,
            4002
           ]
          },
          {
           "line": {
            "color": "red",
            "shape": "hv"
           },
           "mode": "lines+markers",
           "type": "scatter",
           "x": [
            496,
            497,
            506,
            510,
            511,
            519,
            520,
            521,
            522,
            540,
            542
           ],
           "y": [
            217,
            469,
            599,
            946,
            1121,
            1347,
            1573,
            1773,
            2021,
            2164,
            2198
           ]
          }
         ],
         "name": "28"
        },
        {
         "data": [
          {
           "line": {
            "color": "green",
            "shape": "hv"
           },
           "mode": "lines+markers",
           "type": "scatter",
           "x": [
            491,
            489,
            488,
            487,
            485,
            484,
            481,
            479,
            477,
            476,
            470,
            461,
            458,
            457,
            452,
            446
           ],
           "y": [
            443,
            664,
            951,
            1118,
            1330,
            1833,
            1863,
            2279,
            2662,
            2817,
            3035,
            3204,
            3258,
            3303,
            4171,
            4308
           ]
          },
          {
           "line": {
            "color": "red",
            "shape": "hv"
           },
           "mode": "lines+markers",
           "type": "scatter",
           "x": [
            496,
            497,
            506,
            510,
            511,
            519,
            520,
            521,
            522,
            540,
            542
           ],
           "y": [
            217,
            469,
            599,
            946,
            1121,
            1347,
            1573,
            1773,
            2021,
            2164,
            2198
           ]
          }
         ],
         "name": "29"
        },
        {
         "data": [
          {
           "line": {
            "color": "green",
            "shape": "hv"
           },
           "mode": "lines+markers",
           "type": "scatter",
           "x": [
            491,
            489,
            488,
            487,
            485,
            484,
            481,
            479,
            477,
            476,
            470,
            461,
            458,
            457,
            452,
            446
           ],
           "y": [
            443,
            664,
            951,
            1118,
            1330,
            1833,
            1863,
            2279,
            2662,
            2817,
            3035,
            3204,
            3258,
            3303,
            4171,
            4308
           ]
          },
          {
           "line": {
            "color": "red",
            "shape": "hv"
           },
           "mode": "lines+markers",
           "type": "scatter",
           "x": [
            495,
            496,
            497,
            506,
            510,
            511,
            519,
            520,
            521,
            522,
            540,
            542
           ],
           "y": [
            441,
            658,
            910,
            1040,
            1387,
            1562,
            1788,
            2014,
            2214,
            2462,
            2605,
            2639
           ]
          }
         ],
         "name": "30"
        },
        {
         "data": [
          {
           "line": {
            "color": "green",
            "shape": "hv"
           },
           "mode": "lines+markers",
           "type": "scatter",
           "x": [
            491,
            489,
            488,
            487,
            485,
            484,
            481,
            479,
            477,
            476,
            470,
            461,
            458,
            457,
            452,
            446
           ],
           "y": [
            443,
            664,
            951,
            1118,
            1330,
            1833,
            1863,
            2279,
            2662,
            2817,
            3035,
            3204,
            3258,
            3303,
            4171,
            4308
           ]
          },
          {
           "line": {
            "color": "red",
            "shape": "hv"
           },
           "mode": "lines+markers",
           "type": "scatter",
           "x": [
            495,
            496,
            497,
            506,
            510,
            511,
            519,
            520,
            521,
            522,
            540,
            542
           ],
           "y": [
            429,
            646,
            898,
            1028,
            1375,
            1550,
            1776,
            2002,
            2202,
            2450,
            2593,
            2627
           ]
          }
         ],
         "name": "31"
        },
        {
         "data": [
          {
           "line": {
            "color": "green",
            "shape": "hv"
           },
           "mode": "lines+markers",
           "type": "scatter",
           "x": [
            491,
            489,
            488,
            487,
            485,
            484,
            481,
            480,
            479,
            477,
            476,
            470,
            461,
            458,
            457,
            452,
            446
           ],
           "y": [
            443,
            664,
            951,
            1118,
            1330,
            1833,
            1863,
            2145,
            2561,
            2944,
            3099,
            3317,
            3486,
            3540,
            3585,
            4453,
            4590
           ]
          },
          {
           "line": {
            "color": "red",
            "shape": "hv"
           },
           "mode": "lines+markers",
           "type": "scatter",
           "x": [
            495,
            496,
            497,
            506,
            510,
            511,
            519,
            520,
            521,
            522,
            540,
            542
           ],
           "y": [
            429,
            646,
            898,
            1028,
            1375,
            1550,
            1776,
            2002,
            2202,
            2450,
            2593,
            2627
           ]
          }
         ],
         "name": "32"
        },
        {
         "data": [
          {
           "line": {
            "color": "green",
            "shape": "hv"
           },
           "mode": "lines+markers",
           "type": "scatter",
           "x": [
            491,
            489,
            488,
            487,
            485,
            484,
            481,
            480,
            479,
            477,
            476,
            470,
            461,
            458,
            457,
            452,
            446
           ],
           "y": [
            443,
            664,
            951,
            1118,
            1330,
            1833,
            1863,
            2145,
            2561,
            2944,
            3099,
            3317,
            3486,
            3540,
            3585,
            4453,
            4590
           ]
          },
          {
           "line": {
            "color": "red",
            "shape": "hv"
           },
           "mode": "lines+markers",
           "type": "scatter",
           "x": [
            495,
            496,
            497,
            506,
            510,
            511,
            519,
            520,
            521,
            522,
            540,
            542
           ],
           "y": [
            328,
            545,
            797,
            927,
            1274,
            1449,
            1675,
            1901,
            2101,
            2349,
            2492,
            2526
           ]
          }
         ],
         "name": "33"
        },
        {
         "data": [
          {
           "line": {
            "color": "green",
            "shape": "hv"
           },
           "mode": "lines+markers",
           "type": "scatter",
           "x": [
            491,
            489,
            488,
            487,
            485,
            484,
            481,
            480,
            479,
            477,
            476,
            470,
            461,
            458,
            457,
            452,
            446
           ],
           "y": [
            293,
            514,
            801,
            968,
            1180,
            1683,
            1713,
            1995,
            2411,
            2794,
            2949,
            3167,
            3336,
            3390,
            3435,
            4303,
            4440
           ]
          },
          {
           "line": {
            "color": "red",
            "shape": "hv"
           },
           "mode": "lines+markers",
           "type": "scatter",
           "x": [
            495,
            496,
            497,
            506,
            510,
            511,
            519,
            520,
            521,
            522,
            540,
            542
           ],
           "y": [
            328,
            545,
            797,
            927,
            1274,
            1449,
            1675,
            1901,
            2101,
            2349,
            2492,
            2526
           ]
          }
         ],
         "name": "34"
        },
        {
         "data": [
          {
           "line": {
            "color": "green",
            "shape": "hv"
           },
           "mode": "lines+markers",
           "type": "scatter",
           "x": [
            492,
            491,
            489,
            488,
            487,
            485,
            484,
            481,
            480,
            479,
            477,
            476,
            470,
            461,
            458,
            457,
            452,
            446
           ],
           "y": [
            307,
            600,
            821,
            1108,
            1275,
            1487,
            1990,
            2020,
            2302,
            2718,
            3101,
            3256,
            3474,
            3643,
            3697,
            3742,
            4610,
            4747
           ]
          },
          {
           "line": {
            "color": "red",
            "shape": "hv"
           },
           "mode": "lines+markers",
           "type": "scatter",
           "x": [
            495,
            496,
            497,
            506,
            510,
            511,
            519,
            520,
            521,
            522,
            540,
            542
           ],
           "y": [
            328,
            545,
            797,
            927,
            1274,
            1449,
            1675,
            1901,
            2101,
            2349,
            2492,
            2526
           ]
          }
         ],
         "name": "35"
        },
        {
         "data": [
          {
           "line": {
            "color": "green",
            "shape": "hv"
           },
           "mode": "lines+markers",
           "type": "scatter",
           "x": [
            492,
            491,
            489,
            488,
            487,
            485,
            484,
            481,
            480,
            479,
            477,
            476,
            470,
            461,
            458,
            457,
            452,
            446
           ],
           "y": [
            307,
            600,
            821,
            1108,
            1275,
            1487,
            1990,
            2020,
            2302,
            2718,
            3101,
            3256,
            3474,
            3643,
            3697,
            3742,
            4610,
            4747
           ]
          },
          {
           "line": {
            "color": "red",
            "shape": "hv"
           },
           "mode": "lines+markers",
           "type": "scatter",
           "x": [
            495,
            496,
            497,
            506,
            510,
            511,
            519,
            520,
            521,
            522,
            540,
            542
           ],
           "y": [
            106,
            323,
            575,
            705,
            1052,
            1227,
            1453,
            1679,
            1879,
            2127,
            2270,
            2304
           ]
          }
         ],
         "name": "36"
        },
        {
         "data": [
          {
           "line": {
            "color": "green",
            "shape": "hv"
           },
           "mode": "lines+markers",
           "type": "scatter",
           "x": [
            492,
            491,
            489,
            488,
            487,
            485,
            484,
            481,
            480,
            479,
            477,
            476,
            470,
            461,
            458,
            457,
            452,
            446
           ],
           "y": [
            307,
            600,
            821,
            1108,
            1275,
            1487,
            1990,
            2020,
            2302,
            2718,
            3101,
            3256,
            3474,
            3643,
            3697,
            3742,
            4610,
            4747
           ]
          },
          {
           "line": {
            "color": "red",
            "shape": "hv"
           },
           "mode": "lines+markers",
           "type": "scatter",
           "x": [
            495,
            496,
            497,
            504,
            506,
            510,
            511,
            519,
            520,
            521,
            522,
            540,
            542
           ],
           "y": [
            106,
            323,
            575,
            1050,
            1180,
            1527,
            1702,
            1928,
            2154,
            2354,
            2602,
            2745,
            2779
           ]
          }
         ],
         "name": "37"
        },
        {
         "data": [
          {
           "line": {
            "color": "green",
            "shape": "hv"
           },
           "mode": "lines+markers",
           "type": "scatter",
           "x": [
            492,
            491,
            489,
            488,
            487,
            485,
            484,
            481,
            480,
            479,
            477,
            476,
            470,
            461,
            458,
            457,
            452,
            446
           ],
           "y": [
            307,
            600,
            821,
            1108,
            1275,
            1487,
            1990,
            2020,
            2302,
            2718,
            3101,
            3256,
            3474,
            3643,
            3697,
            3742,
            4610,
            4747
           ]
          },
          {
           "line": {
            "color": "red",
            "shape": "hv"
           },
           "mode": "lines+markers",
           "type": "scatter",
           "x": [
            495,
            496,
            497,
            504,
            506,
            510,
            511,
            519,
            520,
            521,
            522,
            540,
            542
           ],
           "y": [
            278,
            495,
            747,
            1222,
            1352,
            1699,
            1874,
            2100,
            2326,
            2526,
            2774,
            2917,
            2951
           ]
          }
         ],
         "name": "38"
        },
        {
         "data": [
          {
           "line": {
            "color": "green",
            "shape": "hv"
           },
           "mode": "lines+markers",
           "type": "scatter",
           "x": [
            492,
            491,
            489,
            488,
            487,
            485,
            484,
            481,
            480,
            479,
            477,
            476,
            471,
            470,
            461,
            458,
            457,
            452,
            446
           ],
           "y": [
            307,
            600,
            821,
            1108,
            1275,
            1487,
            1990,
            2020,
            2302,
            2718,
            3101,
            3256,
            3457,
            3675,
            3844,
            3898,
            3943,
            4811,
            4948
           ]
          },
          {
           "line": {
            "color": "red",
            "shape": "hv"
           },
           "mode": "lines+markers",
           "type": "scatter",
           "x": [
            495,
            496,
            497,
            504,
            506,
            510,
            511,
            519,
            520,
            521,
            522,
            540,
            542
           ],
           "y": [
            278,
            495,
            747,
            1222,
            1352,
            1699,
            1874,
            2100,
            2326,
            2526,
            2774,
            2917,
            2951
           ]
          }
         ],
         "name": "39"
        },
        {
         "data": [
          {
           "line": {
            "color": "green",
            "shape": "hv"
           },
           "mode": "lines+markers",
           "type": "scatter",
           "x": [
            492,
            491,
            489,
            488,
            487,
            485,
            484,
            481,
            480,
            479,
            477,
            476,
            471,
            470,
            461,
            458,
            457,
            452,
            446
           ],
           "y": [
            307,
            600,
            821,
            1108,
            1275,
            1487,
            1990,
            2020,
            2302,
            2718,
            3101,
            3256,
            3457,
            3675,
            3844,
            3898,
            3943,
            4811,
            4948
           ]
          },
          {
           "line": {
            "color": "red",
            "shape": "hv"
           },
           "mode": "lines+markers",
           "type": "scatter",
           "x": [
            495,
            496,
            497,
            504,
            506,
            510,
            511,
            519,
            520,
            521,
            522,
            540,
            542
           ],
           "y": [
            130,
            347,
            599,
            1074,
            1204,
            1551,
            1726,
            1952,
            2178,
            2378,
            2626,
            2769,
            2803
           ]
          }
         ],
         "name": "40"
        },
        {
         "data": [
          {
           "line": {
            "color": "green",
            "shape": "hv"
           },
           "mode": "lines+markers",
           "type": "scatter",
           "x": [
            492,
            491,
            489,
            488,
            487,
            485,
            484,
            481,
            480,
            479,
            477,
            476,
            471,
            470,
            461,
            458,
            457,
            452,
            446
           ],
           "y": [
            307,
            600,
            821,
            1108,
            1275,
            1487,
            1990,
            2020,
            2302,
            2718,
            3101,
            3256,
            3457,
            3675,
            3844,
            3898,
            3943,
            4811,
            4948
           ]
          },
          {
           "line": {
            "color": "red",
            "shape": "hv"
           },
           "mode": "lines+markers",
           "type": "scatter",
           "x": [
            497,
            504,
            506,
            510,
            511,
            519,
            520,
            521,
            522,
            540,
            542
           ],
           "y": [
            183,
            658,
            788,
            1135,
            1310,
            1536,
            1762,
            1962,
            2210,
            2353,
            2387
           ]
          }
         ],
         "name": "41"
        },
        {
         "data": [
          {
           "line": {
            "color": "green",
            "shape": "hv"
           },
           "mode": "lines+markers",
           "type": "scatter",
           "x": [
            501,
            492,
            491,
            489,
            488,
            487,
            485,
            484,
            481,
            480,
            479,
            477,
            476,
            471,
            470,
            461,
            458,
            457,
            452,
            446
           ],
           "y": [
            141,
            448,
            741,
            962,
            1249,
            1416,
            1628,
            2131,
            2161,
            2443,
            2859,
            3242,
            3397,
            3598,
            3816,
            3985,
            4039,
            4084,
            4952,
            5089
           ]
          },
          {
           "line": {
            "color": "red",
            "shape": "hv"
           },
           "mode": "lines+markers",
           "type": "scatter",
           "x": [
            504,
            506,
            510,
            511,
            519,
            520,
            521,
            522,
            540,
            542
           ],
           "y": [
            475,
            605,
            952,
            1127,
            1353,
            1579,
            1779,
            2027,
            2170,
            2204
           ]
          }
         ],
         "name": "42"
        },
        {
         "data": [
          {
           "line": {
            "color": "green",
            "shape": "hv"
           },
           "mode": "lines+markers",
           "type": "scatter",
           "x": [
            492,
            491,
            489,
            488,
            487,
            485,
            484,
            481,
            480,
            479,
            477,
            476,
            471,
            470,
            461,
            458,
            457,
            452,
            446
           ],
           "y": [
            307,
            600,
            821,
            1108,
            1275,
            1487,
            1990,
            2020,
            2302,
            2718,
            3101,
            3256,
            3457,
            3675,
            3844,
            3898,
            3943,
            4811,
            4948
           ]
          },
          {
           "line": {
            "color": "red",
            "shape": "hv"
           },
           "mode": "lines+markers",
           "type": "scatter",
           "x": [
            499,
            504,
            506,
            510,
            511,
            519,
            520,
            521,
            522,
            540,
            542
           ],
           "y": [
            20,
            495,
            625,
            972,
            1147,
            1373,
            1599,
            1799,
            2047,
            2190,
            2224
           ]
          }
         ],
         "name": "43"
        },
        {
         "data": [
          {
           "line": {
            "color": "green",
            "shape": "hv"
           },
           "mode": "lines+markers",
           "type": "scatter",
           "x": [
            496,
            492,
            491,
            489,
            488,
            487,
            485,
            484,
            481,
            480,
            479,
            477,
            476,
            471,
            470,
            461,
            458,
            457,
            452,
            446
           ],
           "y": [
            239,
            546,
            839,
            1060,
            1347,
            1514,
            1726,
            2229,
            2259,
            2541,
            2957,
            3340,
            3495,
            3696,
            3914,
            4083,
            4137,
            4182,
            5050,
            5187
           ]
          },
          {
           "line": {
            "color": "red",
            "shape": "hv"
           },
           "mode": "lines+markers",
           "type": "scatter",
           "x": [
            499,
            504,
            506,
            510,
            511,
            519,
            520,
            521,
            522,
            540,
            542
           ],
           "y": [
            20,
            495,
            625,
            972,
            1147,
            1373,
            1599,
            1799,
            2047,
            2190,
            2224
           ]
          }
         ],
         "name": "44"
        },
        {
         "data": [
          {
           "line": {
            "color": "green",
            "shape": "hv"
           },
           "mode": "lines+markers",
           "type": "scatter",
           "x": [
            496,
            492,
            491,
            489,
            488,
            487,
            485,
            484,
            483,
            481,
            480,
            479,
            477,
            476,
            471,
            470,
            461,
            458,
            457,
            452,
            446
           ],
           "y": [
            239,
            546,
            839,
            1060,
            1347,
            1514,
            1726,
            2229,
            2279,
            2309,
            2591,
            3007,
            3390,
            3545,
            3746,
            3964,
            4133,
            4187,
            4232,
            5100,
            5237
           ]
          },
          {
           "line": {
            "color": "red",
            "shape": "hv"
           },
           "mode": "lines+markers",
           "type": "scatter",
           "x": [
            499,
            504,
            506,
            510,
            511,
            519,
            520,
            521,
            522,
            540,
            542
           ],
           "y": [
            20,
            495,
            625,
            972,
            1147,
            1373,
            1599,
            1799,
            2047,
            2190,
            2224
           ]
          }
         ],
         "name": "45"
        },
        {
         "data": [
          {
           "line": {
            "color": "green",
            "shape": "hv"
           },
           "mode": "lines+markers",
           "type": "scatter",
           "x": [
            496,
            492,
            491,
            489,
            488,
            487,
            485,
            484,
            483,
            481,
            480,
            479,
            477,
            476,
            473,
            471,
            470,
            461,
            458,
            457,
            452,
            446
           ],
           "y": [
            239,
            546,
            839,
            1060,
            1347,
            1514,
            1726,
            2229,
            2279,
            2309,
            2591,
            3007,
            3390,
            3545,
            3904,
            4105,
            4323,
            4492,
            4546,
            4591,
            5459,
            5596
           ]
          },
          {
           "line": {
            "color": "red",
            "shape": "hv"
           },
           "mode": "lines+markers",
           "type": "scatter",
           "x": [
            499,
            504,
            506,
            510,
            511,
            519,
            520,
            521,
            522,
            540,
            542
           ],
           "y": [
            20,
            495,
            625,
            972,
            1147,
            1373,
            1599,
            1799,
            2047,
            2190,
            2224
           ]
          }
         ],
         "name": "46"
        },
        {
         "data": [
          {
           "line": {
            "color": "green",
            "shape": "hv"
           },
           "mode": "lines+markers",
           "type": "scatter",
           "x": [
            496,
            492,
            491,
            489,
            488,
            487,
            485,
            484,
            483,
            481,
            480,
            479,
            477,
            476,
            473,
            471,
            470,
            461,
            458,
            457,
            452,
            446
           ],
           "y": [
            55,
            362,
            655,
            876,
            1163,
            1330,
            1542,
            2045,
            2095,
            2125,
            2407,
            2823,
            3206,
            3361,
            3720,
            3921,
            4139,
            4308,
            4362,
            4407,
            5275,
            5412
           ]
          },
          {
           "line": {
            "color": "red",
            "shape": "hv"
           },
           "mode": "lines+markers",
           "type": "scatter",
           "x": [
            499,
            504,
            506,
            510,
            511,
            519,
            520,
            521,
            522,
            540,
            542
           ],
           "y": [
            20,
            495,
            625,
            972,
            1147,
            1373,
            1599,
            1799,
            2047,
            2190,
            2224
           ]
          }
         ],
         "name": "47"
        },
        {
         "data": [
          {
           "line": {
            "color": "green",
            "shape": "hv"
           },
           "mode": "lines+markers",
           "type": "scatter",
           "x": [
            496,
            492,
            491,
            489,
            488,
            487,
            485,
            484,
            483,
            481,
            480,
            479,
            477,
            476,
            473,
            471,
            470,
            461,
            458,
            457,
            452,
            446
           ],
           "y": [
            55,
            362,
            655,
            876,
            1163,
            1330,
            1793,
            2296,
            2346,
            2376,
            2658,
            3074,
            3457,
            3612,
            3971,
            4172,
            4390,
            4559,
            4613,
            4658,
            5526,
            5663
           ]
          },
          {
           "line": {
            "color": "red",
            "shape": "hv"
           },
           "mode": "lines+markers",
           "type": "scatter",
           "x": [
            499,
            504,
            506,
            510,
            511,
            519,
            520,
            521,
            522,
            540,
            542
           ],
           "y": [
            20,
            495,
            625,
            972,
            1147,
            1373,
            1599,
            1799,
            2047,
            2190,
            2224
           ]
          }
         ],
         "name": "48"
        },
        {
         "data": [
          {
           "line": {
            "color": "green",
            "shape": "hv"
           },
           "mode": "lines+markers",
           "type": "scatter",
           "x": [
            496,
            492,
            491,
            489,
            488,
            487,
            485,
            484,
            483,
            481,
            480,
            479,
            477,
            476,
            473,
            471,
            470,
            461,
            458,
            457,
            452,
            446
           ],
           "y": [
            55,
            362,
            655,
            876,
            1163,
            1330,
            1793,
            2296,
            2346,
            2376,
            2658,
            3074,
            3457,
            3612,
            3971,
            4172,
            4390,
            4559,
            4613,
            4658,
            5526,
            5663
           ]
          },
          {
           "line": {
            "color": "red",
            "shape": "hv"
           },
           "mode": "lines+markers",
           "type": "scatter",
           "x": [
            499,
            501,
            504,
            506,
            510,
            511,
            519,
            520,
            521,
            522,
            540,
            542
           ],
           "y": [
            20,
            92,
            567,
            697,
            1044,
            1219,
            1445,
            1671,
            1871,
            2119,
            2262,
            2296
           ]
          }
         ],
         "name": "49"
        },
        {
         "data": [
          {
           "line": {
            "color": "green",
            "shape": "hv"
           },
           "mode": "lines+markers",
           "type": "scatter",
           "x": [
            492,
            491,
            489,
            488,
            487,
            485,
            484,
            483,
            481,
            480,
            479,
            477,
            476,
            473,
            471,
            470,
            461,
            458,
            457,
            452,
            446
           ],
           "y": [
            203,
            496,
            717,
            1004,
            1171,
            1634,
            2137,
            2187,
            2217,
            2499,
            2915,
            3298,
            3453,
            3812,
            4013,
            4231,
            4400,
            4454,
            4499,
            5367,
            5504
           ]
          },
          {
           "line": {
            "color": "red",
            "shape": "hv"
           },
           "mode": "lines+markers",
           "type": "scatter",
           "x": [
            499,
            501,
            504,
            506,
            510,
            511,
            519,
            520,
            521,
            522,
            540,
            542
           ],
           "y": [
            20,
            92,
            567,
            697,
            1044,
            1219,
            1445,
            1671,
            1871,
            2119,
            2262,
            2296
           ]
          }
         ],
         "name": "50"
        },
        {
         "data": [
          {
           "line": {
            "color": "green",
            "shape": "hv"
           },
           "mode": "lines+markers",
           "type": "scatter",
           "x": [
            492,
            491,
            489,
            488,
            487,
            485,
            484,
            483,
            481,
            480,
            479,
            477,
            476,
            473,
            471,
            470,
            461,
            458,
            457,
            452,
            446
           ],
           "y": [
            203,
            496,
            717,
            1004,
            1171,
            1634,
            2137,
            2187,
            2217,
            2499,
            2915,
            3298,
            3453,
            3812,
            4013,
            4231,
            4400,
            4454,
            4499,
            5367,
            5504
           ]
          },
          {
           "line": {
            "color": "red",
            "shape": "hv"
           },
           "mode": "lines+markers",
           "type": "scatter",
           "x": [
            499,
            501,
            504,
            506,
            509,
            510,
            511,
            519,
            520,
            521,
            522,
            540,
            542
           ],
           "y": [
            20,
            92,
            567,
            697,
            814,
            1161,
            1336,
            1562,
            1788,
            1988,
            2236,
            2379,
            2413
           ]
          }
         ],
         "name": "51"
        },
        {
         "data": [
          {
           "line": {
            "color": "green",
            "shape": "hv"
           },
           "mode": "lines+markers",
           "type": "scatter",
           "x": [
            492,
            491,
            489,
            488,
            487,
            485,
            484,
            483,
            481,
            480,
            479,
            477,
            476,
            473,
            471,
            470,
            461,
            458,
            457,
            452,
            446
           ],
           "y": [
            203,
            496,
            717,
            1004,
            1171,
            1634,
            2137,
            2187,
            2217,
            2499,
            2915,
            3298,
            3453,
            3812,
            4013,
            4231,
            4400,
            4454,
            4499,
            5367,
            5504
           ]
          },
          {
           "line": {
            "color": "red",
            "shape": "hv"
           },
           "mode": "lines+markers",
           "type": "scatter",
           "x": [
            499,
            501,
            503,
            504,
            506,
            509,
            510,
            511,
            519,
            520,
            521,
            522,
            540,
            542
           ],
           "y": [
            20,
            92,
            384,
            859,
            989,
            1106,
            1453,
            1628,
            1854,
            2080,
            2280,
            2528,
            2671,
            2705
           ]
          }
         ],
         "name": "52"
        },
        {
         "data": [
          {
           "line": {
            "color": "green",
            "shape": "hv"
           },
           "mode": "lines+markers",
           "type": "scatter",
           "x": [
            492,
            491,
            489,
            488,
            487,
            485,
            484,
            483,
            481,
            480,
            479,
            477,
            476,
            473,
            471,
            470,
            461,
            458,
            457,
            452,
            446
           ],
           "y": [
            203,
            496,
            717,
            1004,
            1171,
            1634,
            2137,
            2187,
            2217,
            2499,
            2915,
            3298,
            3453,
            3812,
            4013,
            4231,
            4400,
            4454,
            4499,
            5367,
            5504
           ]
          },
          {
           "line": {
            "color": "red",
            "shape": "hv"
           },
           "mode": "lines+markers",
           "type": "scatter",
           "x": [
            499,
            501,
            503,
            504,
            506,
            509,
            510,
            511,
            519,
            520,
            521,
            522,
            540,
            542
           ],
           "y": [
            20,
            92,
            384,
            859,
            989,
            1106,
            1574,
            1749,
            1975,
            2201,
            2401,
            2649,
            2792,
            2826
           ]
          }
         ],
         "name": "53"
        },
        {
         "data": [
          {
           "line": {
            "color": "green",
            "shape": "hv"
           },
           "mode": "lines+markers",
           "type": "scatter",
           "x": [
            495,
            492,
            491,
            489,
            488,
            487,
            485,
            484,
            483,
            481,
            480,
            479,
            477,
            476,
            473,
            471,
            470,
            461,
            458,
            457,
            452,
            446
           ],
           "y": [
            25,
            228,
            521,
            742,
            1029,
            1196,
            1659,
            2162,
            2212,
            2242,
            2524,
            2940,
            3323,
            3478,
            3837,
            4038,
            4256,
            4425,
            4479,
            4524,
            5392,
            5529
           ]
          },
          {
           "line": {
            "color": "red",
            "shape": "hv"
           },
           "mode": "lines+markers",
           "type": "scatter",
           "x": [
            499,
            501,
            503,
            504,
            506,
            509,
            510,
            511,
            519,
            520,
            521,
            522,
            540,
            542
           ],
           "y": [
            20,
            92,
            384,
            859,
            989,
            1106,
            1574,
            1749,
            1975,
            2201,
            2401,
            2649,
            2792,
            2826
           ]
          }
         ],
         "name": "54"
        },
        {
         "data": [
          {
           "line": {
            "color": "green",
            "shape": "hv"
           },
           "mode": "lines+markers",
           "type": "scatter",
           "x": [
            492,
            491,
            489,
            488,
            487,
            485,
            484,
            483,
            481,
            480,
            479,
            477,
            476,
            473,
            471,
            470,
            461,
            458,
            457,
            452,
            446
           ],
           "y": [
            203,
            496,
            717,
            1004,
            1171,
            1634,
            2137,
            2187,
            2217,
            2499,
            2915,
            3298,
            3453,
            3812,
            4013,
            4231,
            4400,
            4454,
            4499,
            5367,
            5504
           ]
          },
          {
           "line": {
            "color": "red",
            "shape": "hv"
           },
           "mode": "lines+markers",
           "type": "scatter",
           "x": [
            494,
            499,
            501,
            503,
            504,
            506,
            509,
            510,
            511,
            519,
            520,
            521,
            522,
            540,
            542
           ],
           "y": [
            51,
            71,
            143,
            435,
            910,
            1040,
            1157,
            1625,
            1800,
            2026,
            2252,
            2452,
            2700,
            2843,
            2877
           ]
          }
         ],
         "name": "55"
        },
        {
         "data": [
          {
           "line": {
            "color": "green",
            "shape": "hv"
           },
           "mode": "lines+markers",
           "type": "scatter",
           "x": [
            492,
            491,
            489,
            488,
            487,
            485,
            484,
            483,
            481,
            480,
            479,
            477,
            476,
            473,
            471,
            470,
            461,
            458,
            457,
            452,
            446
           ],
           "y": [
            203,
            496,
            717,
            1004,
            1171,
            1634,
            2137,
            2187,
            2217,
            2499,
            2915,
            3298,
            3453,
            3812,
            4013,
            4231,
            4400,
            4454,
            4499,
            5367,
            5504
           ]
          },
          {
           "line": {
            "color": "red",
            "shape": "hv"
           },
           "mode": "lines+markers",
           "type": "scatter",
           "x": [
            494,
            499,
            501,
            503,
            504,
            506,
            509,
            510,
            511,
            519,
            520,
            521,
            522,
            540,
            542
           ],
           "y": [
            28,
            48,
            120,
            412,
            887,
            1017,
            1134,
            1602,
            1777,
            2003,
            2229,
            2429,
            2677,
            2820,
            2854
           ]
          }
         ],
         "name": "56"
        },
        {
         "data": [
          {
           "line": {
            "color": "green",
            "shape": "hv"
           },
           "mode": "lines+markers",
           "type": "scatter",
           "x": [
            492,
            491,
            489,
            488,
            487,
            485,
            484,
            483,
            481,
            480,
            479,
            477,
            476,
            473,
            471,
            470,
            461,
            458,
            457,
            452,
            446
           ],
           "y": [
            203,
            496,
            717,
            1004,
            1171,
            1634,
            2137,
            2187,
            2217,
            2499,
            2915,
            3298,
            3453,
            3812,
            4013,
            4231,
            4400,
            4454,
            4499,
            5367,
            5504
           ]
          },
          {
           "line": {
            "color": "red",
            "shape": "hv"
           },
           "mode": "lines+markers",
           "type": "scatter",
           "x": [
            494,
            499,
            501,
            503,
            504,
            506,
            509,
            510,
            511,
            519,
            520,
            521,
            522,
            540,
            542
           ],
           "y": [
            520,
            540,
            612,
            904,
            1379,
            1509,
            1626,
            2094,
            2269,
            2495,
            2721,
            2921,
            3169,
            3312,
            3346
           ]
          }
         ],
         "name": "57"
        },
        {
         "data": [
          {
           "line": {
            "color": "green",
            "shape": "hv"
           },
           "mode": "lines+markers",
           "type": "scatter",
           "x": [
            492,
            491,
            489,
            488,
            487,
            485,
            484,
            483,
            481,
            480,
            479,
            477,
            476,
            473,
            471,
            470,
            461,
            458,
            457,
            452,
            446
           ],
           "y": [
            203,
            496,
            1203,
            1490,
            1657,
            2120,
            2623,
            2673,
            2703,
            2985,
            3401,
            3784,
            3939,
            4298,
            4499,
            4717,
            4886,
            4940,
            4985,
            5853,
            5990
           ]
          },
          {
           "line": {
            "color": "red",
            "shape": "hv"
           },
           "mode": "lines+markers",
           "type": "scatter",
           "x": [
            494,
            499,
            501,
            503,
            504,
            506,
            509,
            510,
            511,
            519,
            520,
            521,
            522,
            540,
            542
           ],
           "y": [
            520,
            540,
            612,
            904,
            1379,
            1509,
            1626,
            2094,
            2269,
            2495,
            2721,
            2921,
            3169,
            3312,
            3346
           ]
          }
         ],
         "name": "58"
        },
        {
         "data": [
          {
           "line": {
            "color": "green",
            "shape": "hv"
           },
           "mode": "lines+markers",
           "type": "scatter",
           "x": [
            492,
            491,
            489,
            488,
            487,
            485,
            484,
            483,
            481,
            480,
            479,
            477,
            476,
            473,
            471,
            470,
            461,
            458,
            457,
            452,
            446
           ],
           "y": [
            203,
            496,
            1203,
            1490,
            1657,
            2120,
            2623,
            2673,
            2703,
            2985,
            3401,
            3784,
            3939,
            4298,
            4499,
            4717,
            4886,
            4940,
            4985,
            5853,
            5990
           ]
          },
          {
           "line": {
            "color": "red",
            "shape": "hv"
           },
           "mode": "lines+markers",
           "type": "scatter",
           "x": [
            494,
            499,
            501,
            503,
            504,
            506,
            509,
            510,
            511,
            519,
            520,
            521,
            522,
            540,
            542
           ],
           "y": [
            520,
            540,
            612,
            1053,
            1528,
            1658,
            1775,
            2243,
            2418,
            2644,
            2870,
            3070,
            3318,
            3461,
            3495
           ]
          }
         ],
         "name": "59"
        },
        {
         "data": [
          {
           "line": {
            "color": "green",
            "shape": "hv"
           },
           "mode": "lines+markers",
           "type": "scatter",
           "x": [
            492,
            491,
            489,
            488,
            487,
            485,
            484,
            483,
            481,
            480,
            479,
            477,
            476,
            473,
            471,
            470,
            461,
            458,
            457,
            452,
            446
           ],
           "y": [
            203,
            496,
            1203,
            1490,
            1657,
            2120,
            2623,
            2673,
            2703,
            2985,
            3401,
            3784,
            3939,
            4298,
            4499,
            4717,
            4886,
            4940,
            4985,
            5853,
            5990
           ]
          },
          {
           "line": {
            "color": "red",
            "shape": "hv"
           },
           "mode": "lines+markers",
           "type": "scatter",
           "x": [
            494,
            499,
            501,
            503,
            504,
            506,
            509,
            510,
            511,
            519,
            520,
            521,
            522,
            540,
            542
           ],
           "y": [
            66,
            86,
            158,
            599,
            1074,
            1204,
            1321,
            1789,
            1964,
            2190,
            2416,
            2616,
            2864,
            3007,
            3041
           ]
          }
         ],
         "name": "60"
        },
        {
         "data": [
          {
           "line": {
            "color": "green",
            "shape": "hv"
           },
           "mode": "lines+markers",
           "type": "scatter",
           "x": [
            495,
            492,
            491,
            489,
            488,
            487,
            485,
            484,
            483,
            481,
            480,
            479,
            477,
            476,
            473,
            471,
            470,
            461,
            458,
            457,
            452,
            446
           ],
           "y": [
            65,
            268,
            561,
            1268,
            1555,
            1722,
            2185,
            2688,
            2738,
            2768,
            3050,
            3466,
            3849,
            4004,
            4363,
            4564,
            4782,
            4951,
            5005,
            5050,
            5918,
            6055
           ]
          },
          {
           "line": {
            "color": "red",
            "shape": "hv"
           },
           "mode": "lines+markers",
           "type": "scatter",
           "x": [
            499,
            501,
            503,
            504,
            506,
            509,
            510,
            511,
            519,
            520,
            521,
            522,
            540,
            542
           ],
           "y": [
            20,
            92,
            533,
            1008,
            1138,
            1255,
            1723,
            1898,
            2124,
            2350,
            2550,
            2798,
            2941,
            2975
           ]
          }
         ],
         "name": "61"
        },
        {
         "data": [
          {
           "line": {
            "color": "green",
            "shape": "hv"
           },
           "mode": "lines+markers",
           "type": "scatter",
           "x": [
            495,
            492,
            491,
            489,
            488,
            487,
            485,
            484,
            483,
            481,
            480,
            479,
            477,
            476,
            473,
            471,
            470,
            461,
            458,
            457,
            452,
            446
           ],
           "y": [
            65,
            268,
            561,
            1268,
            1555,
            1722,
            2185,
            2688,
            2738,
            2768,
            3050,
            3466,
            3849,
            4004,
            4363,
            4564,
            4782,
            4951,
            5005,
            5050,
            5918,
            6055
           ]
          },
          {
           "line": {
            "color": "red",
            "shape": "hv"
           },
           "mode": "lines+markers",
           "type": "scatter",
           "x": [
            501,
            503,
            504,
            506,
            509,
            510,
            511,
            519,
            520,
            521,
            522,
            540,
            542
           ],
           "y": [
            22,
            463,
            938,
            1068,
            1185,
            1653,
            1828,
            2054,
            2280,
            2480,
            2728,
            2871,
            2905
           ]
          }
         ],
         "name": "62"
        },
        {
         "data": [
          {
           "line": {
            "color": "green",
            "shape": "hv"
           },
           "mode": "lines+markers",
           "type": "scatter",
           "x": [
            495,
            492,
            491,
            489,
            488,
            487,
            485,
            484,
            483,
            481,
            480,
            479,
            477,
            476,
            473,
            471,
            470,
            461,
            458,
            457,
            452,
            446
           ],
           "y": [
            65,
            268,
            561,
            1268,
            1555,
            1722,
            2185,
            2688,
            2738,
            2768,
            3050,
            3466,
            3849,
            4004,
            4363,
            4564,
            4782,
            4951,
            5005,
            5050,
            5918,
            6055
           ]
          },
          {
           "line": {
            "color": "red",
            "shape": "hv"
           },
           "mode": "lines+markers",
           "type": "scatter",
           "x": [
            503,
            504,
            506,
            509,
            510,
            511,
            519,
            520,
            521,
            522,
            540,
            542
           ],
           "y": [
            114,
            589,
            719,
            836,
            1304,
            1479,
            1705,
            1931,
            2131,
            2379,
            2522,
            2556
           ]
          }
         ],
         "name": "63"
        },
        {
         "data": [
          {
           "line": {
            "color": "green",
            "shape": "hv"
           },
           "mode": "lines+markers",
           "type": "scatter",
           "x": [
            495,
            492,
            491,
            489,
            488,
            487,
            485,
            484,
            483,
            481,
            480,
            479,
            477,
            476,
            473,
            471,
            470,
            461,
            458,
            457,
            452,
            446
           ],
           "y": [
            65,
            268,
            561,
            1268,
            1555,
            1722,
            2185,
            2688,
            2738,
            2768,
            3050,
            3466,
            3849,
            4004,
            4363,
            4564,
            4782,
            4951,
            5005,
            5050,
            5918,
            6055
           ]
          },
          {
           "line": {
            "color": "red",
            "shape": "hv"
           },
           "mode": "lines+markers",
           "type": "scatter",
           "x": [
            503,
            504,
            506,
            509,
            510,
            511,
            517,
            519,
            520,
            521,
            522,
            540,
            542
           ],
           "y": [
            114,
            589,
            719,
            836,
            1304,
            1479,
            1878,
            2104,
            2330,
            2530,
            2778,
            2921,
            2955
           ]
          }
         ],
         "name": "64"
        },
        {
         "data": [
          {
           "line": {
            "color": "green",
            "shape": "hv"
           },
           "mode": "lines+markers",
           "type": "scatter",
           "x": [
            495,
            492,
            491,
            489,
            488,
            487,
            485,
            484,
            483,
            481,
            480,
            479,
            477,
            476,
            473,
            471,
            470,
            461,
            458,
            457,
            452,
            446
           ],
           "y": [
            65,
            268,
            561,
            1268,
            1555,
            1722,
            2595,
            3098,
            3148,
            3178,
            3460,
            3876,
            4259,
            4414,
            4773,
            4974,
            5192,
            5361,
            5415,
            5460,
            6328,
            6465
           ]
          },
          {
           "line": {
            "color": "red",
            "shape": "hv"
           },
           "mode": "lines+markers",
           "type": "scatter",
           "x": [
            503,
            504,
            506,
            509,
            510,
            511,
            517,
            519,
            520,
            521,
            522,
            540,
            542
           ],
           "y": [
            114,
            589,
            719,
            836,
            1304,
            1479,
            1878,
            2104,
            2330,
            2530,
            2778,
            2921,
            2955
           ]
          }
         ],
         "name": "65"
        },
        {
         "data": [
          {
           "line": {
            "color": "green",
            "shape": "hv"
           },
           "mode": "lines+markers",
           "type": "scatter",
           "x": [
            491,
            489,
            488,
            487,
            485,
            484,
            483,
            481,
            480,
            479,
            477,
            476,
            473,
            471,
            470,
            461,
            458,
            457,
            452,
            446
           ],
           "y": [
            196,
            903,
            1190,
            1357,
            2230,
            2733,
            2783,
            2813,
            3095,
            3511,
            3894,
            4049,
            4408,
            4609,
            4827,
            4996,
            5050,
            5095,
            5963,
            6100
           ]
          },
          {
           "line": {
            "color": "red",
            "shape": "hv"
           },
           "mode": "lines+markers",
           "type": "scatter",
           "x": [
            503,
            504,
            506,
            509,
            510,
            511,
            517,
            519,
            520,
            521,
            522,
            540,
            542
           ],
           "y": [
            114,
            589,
            719,
            836,
            1304,
            1479,
            1878,
            2104,
            2330,
            2530,
            2778,
            2921,
            2955
           ]
          }
         ],
         "name": "66"
        },
        {
         "data": [
          {
           "line": {
            "color": "green",
            "shape": "hv"
           },
           "mode": "lines+markers",
           "type": "scatter",
           "x": [
            491,
            489,
            488,
            487,
            485,
            484,
            483,
            481,
            480,
            479,
            477,
            476,
            473,
            471,
            470,
            461,
            458,
            457,
            452,
            446
           ],
           "y": [
            196,
            903,
            1190,
            1357,
            2230,
            2733,
            2783,
            2813,
            3462,
            3878,
            4261,
            4416,
            4775,
            4976,
            5194,
            5363,
            5417,
            5462,
            6330,
            6467
           ]
          },
          {
           "line": {
            "color": "red",
            "shape": "hv"
           },
           "mode": "lines+markers",
           "type": "scatter",
           "x": [
            503,
            504,
            506,
            509,
            510,
            511,
            517,
            519,
            520,
            521,
            522,
            540,
            542
           ],
           "y": [
            114,
            589,
            719,
            836,
            1304,
            1479,
            1878,
            2104,
            2330,
            2530,
            2778,
            2921,
            2955
           ]
          }
         ],
         "name": "67"
        },
        {
         "data": [
          {
           "line": {
            "color": "green",
            "shape": "hv"
           },
           "mode": "lines+markers",
           "type": "scatter",
           "x": [
            491,
            489,
            488,
            487,
            485,
            484,
            483,
            481,
            480,
            479,
            477,
            476,
            473,
            471,
            470,
            461,
            458,
            457,
            452,
            446
           ],
           "y": [
            196,
            1397,
            1684,
            1851,
            2724,
            3227,
            3277,
            3307,
            3956,
            4372,
            4755,
            4910,
            5269,
            5470,
            5688,
            5857,
            5911,
            5956,
            6824,
            6961
           ]
          },
          {
           "line": {
            "color": "red",
            "shape": "hv"
           },
           "mode": "lines+markers",
           "type": "scatter",
           "x": [
            503,
            504,
            506,
            509,
            510,
            511,
            517,
            519,
            520,
            521,
            522,
            540,
            542
           ],
           "y": [
            114,
            589,
            719,
            836,
            1304,
            1479,
            1878,
            2104,
            2330,
            2530,
            2778,
            2921,
            2955
           ]
          }
         ],
         "name": "68"
        },
        {
         "data": [
          {
           "line": {
            "color": "green",
            "shape": "hv"
           },
           "mode": "lines+markers",
           "type": "scatter",
           "x": [
            501,
            491,
            489,
            488,
            487,
            485,
            484,
            483,
            481,
            480,
            479,
            477,
            476,
            473,
            471,
            470,
            461,
            458,
            457,
            452,
            446
           ],
           "y": [
            36,
            232,
            1433,
            1720,
            1887,
            2760,
            3263,
            3313,
            3343,
            3992,
            4408,
            4791,
            4946,
            5305,
            5506,
            5724,
            5893,
            5947,
            5992,
            6860,
            6997
           ]
          },
          {
           "line": {
            "color": "red",
            "shape": "hv"
           },
           "mode": "lines+markers",
           "type": "scatter",
           "x": [
            503,
            504,
            506,
            509,
            510,
            511,
            517,
            519,
            520,
            521,
            522,
            540,
            542
           ],
           "y": [
            114,
            589,
            719,
            836,
            1304,
            1479,
            1878,
            2104,
            2330,
            2530,
            2778,
            2921,
            2955
           ]
          }
         ],
         "name": "69"
        },
        {
         "data": [
          {
           "line": {
            "color": "green",
            "shape": "hv"
           },
           "mode": "lines+markers",
           "type": "scatter",
           "x": [
            501,
            491,
            489,
            488,
            487,
            485,
            484,
            483,
            481,
            480,
            479,
            477,
            476,
            473,
            471,
            470,
            461,
            458,
            457,
            452,
            446
           ],
           "y": [
            36,
            232,
            1707,
            1994,
            2161,
            3034,
            3537,
            3587,
            3617,
            4266,
            4682,
            5065,
            5220,
            5579,
            5780,
            5998,
            6167,
            6221,
            6266,
            7134,
            7271
           ]
          },
          {
           "line": {
            "color": "red",
            "shape": "hv"
           },
           "mode": "lines+markers",
           "type": "scatter",
           "x": [
            503,
            504,
            506,
            509,
            510,
            511,
            517,
            519,
            520,
            521,
            522,
            540,
            542
           ],
           "y": [
            114,
            589,
            719,
            836,
            1304,
            1479,
            1878,
            2104,
            2330,
            2530,
            2778,
            2921,
            2955
           ]
          }
         ],
         "name": "70"
        },
        {
         "data": [
          {
           "line": {
            "color": "green",
            "shape": "hv"
           },
           "mode": "lines+markers",
           "type": "scatter",
           "x": [
            501,
            491,
            490,
            489,
            488,
            487,
            485,
            484,
            483,
            481,
            480,
            479,
            477,
            476,
            473,
            471,
            470,
            461,
            458,
            457,
            452,
            446
           ],
           "y": [
            36,
            232,
            290,
            1765,
            2052,
            2219,
            3092,
            3595,
            3645,
            3675,
            4324,
            4740,
            5123,
            5278,
            5637,
            5838,
            6056,
            6225,
            6279,
            6324,
            7192,
            7329
           ]
          },
          {
           "line": {
            "color": "red",
            "shape": "hv"
           },
           "mode": "lines+markers",
           "type": "scatter",
           "x": [
            503,
            504,
            506,
            509,
            510,
            511,
            517,
            519,
            520,
            521,
            522,
            540,
            542
           ],
           "y": [
            114,
            589,
            719,
            836,
            1304,
            1479,
            1878,
            2104,
            2330,
            2530,
            2778,
            2921,
            2955
           ]
          }
         ],
         "name": "71"
        },
        {
         "data": [
          {
           "line": {
            "color": "green",
            "shape": "hv"
           },
           "mode": "lines+markers",
           "type": "scatter",
           "x": [
            491,
            490,
            489,
            488,
            487,
            485,
            484,
            483,
            481,
            480,
            479,
            477,
            476,
            473,
            471,
            470,
            461,
            458,
            457,
            452,
            446
           ],
           "y": [
            73,
            131,
            1606,
            1893,
            2060,
            2933,
            3436,
            3486,
            3516,
            4165,
            4581,
            4964,
            5119,
            5478,
            5679,
            5897,
            6066,
            6120,
            6165,
            7033,
            7170
           ]
          },
          {
           "line": {
            "color": "red",
            "shape": "hv"
           },
           "mode": "lines+markers",
           "type": "scatter",
           "x": [
            503,
            504,
            506,
            509,
            510,
            511,
            517,
            519,
            520,
            521,
            522,
            540,
            542
           ],
           "y": [
            114,
            589,
            719,
            836,
            1304,
            1479,
            1878,
            2104,
            2330,
            2530,
            2778,
            2921,
            2955
           ]
          }
         ],
         "name": "72"
        },
        {
         "data": [
          {
           "line": {
            "color": "green",
            "shape": "hv"
           },
           "mode": "lines+markers",
           "type": "scatter",
           "x": [
            491,
            490,
            489,
            488,
            487,
            485,
            484,
            483,
            481,
            480,
            479,
            477,
            476,
            473,
            471,
            470,
            461,
            458,
            457,
            452,
            446
           ],
           "y": [
            73,
            131,
            1606,
            2197,
            2364,
            3237,
            3740,
            3790,
            3820,
            4469,
            4885,
            5268,
            5423,
            5782,
            5983,
            6201,
            6370,
            6424,
            6469,
            7337,
            7474
           ]
          },
          {
           "line": {
            "color": "red",
            "shape": "hv"
           },
           "mode": "lines+markers",
           "type": "scatter",
           "x": [
            503,
            504,
            506,
            509,
            510,
            511,
            517,
            519,
            520,
            521,
            522,
            540,
            542
           ],
           "y": [
            114,
            589,
            719,
            836,
            1304,
            1479,
            1878,
            2104,
            2330,
            2530,
            2778,
            2921,
            2955
           ]
          }
         ],
         "name": "73"
        },
        {
         "data": [
          {
           "line": {
            "color": "green",
            "shape": "hv"
           },
           "mode": "lines+markers",
           "type": "scatter",
           "x": [
            491,
            490,
            489,
            488,
            487,
            485,
            484,
            483,
            481,
            480,
            479,
            477,
            476,
            473,
            471,
            470,
            461,
            458,
            457,
            452,
            446
           ],
           "y": [
            73,
            131,
            1606,
            2197,
            2364,
            3237,
            3740,
            3790,
            3820,
            4469,
            4885,
            5268,
            5423,
            5782,
            5983,
            6201,
            6370,
            6424,
            6469,
            7337,
            7474
           ]
          },
          {
           "line": {
            "color": "red",
            "shape": "hv"
           },
           "mode": "lines+markers",
           "type": "scatter",
           "x": [
            501,
            503,
            504,
            506,
            509,
            510,
            511,
            517,
            519,
            520,
            521,
            522,
            540,
            542
           ],
           "y": [
            240,
            354,
            829,
            959,
            1076,
            1544,
            1719,
            2118,
            2344,
            2570,
            2770,
            3018,
            3161,
            3195
           ]
          }
         ],
         "name": "74"
        },
        {
         "data": [
          {
           "line": {
            "color": "green",
            "shape": "hv"
           },
           "mode": "lines+markers",
           "type": "scatter",
           "x": [
            491,
            490,
            489,
            488,
            487,
            485,
            484,
            483,
            481,
            480,
            479,
            477,
            476,
            473,
            471,
            470,
            461,
            458,
            457,
            452,
            446
           ],
           "y": [
            73,
            131,
            1606,
            2197,
            2364,
            3237,
            3740,
            3790,
            3820,
            4469,
            4885,
            5268,
            5423,
            5782,
            5983,
            6201,
            6370,
            6424,
            6469,
            7337,
            7474
           ]
          },
          {
           "line": {
            "color": "red",
            "shape": "hv"
           },
           "mode": "lines+markers",
           "type": "scatter",
           "x": [
            501,
            503,
            504,
            506,
            509,
            510,
            511,
            517,
            519,
            520,
            521,
            522,
            540,
            542
           ],
           "y": [
            69,
            183,
            658,
            788,
            905,
            1373,
            1548,
            1947,
            2173,
            2399,
            2599,
            2847,
            2990,
            3024
           ]
          }
         ],
         "name": "75"
        },
        {
         "data": [
          {
           "line": {
            "color": "green",
            "shape": "hv"
           },
           "mode": "lines+markers",
           "type": "scatter",
           "x": [
            491,
            490,
            489,
            488,
            487,
            485,
            484,
            483,
            481,
            480,
            479,
            477,
            476,
            473,
            471,
            470,
            461,
            458,
            457,
            452,
            446
           ],
           "y": [
            73,
            131,
            1606,
            2197,
            2364,
            3237,
            3740,
            3790,
            3820,
            4469,
            4885,
            5268,
            5423,
            5782,
            5983,
            6201,
            6370,
            6424,
            6469,
            7337,
            7474
           ]
          },
          {
           "line": {
            "color": "red",
            "shape": "hv"
           },
           "mode": "lines+markers",
           "type": "scatter",
           "x": [
            501,
            503,
            504,
            505,
            506,
            509,
            510,
            511,
            517,
            519,
            520,
            521,
            522,
            540,
            542
           ],
           "y": [
            69,
            183,
            658,
            948,
            1078,
            1195,
            1663,
            1838,
            2237,
            2463,
            2689,
            2889,
            3137,
            3280,
            3314
           ]
          }
         ],
         "name": "76"
        },
        {
         "data": [
          {
           "line": {
            "color": "green",
            "shape": "hv"
           },
           "mode": "lines+markers",
           "type": "scatter",
           "x": [
            491,
            490,
            489,
            488,
            487,
            485,
            484,
            483,
            481,
            480,
            479,
            477,
            476,
            473,
            471,
            470,
            461,
            458,
            457,
            452,
            446
           ],
           "y": [
            73,
            131,
            1606,
            2197,
            2364,
            3237,
            3740,
            3790,
            3820,
            4469,
            4885,
            5268,
            5423,
            5782,
            5983,
            6201,
            6370,
            6424,
            6469,
            7337,
            7474
           ]
          },
          {
           "line": {
            "color": "red",
            "shape": "hv"
           },
           "mode": "lines+markers",
           "type": "scatter",
           "x": [
            501,
            503,
            504,
            505,
            506,
            509,
            510,
            511,
            517,
            519,
            520,
            521,
            522,
            540,
            542
           ],
           "y": [
            55,
            169,
            644,
            934,
            1064,
            1181,
            1649,
            1824,
            2223,
            2449,
            2675,
            2875,
            3123,
            3266,
            3300
           ]
          }
         ],
         "name": "77"
        },
        {
         "data": [
          {
           "line": {
            "color": "green",
            "shape": "hv"
           },
           "mode": "lines+markers",
           "type": "scatter",
           "x": [
            496,
            491,
            490,
            489,
            488,
            487,
            485,
            484,
            483,
            481,
            480,
            479,
            477,
            476,
            473,
            471,
            470,
            461,
            458,
            457,
            452,
            446
           ],
           "y": [
            71,
            144,
            202,
            1677,
            2268,
            2435,
            3308,
            3811,
            3861,
            3891,
            4540,
            4956,
            5339,
            5494,
            5853,
            6054,
            6272,
            6441,
            6495,
            6540,
            7408,
            7545
           ]
          },
          {
           "line": {
            "color": "red",
            "shape": "hv"
           },
           "mode": "lines+markers",
           "type": "scatter",
           "x": [
            501,
            503,
            504,
            505,
            506,
            509,
            510,
            511,
            517,
            519,
            520,
            521,
            522,
            540,
            542
           ],
           "y": [
            55,
            169,
            644,
            934,
            1064,
            1181,
            1649,
            1824,
            2223,
            2449,
            2675,
            2875,
            3123,
            3266,
            3300
           ]
          }
         ],
         "name": "78"
        },
        {
         "data": [
          {
           "line": {
            "color": "green",
            "shape": "hv"
           },
           "mode": "lines+markers",
           "type": "scatter",
           "x": [
            491,
            490,
            489,
            488,
            487,
            485,
            484,
            483,
            481,
            480,
            479,
            477,
            476,
            473,
            471,
            470,
            461,
            458,
            457,
            452,
            446
           ],
           "y": [
            73,
            131,
            1606,
            2197,
            2364,
            3237,
            3740,
            3790,
            3820,
            4469,
            4885,
            5268,
            5423,
            5782,
            5983,
            6201,
            6370,
            6424,
            6469,
            7337,
            7474
           ]
          },
          {
           "line": {
            "color": "red",
            "shape": "hv"
           },
           "mode": "lines+markers",
           "type": "scatter",
           "x": [
            494,
            501,
            503,
            504,
            505,
            506,
            509,
            510,
            511,
            517,
            519,
            520,
            521,
            522,
            540,
            542
           ],
           "y": [
            173,
            228,
            342,
            817,
            1107,
            1237,
            1354,
            1822,
            1997,
            2396,
            2622,
            2848,
            3048,
            3296,
            3439,
            3473
           ]
          }
         ],
         "name": "79"
        },
        {
         "data": [
          {
           "line": {
            "color": "green",
            "shape": "hv"
           },
           "mode": "lines+markers",
           "type": "scatter",
           "x": [
            491,
            490,
            489,
            488,
            487,
            485,
            484,
            483,
            481,
            480,
            479,
            477,
            476,
            473,
            471,
            470,
            461,
            458,
            457,
            452,
            446
           ],
           "y": [
            73,
            131,
            1606,
            2197,
            2364,
            3237,
            3740,
            3790,
            3820,
            4469,
            4885,
            5268,
            5423,
            5782,
            5983,
            6201,
            6370,
            6424,
            6469,
            7337,
            7474
           ]
          },
          {
           "line": {
            "color": "red",
            "shape": "hv"
           },
           "mode": "lines+markers",
           "type": "scatter",
           "x": [
            494,
            501,
            503,
            504,
            505,
            506,
            509,
            510,
            511,
            517,
            519,
            520,
            521,
            522,
            540,
            542
           ],
           "y": [
            173,
            228,
            502,
            977,
            1267,
            1397,
            1514,
            1982,
            2157,
            2556,
            2782,
            3008,
            3208,
            3456,
            3599,
            3633
           ]
          }
         ],
         "name": "80"
        },
        {
         "data": [
          {
           "line": {
            "color": "green",
            "shape": "hv"
           },
           "mode": "lines+markers",
           "type": "scatter",
           "x": [
            491,
            490,
            489,
            488,
            487,
            485,
            484,
            483,
            481,
            480,
            479,
            477,
            476,
            473,
            471,
            470,
            461,
            458,
            457,
            452,
            446
           ],
           "y": [
            73,
            131,
            1606,
            2197,
            2364,
            3237,
            3740,
            3790,
            3820,
            4469,
            4885,
            5268,
            5423,
            5782,
            5983,
            6201,
            6370,
            6424,
            6469,
            7337,
            7474
           ]
          },
          {
           "line": {
            "color": "red",
            "shape": "hv"
           },
           "mode": "lines+markers",
           "type": "scatter",
           "x": [
            494,
            501,
            503,
            504,
            505,
            506,
            509,
            510,
            511,
            517,
            519,
            520,
            521,
            522,
            540,
            542
           ],
           "y": [
            173,
            228,
            502,
            977,
            1301,
            1431,
            1548,
            2016,
            2191,
            2590,
            2816,
            3042,
            3242,
            3490,
            3633,
            3667
           ]
          }
         ],
         "name": "81"
        },
        {
         "data": [
          {
           "line": {
            "color": "green",
            "shape": "hv"
           },
           "mode": "lines+markers",
           "type": "scatter",
           "x": [
            489,
            488,
            487,
            485,
            484,
            483,
            481,
            480,
            479,
            477,
            476,
            473,
            471,
            470,
            461,
            458,
            457,
            452,
            446
           ],
           "y": [
            1475,
            2066,
            2233,
            3106,
            3609,
            3659,
            3689,
            4338,
            4754,
            5137,
            5292,
            5651,
            5852,
            6070,
            6239,
            6293,
            6338,
            7206,
            7343
           ]
          },
          {
           "line": {
            "color": "red",
            "shape": "hv"
           },
           "mode": "lines+markers",
           "type": "scatter",
           "x": [
            490,
            494,
            501,
            503,
            504,
            505,
            506,
            509,
            510,
            511,
            517,
            519,
            520,
            521,
            522,
            540,
            542
           ],
           "y": [
            86,
            259,
            314,
            588,
            1063,
            1387,
            1517,
            1634,
            2102,
            2277,
            2676,
            2902,
            3128,
            3328,
            3576,
            3719,
            3753
           ]
          }
         ],
         "name": "82"
        },
        {
         "data": [
          {
           "line": {
            "color": "green",
            "shape": "hv"
           },
           "mode": "lines+markers",
           "type": "scatter",
           "x": [
            489,
            488,
            487,
            485,
            484,
            483,
            481,
            480,
            479,
            477,
            476,
            473,
            471,
            470,
            461,
            458,
            457,
            452,
            446
           ],
           "y": [
            1475,
            2066,
            2233,
            3106,
            3609,
            3659,
            3689,
            4338,
            4754,
            5137,
            5292,
            5651,
            5852,
            6070,
            6239,
            6293,
            6338,
            7206,
            7343
           ]
          },
          {
           "line": {
            "color": "red",
            "shape": "hv"
           },
           "mode": "lines+markers",
           "type": "scatter",
           "x": [
            490,
            494,
            501,
            503,
            504,
            505,
            506,
            509,
            510,
            511,
            517,
            519,
            520,
            521,
            522,
            540,
            542
           ],
           "y": [
            86,
            259,
            314,
            588,
            1063,
            1387,
            1517,
            1634,
            2102,
            2343,
            2742,
            2968,
            3194,
            3394,
            3642,
            3785,
            3819
           ]
          }
         ],
         "name": "83"
        },
        {
         "data": [
          {
           "line": {
            "color": "green",
            "shape": "hv"
           },
           "mode": "lines+markers",
           "type": "scatter",
           "x": [
            489,
            488,
            487,
            485,
            484,
            483,
            481,
            480,
            479,
            477,
            476,
            473,
            471,
            470,
            461,
            458,
            457,
            452,
            446
           ],
           "y": [
            1475,
            2066,
            2233,
            3106,
            3609,
            3659,
            3689,
            4338,
            4754,
            5137,
            5292,
            5651,
            5852,
            6070,
            6239,
            6293,
            6338,
            7206,
            7343
           ]
          },
          {
           "line": {
            "color": "red",
            "shape": "hv"
           },
           "mode": "lines+markers",
           "type": "scatter",
           "x": [
            490,
            494,
            501,
            503,
            504,
            505,
            506,
            509,
            510,
            511,
            517,
            519,
            520,
            521,
            522,
            540,
            542
           ],
           "y": [
            86,
            259,
            314,
            588,
            1078,
            1402,
            1532,
            1649,
            2117,
            2358,
            2757,
            2983,
            3209,
            3409,
            3657,
            3800,
            3834
           ]
          }
         ],
         "name": "84"
        },
        {
         "data": [
          {
           "line": {
            "color": "green",
            "shape": "hv"
           },
           "mode": "lines+markers",
           "type": "scatter",
           "x": [
            489,
            488,
            487,
            485,
            484,
            483,
            481,
            480,
            479,
            477,
            476,
            473,
            471,
            470,
            461,
            458,
            457,
            452,
            446
           ],
           "y": [
            1475,
            2066,
            2233,
            3106,
            3609,
            3659,
            3689,
            4338,
            4754,
            5137,
            5292,
            5651,
            5852,
            6070,
            6239,
            6293,
            6338,
            7206,
            7343
           ]
          },
          {
           "line": {
            "color": "red",
            "shape": "hv"
           },
           "mode": "lines+markers",
           "type": "scatter",
           "x": [
            490,
            494,
            501,
            503,
            504,
            505,
            506,
            509,
            510,
            511,
            517,
            519,
            520,
            521,
            522,
            540,
            542
           ],
           "y": [
            86,
            292,
            347,
            621,
            1111,
            1435,
            1565,
            1682,
            2150,
            2391,
            2790,
            3016,
            3242,
            3442,
            3690,
            3833,
            3867
           ]
          }
         ],
         "name": "85"
        },
        {
         "data": [
          {
           "line": {
            "color": "green",
            "shape": "hv"
           },
           "mode": "lines+markers",
           "type": "scatter",
           "x": [
            489,
            488,
            487,
            485,
            484,
            483,
            481,
            480,
            479,
            477,
            476,
            473,
            471,
            470,
            461,
            458,
            457,
            452,
            446
           ],
           "y": [
            1475,
            2066,
            2233,
            3106,
            3609,
            3659,
            3689,
            4338,
            4754,
            5137,
            5292,
            5651,
            5852,
            6070,
            6239,
            6293,
            6338,
            7206,
            7343
           ]
          },
          {
           "line": {
            "color": "red",
            "shape": "hv"
           },
           "mode": "lines+markers",
           "type": "scatter",
           "x": [
            490,
            494,
            501,
            503,
            504,
            505,
            506,
            509,
            510,
            511,
            517,
            519,
            520,
            521,
            522,
            540,
            542
           ],
           "y": [
            86,
            292,
            347,
            621,
            1111,
            1435,
            1565,
            2134,
            2602,
            2843,
            3242,
            3468,
            3694,
            3894,
            4142,
            4285,
            4319
           ]
          }
         ],
         "name": "86"
        },
        {
         "data": [
          {
           "line": {
            "color": "green",
            "shape": "hv"
           },
           "mode": "lines+markers",
           "type": "scatter",
           "x": [
            489,
            488,
            487,
            485,
            484,
            483,
            482,
            481,
            480,
            479,
            477,
            476,
            473,
            471,
            470,
            461,
            458,
            457,
            452,
            446
           ],
           "y": [
            1475,
            2066,
            2233,
            3106,
            3609,
            3659,
            4031,
            4061,
            4710,
            5126,
            5509,
            5664,
            6023,
            6224,
            6442,
            6611,
            6665,
            6710,
            7578,
            7715
           ]
          },
          {
           "line": {
            "color": "red",
            "shape": "hv"
           },
           "mode": "lines+markers",
           "type": "scatter",
           "x": [
            490,
            494,
            501,
            503,
            504,
            505,
            506,
            509,
            510,
            511,
            517,
            519,
            520,
            521,
            522,
            540,
            542
           ],
           "y": [
            86,
            292,
            347,
            621,
            1111,
            1435,
            1565,
            2134,
            2602,
            2843,
            3242,
            3468,
            3694,
            3894,
            4142,
            4285,
            4319
           ]
          }
         ],
         "name": "87"
        },
        {
         "data": [
          {
           "line": {
            "color": "green",
            "shape": "hv"
           },
           "mode": "lines+markers",
           "type": "scatter",
           "x": [
            489,
            488,
            487,
            485,
            484,
            483,
            482,
            481,
            480,
            479,
            477,
            476,
            473,
            471,
            470,
            461,
            458,
            457,
            452,
            446
           ],
           "y": [
            1661,
            2252,
            2419,
            3292,
            3795,
            3845,
            4217,
            4247,
            4896,
            5312,
            5695,
            5850,
            6209,
            6410,
            6628,
            6797,
            6851,
            6896,
            7764,
            7901
           ]
          },
          {
           "line": {
            "color": "red",
            "shape": "hv"
           },
           "mode": "lines+markers",
           "type": "scatter",
           "x": [
            490,
            494,
            501,
            503,
            504,
            505,
            506,
            509,
            510,
            511,
            517,
            519,
            520,
            521,
            522,
            540,
            542
           ],
           "y": [
            86,
            292,
            347,
            621,
            1111,
            1435,
            1565,
            2134,
            2602,
            2843,
            3242,
            3468,
            3694,
            3894,
            4142,
            4285,
            4319
           ]
          }
         ],
         "name": "88"
        },
        {
         "data": [
          {
           "line": {
            "color": "green",
            "shape": "hv"
           },
           "mode": "lines+markers",
           "type": "scatter",
           "x": [
            489,
            488,
            487,
            485,
            484,
            483,
            482,
            481,
            480,
            479,
            477,
            476,
            473,
            471,
            470,
            461,
            458,
            457,
            452,
            446
           ],
           "y": [
            1661,
            2252,
            2419,
            3292,
            3795,
            3845,
            4217,
            4247,
            4896,
            5312,
            5695,
            5850,
            6209,
            6410,
            6628,
            6797,
            6851,
            6896,
            7764,
            7901
           ]
          },
          {
           "line": {
            "color": "red",
            "shape": "hv"
           },
           "mode": "lines+markers",
           "type": "scatter",
           "x": [
            494,
            501,
            503,
            504,
            505,
            506,
            509,
            510,
            511,
            517,
            519,
            520,
            521,
            522,
            540,
            542
           ],
           "y": [
            25,
            80,
            354,
            844,
            1168,
            1298,
            1867,
            2335,
            2576,
            2975,
            3201,
            3427,
            3627,
            3875,
            4018,
            4052
           ]
          }
         ],
         "name": "89"
        },
        {
         "data": [
          {
           "line": {
            "color": "green",
            "shape": "hv"
           },
           "mode": "lines+markers",
           "type": "scatter",
           "x": [
            489,
            488,
            487,
            485,
            484,
            483,
            482,
            481,
            480,
            479,
            477,
            476,
            473,
            471,
            470,
            461,
            458,
            457,
            452,
            446
           ],
           "y": [
            1661,
            2252,
            2419,
            3292,
            3795,
            3845,
            4217,
            4247,
            4896,
            5312,
            5695,
            5850,
            6209,
            6410,
            6628,
            6797,
            6851,
            6896,
            7764,
            7901
           ]
          },
          {
           "line": {
            "color": "red",
            "shape": "hv"
           },
           "mode": "lines+markers",
           "type": "scatter",
           "x": [
            491,
            494,
            501,
            503,
            504,
            505,
            506,
            509,
            510,
            511,
            517,
            519,
            520,
            521,
            522,
            540,
            542
           ],
           "y": [
            467,
            492,
            547,
            821,
            1311,
            1635,
            1765,
            2334,
            2802,
            3043,
            3442,
            3668,
            3894,
            4094,
            4342,
            4485,
            4519
           ]
          }
         ],
         "name": "90"
        },
        {
         "data": [
          {
           "line": {
            "color": "green",
            "shape": "hv"
           },
           "mode": "lines+markers",
           "type": "scatter",
           "x": [
            489,
            488,
            487,
            485,
            484,
            483,
            482,
            481,
            480,
            479,
            477,
            476,
            473,
            471,
            470,
            461,
            458,
            457,
            452,
            446
           ],
           "y": [
            1661,
            2252,
            2419,
            3292,
            3795,
            3845,
            4217,
            4247,
            4896,
            5312,
            5695,
            5850,
            6209,
            6410,
            6628,
            6797,
            6851,
            6896,
            7764,
            7901
           ]
          },
          {
           "line": {
            "color": "red",
            "shape": "hv"
           },
           "mode": "lines+markers",
           "type": "scatter",
           "x": [
            491,
            494,
            501,
            503,
            504,
            505,
            506,
            509,
            510,
            511,
            517,
            519,
            520,
            521,
            522,
            540,
            542
           ],
           "y": [
            555,
            580,
            635,
            909,
            1399,
            1723,
            1853,
            2422,
            2890,
            3131,
            3530,
            3756,
            3982,
            4182,
            4430,
            4573,
            4607
           ]
          }
         ],
         "name": "91"
        },
        {
         "data": [
          {
           "line": {
            "color": "green",
            "shape": "hv"
           },
           "mode": "lines+markers",
           "type": "scatter",
           "x": [
            489,
            488,
            487,
            485,
            484,
            483,
            482,
            481,
            480,
            479,
            477,
            476,
            473,
            471,
            470,
            461,
            458,
            457,
            452,
            446
           ],
           "y": [
            1661,
            2252,
            2419,
            3292,
            3795,
            3845,
            4217,
            4247,
            4896,
            5312,
            5695,
            5850,
            6209,
            6410,
            6628,
            6797,
            6851,
            6896,
            7764,
            7901
           ]
          },
          {
           "line": {
            "color": "red",
            "shape": "hv"
           },
           "mode": "lines+markers",
           "type": "scatter",
           "x": [
            491,
            494,
            501,
            503,
            504,
            505,
            506,
            509,
            510,
            511,
            517,
            519,
            520,
            521,
            522,
            540,
            542
           ],
           "y": [
            555,
            580,
            635,
            909,
            1399,
            1723,
            1853,
            2422,
            2890,
            3131,
            3530,
            3756,
            3982,
            4182,
            4646,
            4789,
            4823
           ]
          }
         ],
         "name": "92"
        },
        {
         "data": [
          {
           "line": {
            "color": "green",
            "shape": "hv"
           },
           "mode": "lines+markers",
           "type": "scatter",
           "x": [
            489,
            488,
            487,
            485,
            484,
            483,
            482,
            481,
            480,
            479,
            477,
            476,
            473,
            471,
            470,
            461,
            458,
            457,
            452,
            446
           ],
           "y": [
            1661,
            2252,
            2419,
            3292,
            3795,
            3845,
            4217,
            4247,
            4896,
            5312,
            5695,
            5850,
            6209,
            6410,
            6628,
            6797,
            6851,
            6896,
            7764,
            7901
           ]
          },
          {
           "line": {
            "color": "red",
            "shape": "hv"
           },
           "mode": "lines+markers",
           "type": "scatter",
           "x": [
            491,
            494,
            501,
            503,
            504,
            505,
            506,
            509,
            510,
            511,
            517,
            519,
            520,
            521,
            522,
            540,
            542
           ],
           "y": [
            240,
            265,
            320,
            594,
            1084,
            1408,
            1538,
            2107,
            2575,
            2816,
            3215,
            3441,
            3667,
            3867,
            4331,
            4474,
            4508
           ]
          }
         ],
         "name": "93"
        },
        {
         "data": [
          {
           "line": {
            "color": "green",
            "shape": "hv"
           },
           "mode": "lines+markers",
           "type": "scatter",
           "x": [
            489,
            488,
            487,
            485,
            484,
            483,
            482,
            481,
            480,
            479,
            477,
            476,
            473,
            471,
            470,
            461,
            458,
            457,
            452,
            446
           ],
           "y": [
            1661,
            2252,
            2419,
            3292,
            3795,
            3845,
            4217,
            4247,
            4896,
            5312,
            5695,
            5850,
            6209,
            6410,
            6628,
            6797,
            6851,
            6896,
            7764,
            7901
           ]
          },
          {
           "line": {
            "color": "red",
            "shape": "hv"
           },
           "mode": "lines+markers",
           "type": "scatter",
           "x": [
            491,
            494,
            501,
            503,
            504,
            505,
            506,
            509,
            510,
            511,
            516,
            517,
            519,
            520,
            521,
            522,
            540,
            542
           ],
           "y": [
            240,
            265,
            320,
            594,
            1084,
            1408,
            1538,
            2107,
            2575,
            2816,
            3229,
            3628,
            3854,
            4080,
            4280,
            4744,
            4887,
            4921
           ]
          }
         ],
         "name": "94"
        },
        {
         "data": [
          {
           "line": {
            "color": "green",
            "shape": "hv"
           },
           "mode": "lines+markers",
           "type": "scatter",
           "x": [
            498,
            489,
            488,
            487,
            485,
            484,
            483,
            482,
            481,
            480,
            479,
            477,
            476,
            473,
            471,
            470,
            461,
            458,
            457,
            452,
            446
           ],
           "y": [
            41,
            1702,
            2293,
            2460,
            3333,
            3836,
            3886,
            4258,
            4288,
            4937,
            5353,
            5736,
            5891,
            6250,
            6451,
            6669,
            6838,
            6892,
            6937,
            7805,
            7942
           ]
          },
          {
           "line": {
            "color": "red",
            "shape": "hv"
           },
           "mode": "lines+markers",
           "type": "scatter",
           "x": [
            501,
            503,
            504,
            505,
            506,
            509,
            510,
            511,
            516,
            517,
            519,
            520,
            521,
            522,
            540,
            542
           ],
           "y": [
            55,
            329,
            819,
            1143,
            1273,
            1842,
            2310,
            2551,
            2964,
            3363,
            3589,
            3815,
            4015,
            4479,
            4622,
            4656
           ]
          }
         ],
         "name": "95"
        },
        {
         "data": [
          {
           "line": {
            "color": "green",
            "shape": "hv"
           },
           "mode": "lines+markers",
           "type": "scatter",
           "x": [
            489,
            488,
            487,
            485,
            484,
            483,
            482,
            481,
            480,
            479,
            477,
            476,
            473,
            471,
            470,
            461,
            458,
            457,
            452,
            446
           ],
           "y": [
            181,
            772,
            939,
            1812,
            2315,
            2365,
            2737,
            2767,
            3416,
            3832,
            4215,
            4370,
            4729,
            4930,
            5148,
            5317,
            5371,
            5416,
            6284,
            6421
           ]
          },
          {
           "line": {
            "color": "red",
            "shape": "hv"
           },
           "mode": "lines+markers",
           "type": "scatter",
           "x": [
            501,
            503,
            504,
            505,
            506,
            509,
            510,
            511,
            516,
            517,
            519,
            520,
            521,
            522,
            540,
            542
           ],
           "y": [
            55,
            329,
            819,
            1143,
            1273,
            1842,
            2310,
            2551,
            2964,
            3363,
            3589,
            3815,
            4015,
            4479,
            4622,
            4656
           ]
          }
         ],
         "name": "96"
        },
        {
         "data": [
          {
           "line": {
            "color": "green",
            "shape": "hv"
           },
           "mode": "lines+markers",
           "type": "scatter",
           "x": [
            489,
            488,
            487,
            485,
            484,
            483,
            482,
            481,
            480,
            479,
            477,
            476,
            473,
            471,
            470,
            461,
            458,
            457,
            452,
            446
           ],
           "y": [
            181,
            772,
            939,
            1812,
            2315,
            2365,
            2737,
            2767,
            3416,
            3832,
            4215,
            4370,
            4729,
            4930,
            5148,
            5317,
            5371,
            5416,
            6284,
            6421
           ]
          },
          {
           "line": {
            "color": "red",
            "shape": "hv"
           },
           "mode": "lines+markers",
           "type": "scatter",
           "x": [
            501,
            503,
            504,
            505,
            506,
            509,
            510,
            511,
            516,
            517,
            519,
            520,
            521,
            522,
            540,
            542
           ],
           "y": [
            55,
            507,
            997,
            1321,
            1451,
            2020,
            2488,
            2729,
            3142,
            3541,
            3767,
            3993,
            4193,
            4657,
            4800,
            4834
           ]
          }
         ],
         "name": "97"
        },
        {
         "data": [
          {
           "line": {
            "color": "green",
            "shape": "hv"
           },
           "mode": "lines+markers",
           "type": "scatter",
           "x": [
            489,
            488,
            487,
            485,
            484,
            483,
            482,
            481,
            480,
            479,
            477,
            476,
            473,
            471,
            470,
            461,
            458,
            457,
            452,
            446
           ],
           "y": [
            181,
            772,
            939,
            1812,
            2315,
            2365,
            2737,
            2767,
            3416,
            3832,
            4215,
            4370,
            4729,
            4930,
            5148,
            5317,
            5371,
            5416,
            6284,
            6421
           ]
          },
          {
           "line": {
            "color": "red",
            "shape": "hv"
           },
           "mode": "lines+markers",
           "type": "scatter",
           "x": [
            503,
            504,
            505,
            506,
            509,
            510,
            511,
            516,
            517,
            519,
            520,
            521,
            522,
            540,
            542
           ],
           "y": [
            97,
            587,
            911,
            1041,
            1610,
            2078,
            2319,
            2732,
            3131,
            3357,
            3583,
            3783,
            4247,
            4390,
            4424
           ]
          }
         ],
         "name": "98"
        },
        {
         "data": [
          {
           "line": {
            "color": "green",
            "shape": "hv"
           },
           "mode": "lines+markers",
           "type": "scatter",
           "x": [
            489,
            488,
            487,
            485,
            484,
            483,
            482,
            481,
            480,
            479,
            477,
            476,
            473,
            471,
            470,
            461,
            458,
            457,
            452,
            446
           ],
           "y": [
            181,
            772,
            939,
            1812,
            2315,
            2365,
            2737,
            2767,
            3416,
            3832,
            4215,
            4370,
            4729,
            4930,
            5148,
            5317,
            5371,
            5416,
            6284,
            6421
           ]
          },
          {
           "line": {
            "color": "red",
            "shape": "hv"
           },
           "mode": "lines+markers",
           "type": "scatter",
           "x": [
            503,
            504,
            505,
            506,
            509,
            510,
            511,
            516,
            517,
            519,
            520,
            521,
            522,
            540,
            542
           ],
           "y": [
            97,
            587,
            911,
            1041,
            1610,
            2193,
            2434,
            2847,
            3246,
            3472,
            3698,
            3898,
            4362,
            4505,
            4539
           ]
          }
         ],
         "name": "99"
        }
       ],
       "layout": {
        "sliders": [
         {
          "len": 0.9,
          "steps": [
           {
            "args": [
             [
              "0"
             ],
             {
              "frame": {
               "duration": 200,
               "redraw": true
              },
              "mode": "immediate"
             }
            ],
            "label": "t=0",
            "method": "animate"
           },
           {
            "args": [
             [
              "1"
             ],
             {
              "frame": {
               "duration": 200,
               "redraw": true
              },
              "mode": "immediate"
             }
            ],
            "label": "t=1",
            "method": "animate"
           },
           {
            "args": [
             [
              "2"
             ],
             {
              "frame": {
               "duration": 200,
               "redraw": true
              },
              "mode": "immediate"
             }
            ],
            "label": "t=2",
            "method": "animate"
           },
           {
            "args": [
             [
              "3"
             ],
             {
              "frame": {
               "duration": 200,
               "redraw": true
              },
              "mode": "immediate"
             }
            ],
            "label": "t=3",
            "method": "animate"
           },
           {
            "args": [
             [
              "4"
             ],
             {
              "frame": {
               "duration": 200,
               "redraw": true
              },
              "mode": "immediate"
             }
            ],
            "label": "t=4",
            "method": "animate"
           },
           {
            "args": [
             [
              "5"
             ],
             {
              "frame": {
               "duration": 200,
               "redraw": true
              },
              "mode": "immediate"
             }
            ],
            "label": "t=5",
            "method": "animate"
           },
           {
            "args": [
             [
              "6"
             ],
             {
              "frame": {
               "duration": 200,
               "redraw": true
              },
              "mode": "immediate"
             }
            ],
            "label": "t=6",
            "method": "animate"
           },
           {
            "args": [
             [
              "7"
             ],
             {
              "frame": {
               "duration": 200,
               "redraw": true
              },
              "mode": "immediate"
             }
            ],
            "label": "t=7",
            "method": "animate"
           },
           {
            "args": [
             [
              "8"
             ],
             {
              "frame": {
               "duration": 200,
               "redraw": true
              },
              "mode": "immediate"
             }
            ],
            "label": "t=8",
            "method": "animate"
           },
           {
            "args": [
             [
              "9"
             ],
             {
              "frame": {
               "duration": 200,
               "redraw": true
              },
              "mode": "immediate"
             }
            ],
            "label": "t=9",
            "method": "animate"
           },
           {
            "args": [
             [
              "10"
             ],
             {
              "frame": {
               "duration": 200,
               "redraw": true
              },
              "mode": "immediate"
             }
            ],
            "label": "t=10",
            "method": "animate"
           },
           {
            "args": [
             [
              "11"
             ],
             {
              "frame": {
               "duration": 200,
               "redraw": true
              },
              "mode": "immediate"
             }
            ],
            "label": "t=11",
            "method": "animate"
           },
           {
            "args": [
             [
              "12"
             ],
             {
              "frame": {
               "duration": 200,
               "redraw": true
              },
              "mode": "immediate"
             }
            ],
            "label": "t=12",
            "method": "animate"
           },
           {
            "args": [
             [
              "13"
             ],
             {
              "frame": {
               "duration": 200,
               "redraw": true
              },
              "mode": "immediate"
             }
            ],
            "label": "t=13",
            "method": "animate"
           },
           {
            "args": [
             [
              "14"
             ],
             {
              "frame": {
               "duration": 200,
               "redraw": true
              },
              "mode": "immediate"
             }
            ],
            "label": "t=14",
            "method": "animate"
           },
           {
            "args": [
             [
              "15"
             ],
             {
              "frame": {
               "duration": 200,
               "redraw": true
              },
              "mode": "immediate"
             }
            ],
            "label": "t=15",
            "method": "animate"
           },
           {
            "args": [
             [
              "16"
             ],
             {
              "frame": {
               "duration": 200,
               "redraw": true
              },
              "mode": "immediate"
             }
            ],
            "label": "t=16",
            "method": "animate"
           },
           {
            "args": [
             [
              "17"
             ],
             {
              "frame": {
               "duration": 200,
               "redraw": true
              },
              "mode": "immediate"
             }
            ],
            "label": "t=17",
            "method": "animate"
           },
           {
            "args": [
             [
              "18"
             ],
             {
              "frame": {
               "duration": 200,
               "redraw": true
              },
              "mode": "immediate"
             }
            ],
            "label": "t=18",
            "method": "animate"
           },
           {
            "args": [
             [
              "19"
             ],
             {
              "frame": {
               "duration": 200,
               "redraw": true
              },
              "mode": "immediate"
             }
            ],
            "label": "t=19",
            "method": "animate"
           },
           {
            "args": [
             [
              "20"
             ],
             {
              "frame": {
               "duration": 200,
               "redraw": true
              },
              "mode": "immediate"
             }
            ],
            "label": "t=20",
            "method": "animate"
           },
           {
            "args": [
             [
              "21"
             ],
             {
              "frame": {
               "duration": 200,
               "redraw": true
              },
              "mode": "immediate"
             }
            ],
            "label": "t=21",
            "method": "animate"
           },
           {
            "args": [
             [
              "22"
             ],
             {
              "frame": {
               "duration": 200,
               "redraw": true
              },
              "mode": "immediate"
             }
            ],
            "label": "t=22",
            "method": "animate"
           },
           {
            "args": [
             [
              "23"
             ],
             {
              "frame": {
               "duration": 200,
               "redraw": true
              },
              "mode": "immediate"
             }
            ],
            "label": "t=23",
            "method": "animate"
           },
           {
            "args": [
             [
              "24"
             ],
             {
              "frame": {
               "duration": 200,
               "redraw": true
              },
              "mode": "immediate"
             }
            ],
            "label": "t=24",
            "method": "animate"
           },
           {
            "args": [
             [
              "25"
             ],
             {
              "frame": {
               "duration": 200,
               "redraw": true
              },
              "mode": "immediate"
             }
            ],
            "label": "t=25",
            "method": "animate"
           },
           {
            "args": [
             [
              "26"
             ],
             {
              "frame": {
               "duration": 200,
               "redraw": true
              },
              "mode": "immediate"
             }
            ],
            "label": "t=26",
            "method": "animate"
           },
           {
            "args": [
             [
              "27"
             ],
             {
              "frame": {
               "duration": 200,
               "redraw": true
              },
              "mode": "immediate"
             }
            ],
            "label": "t=27",
            "method": "animate"
           },
           {
            "args": [
             [
              "28"
             ],
             {
              "frame": {
               "duration": 200,
               "redraw": true
              },
              "mode": "immediate"
             }
            ],
            "label": "t=28",
            "method": "animate"
           },
           {
            "args": [
             [
              "29"
             ],
             {
              "frame": {
               "duration": 200,
               "redraw": true
              },
              "mode": "immediate"
             }
            ],
            "label": "t=29",
            "method": "animate"
           },
           {
            "args": [
             [
              "30"
             ],
             {
              "frame": {
               "duration": 200,
               "redraw": true
              },
              "mode": "immediate"
             }
            ],
            "label": "t=30",
            "method": "animate"
           },
           {
            "args": [
             [
              "31"
             ],
             {
              "frame": {
               "duration": 200,
               "redraw": true
              },
              "mode": "immediate"
             }
            ],
            "label": "t=31",
            "method": "animate"
           },
           {
            "args": [
             [
              "32"
             ],
             {
              "frame": {
               "duration": 200,
               "redraw": true
              },
              "mode": "immediate"
             }
            ],
            "label": "t=32",
            "method": "animate"
           },
           {
            "args": [
             [
              "33"
             ],
             {
              "frame": {
               "duration": 200,
               "redraw": true
              },
              "mode": "immediate"
             }
            ],
            "label": "t=33",
            "method": "animate"
           },
           {
            "args": [
             [
              "34"
             ],
             {
              "frame": {
               "duration": 200,
               "redraw": true
              },
              "mode": "immediate"
             }
            ],
            "label": "t=34",
            "method": "animate"
           },
           {
            "args": [
             [
              "35"
             ],
             {
              "frame": {
               "duration": 200,
               "redraw": true
              },
              "mode": "immediate"
             }
            ],
            "label": "t=35",
            "method": "animate"
           },
           {
            "args": [
             [
              "36"
             ],
             {
              "frame": {
               "duration": 200,
               "redraw": true
              },
              "mode": "immediate"
             }
            ],
            "label": "t=36",
            "method": "animate"
           },
           {
            "args": [
             [
              "37"
             ],
             {
              "frame": {
               "duration": 200,
               "redraw": true
              },
              "mode": "immediate"
             }
            ],
            "label": "t=37",
            "method": "animate"
           },
           {
            "args": [
             [
              "38"
             ],
             {
              "frame": {
               "duration": 200,
               "redraw": true
              },
              "mode": "immediate"
             }
            ],
            "label": "t=38",
            "method": "animate"
           },
           {
            "args": [
             [
              "39"
             ],
             {
              "frame": {
               "duration": 200,
               "redraw": true
              },
              "mode": "immediate"
             }
            ],
            "label": "t=39",
            "method": "animate"
           },
           {
            "args": [
             [
              "40"
             ],
             {
              "frame": {
               "duration": 200,
               "redraw": true
              },
              "mode": "immediate"
             }
            ],
            "label": "t=40",
            "method": "animate"
           },
           {
            "args": [
             [
              "41"
             ],
             {
              "frame": {
               "duration": 200,
               "redraw": true
              },
              "mode": "immediate"
             }
            ],
            "label": "t=41",
            "method": "animate"
           },
           {
            "args": [
             [
              "42"
             ],
             {
              "frame": {
               "duration": 200,
               "redraw": true
              },
              "mode": "immediate"
             }
            ],
            "label": "t=42",
            "method": "animate"
           },
           {
            "args": [
             [
              "43"
             ],
             {
              "frame": {
               "duration": 200,
               "redraw": true
              },
              "mode": "immediate"
             }
            ],
            "label": "t=43",
            "method": "animate"
           },
           {
            "args": [
             [
              "44"
             ],
             {
              "frame": {
               "duration": 200,
               "redraw": true
              },
              "mode": "immediate"
             }
            ],
            "label": "t=44",
            "method": "animate"
           },
           {
            "args": [
             [
              "45"
             ],
             {
              "frame": {
               "duration": 200,
               "redraw": true
              },
              "mode": "immediate"
             }
            ],
            "label": "t=45",
            "method": "animate"
           },
           {
            "args": [
             [
              "46"
             ],
             {
              "frame": {
               "duration": 200,
               "redraw": true
              },
              "mode": "immediate"
             }
            ],
            "label": "t=46",
            "method": "animate"
           },
           {
            "args": [
             [
              "47"
             ],
             {
              "frame": {
               "duration": 200,
               "redraw": true
              },
              "mode": "immediate"
             }
            ],
            "label": "t=47",
            "method": "animate"
           },
           {
            "args": [
             [
              "48"
             ],
             {
              "frame": {
               "duration": 200,
               "redraw": true
              },
              "mode": "immediate"
             }
            ],
            "label": "t=48",
            "method": "animate"
           },
           {
            "args": [
             [
              "49"
             ],
             {
              "frame": {
               "duration": 200,
               "redraw": true
              },
              "mode": "immediate"
             }
            ],
            "label": "t=49",
            "method": "animate"
           },
           {
            "args": [
             [
              "50"
             ],
             {
              "frame": {
               "duration": 200,
               "redraw": true
              },
              "mode": "immediate"
             }
            ],
            "label": "t=50",
            "method": "animate"
           },
           {
            "args": [
             [
              "51"
             ],
             {
              "frame": {
               "duration": 200,
               "redraw": true
              },
              "mode": "immediate"
             }
            ],
            "label": "t=51",
            "method": "animate"
           },
           {
            "args": [
             [
              "52"
             ],
             {
              "frame": {
               "duration": 200,
               "redraw": true
              },
              "mode": "immediate"
             }
            ],
            "label": "t=52",
            "method": "animate"
           },
           {
            "args": [
             [
              "53"
             ],
             {
              "frame": {
               "duration": 200,
               "redraw": true
              },
              "mode": "immediate"
             }
            ],
            "label": "t=53",
            "method": "animate"
           },
           {
            "args": [
             [
              "54"
             ],
             {
              "frame": {
               "duration": 200,
               "redraw": true
              },
              "mode": "immediate"
             }
            ],
            "label": "t=54",
            "method": "animate"
           },
           {
            "args": [
             [
              "55"
             ],
             {
              "frame": {
               "duration": 200,
               "redraw": true
              },
              "mode": "immediate"
             }
            ],
            "label": "t=55",
            "method": "animate"
           },
           {
            "args": [
             [
              "56"
             ],
             {
              "frame": {
               "duration": 200,
               "redraw": true
              },
              "mode": "immediate"
             }
            ],
            "label": "t=56",
            "method": "animate"
           },
           {
            "args": [
             [
              "57"
             ],
             {
              "frame": {
               "duration": 200,
               "redraw": true
              },
              "mode": "immediate"
             }
            ],
            "label": "t=57",
            "method": "animate"
           },
           {
            "args": [
             [
              "58"
             ],
             {
              "frame": {
               "duration": 200,
               "redraw": true
              },
              "mode": "immediate"
             }
            ],
            "label": "t=58",
            "method": "animate"
           },
           {
            "args": [
             [
              "59"
             ],
             {
              "frame": {
               "duration": 200,
               "redraw": true
              },
              "mode": "immediate"
             }
            ],
            "label": "t=59",
            "method": "animate"
           },
           {
            "args": [
             [
              "60"
             ],
             {
              "frame": {
               "duration": 200,
               "redraw": true
              },
              "mode": "immediate"
             }
            ],
            "label": "t=60",
            "method": "animate"
           },
           {
            "args": [
             [
              "61"
             ],
             {
              "frame": {
               "duration": 200,
               "redraw": true
              },
              "mode": "immediate"
             }
            ],
            "label": "t=61",
            "method": "animate"
           },
           {
            "args": [
             [
              "62"
             ],
             {
              "frame": {
               "duration": 200,
               "redraw": true
              },
              "mode": "immediate"
             }
            ],
            "label": "t=62",
            "method": "animate"
           },
           {
            "args": [
             [
              "63"
             ],
             {
              "frame": {
               "duration": 200,
               "redraw": true
              },
              "mode": "immediate"
             }
            ],
            "label": "t=63",
            "method": "animate"
           },
           {
            "args": [
             [
              "64"
             ],
             {
              "frame": {
               "duration": 200,
               "redraw": true
              },
              "mode": "immediate"
             }
            ],
            "label": "t=64",
            "method": "animate"
           },
           {
            "args": [
             [
              "65"
             ],
             {
              "frame": {
               "duration": 200,
               "redraw": true
              },
              "mode": "immediate"
             }
            ],
            "label": "t=65",
            "method": "animate"
           },
           {
            "args": [
             [
              "66"
             ],
             {
              "frame": {
               "duration": 200,
               "redraw": true
              },
              "mode": "immediate"
             }
            ],
            "label": "t=66",
            "method": "animate"
           },
           {
            "args": [
             [
              "67"
             ],
             {
              "frame": {
               "duration": 200,
               "redraw": true
              },
              "mode": "immediate"
             }
            ],
            "label": "t=67",
            "method": "animate"
           },
           {
            "args": [
             [
              "68"
             ],
             {
              "frame": {
               "duration": 200,
               "redraw": true
              },
              "mode": "immediate"
             }
            ],
            "label": "t=68",
            "method": "animate"
           },
           {
            "args": [
             [
              "69"
             ],
             {
              "frame": {
               "duration": 200,
               "redraw": true
              },
              "mode": "immediate"
             }
            ],
            "label": "t=69",
            "method": "animate"
           },
           {
            "args": [
             [
              "70"
             ],
             {
              "frame": {
               "duration": 200,
               "redraw": true
              },
              "mode": "immediate"
             }
            ],
            "label": "t=70",
            "method": "animate"
           },
           {
            "args": [
             [
              "71"
             ],
             {
              "frame": {
               "duration": 200,
               "redraw": true
              },
              "mode": "immediate"
             }
            ],
            "label": "t=71",
            "method": "animate"
           },
           {
            "args": [
             [
              "72"
             ],
             {
              "frame": {
               "duration": 200,
               "redraw": true
              },
              "mode": "immediate"
             }
            ],
            "label": "t=72",
            "method": "animate"
           },
           {
            "args": [
             [
              "73"
             ],
             {
              "frame": {
               "duration": 200,
               "redraw": true
              },
              "mode": "immediate"
             }
            ],
            "label": "t=73",
            "method": "animate"
           },
           {
            "args": [
             [
              "74"
             ],
             {
              "frame": {
               "duration": 200,
               "redraw": true
              },
              "mode": "immediate"
             }
            ],
            "label": "t=74",
            "method": "animate"
           },
           {
            "args": [
             [
              "75"
             ],
             {
              "frame": {
               "duration": 200,
               "redraw": true
              },
              "mode": "immediate"
             }
            ],
            "label": "t=75",
            "method": "animate"
           },
           {
            "args": [
             [
              "76"
             ],
             {
              "frame": {
               "duration": 200,
               "redraw": true
              },
              "mode": "immediate"
             }
            ],
            "label": "t=76",
            "method": "animate"
           },
           {
            "args": [
             [
              "77"
             ],
             {
              "frame": {
               "duration": 200,
               "redraw": true
              },
              "mode": "immediate"
             }
            ],
            "label": "t=77",
            "method": "animate"
           },
           {
            "args": [
             [
              "78"
             ],
             {
              "frame": {
               "duration": 200,
               "redraw": true
              },
              "mode": "immediate"
             }
            ],
            "label": "t=78",
            "method": "animate"
           },
           {
            "args": [
             [
              "79"
             ],
             {
              "frame": {
               "duration": 200,
               "redraw": true
              },
              "mode": "immediate"
             }
            ],
            "label": "t=79",
            "method": "animate"
           },
           {
            "args": [
             [
              "80"
             ],
             {
              "frame": {
               "duration": 200,
               "redraw": true
              },
              "mode": "immediate"
             }
            ],
            "label": "t=80",
            "method": "animate"
           },
           {
            "args": [
             [
              "81"
             ],
             {
              "frame": {
               "duration": 200,
               "redraw": true
              },
              "mode": "immediate"
             }
            ],
            "label": "t=81",
            "method": "animate"
           },
           {
            "args": [
             [
              "82"
             ],
             {
              "frame": {
               "duration": 200,
               "redraw": true
              },
              "mode": "immediate"
             }
            ],
            "label": "t=82",
            "method": "animate"
           },
           {
            "args": [
             [
              "83"
             ],
             {
              "frame": {
               "duration": 200,
               "redraw": true
              },
              "mode": "immediate"
             }
            ],
            "label": "t=83",
            "method": "animate"
           },
           {
            "args": [
             [
              "84"
             ],
             {
              "frame": {
               "duration": 200,
               "redraw": true
              },
              "mode": "immediate"
             }
            ],
            "label": "t=84",
            "method": "animate"
           },
           {
            "args": [
             [
              "85"
             ],
             {
              "frame": {
               "duration": 200,
               "redraw": true
              },
              "mode": "immediate"
             }
            ],
            "label": "t=85",
            "method": "animate"
           },
           {
            "args": [
             [
              "86"
             ],
             {
              "frame": {
               "duration": 200,
               "redraw": true
              },
              "mode": "immediate"
             }
            ],
            "label": "t=86",
            "method": "animate"
           },
           {
            "args": [
             [
              "87"
             ],
             {
              "frame": {
               "duration": 200,
               "redraw": true
              },
              "mode": "immediate"
             }
            ],
            "label": "t=87",
            "method": "animate"
           },
           {
            "args": [
             [
              "88"
             ],
             {
              "frame": {
               "duration": 200,
               "redraw": true
              },
              "mode": "immediate"
             }
            ],
            "label": "t=88",
            "method": "animate"
           },
           {
            "args": [
             [
              "89"
             ],
             {
              "frame": {
               "duration": 200,
               "redraw": true
              },
              "mode": "immediate"
             }
            ],
            "label": "t=89",
            "method": "animate"
           },
           {
            "args": [
             [
              "90"
             ],
             {
              "frame": {
               "duration": 200,
               "redraw": true
              },
              "mode": "immediate"
             }
            ],
            "label": "t=90",
            "method": "animate"
           },
           {
            "args": [
             [
              "91"
             ],
             {
              "frame": {
               "duration": 200,
               "redraw": true
              },
              "mode": "immediate"
             }
            ],
            "label": "t=91",
            "method": "animate"
           },
           {
            "args": [
             [
              "92"
             ],
             {
              "frame": {
               "duration": 200,
               "redraw": true
              },
              "mode": "immediate"
             }
            ],
            "label": "t=92",
            "method": "animate"
           },
           {
            "args": [
             [
              "93"
             ],
             {
              "frame": {
               "duration": 200,
               "redraw": true
              },
              "mode": "immediate"
             }
            ],
            "label": "t=93",
            "method": "animate"
           },
           {
            "args": [
             [
              "94"
             ],
             {
              "frame": {
               "duration": 200,
               "redraw": true
              },
              "mode": "immediate"
             }
            ],
            "label": "t=94",
            "method": "animate"
           },
           {
            "args": [
             [
              "95"
             ],
             {
              "frame": {
               "duration": 200,
               "redraw": true
              },
              "mode": "immediate"
             }
            ],
            "label": "t=95",
            "method": "animate"
           },
           {
            "args": [
             [
              "96"
             ],
             {
              "frame": {
               "duration": 200,
               "redraw": true
              },
              "mode": "immediate"
             }
            ],
            "label": "t=96",
            "method": "animate"
           },
           {
            "args": [
             [
              "97"
             ],
             {
              "frame": {
               "duration": 200,
               "redraw": true
              },
              "mode": "immediate"
             }
            ],
            "label": "t=97",
            "method": "animate"
           },
           {
            "args": [
             [
              "98"
             ],
             {
              "frame": {
               "duration": 200,
               "redraw": true
              },
              "mode": "immediate"
             }
            ],
            "label": "t=98",
            "method": "animate"
           },
           {
            "args": [
             [
              "99"
             ],
             {
              "frame": {
               "duration": 200,
               "redraw": true
              },
              "mode": "immediate"
             }
            ],
            "label": "t=99",
            "method": "animate"
           }
          ],
          "transition": {
           "duration": 0
          },
          "x": 0.1
         }
        ],
        "template": {
         "data": {
          "bar": [
           {
            "error_x": {
             "color": "#2a3f5f"
            },
            "error_y": {
             "color": "#2a3f5f"
            },
            "marker": {
             "line": {
              "color": "white",
              "width": 0.5
             },
             "pattern": {
              "fillmode": "overlay",
              "size": 10,
              "solidity": 0.2
             }
            },
            "type": "bar"
           }
          ],
          "barpolar": [
           {
            "marker": {
             "line": {
              "color": "white",
              "width": 0.5
             },
             "pattern": {
              "fillmode": "overlay",
              "size": 10,
              "solidity": 0.2
             }
            },
            "type": "barpolar"
           }
          ],
          "carpet": [
           {
            "aaxis": {
             "endlinecolor": "#2a3f5f",
             "gridcolor": "#C8D4E3",
             "linecolor": "#C8D4E3",
             "minorgridcolor": "#C8D4E3",
             "startlinecolor": "#2a3f5f"
            },
            "baxis": {
             "endlinecolor": "#2a3f5f",
             "gridcolor": "#C8D4E3",
             "linecolor": "#C8D4E3",
             "minorgridcolor": "#C8D4E3",
             "startlinecolor": "#2a3f5f"
            },
            "type": "carpet"
           }
          ],
          "choropleth": [
           {
            "colorbar": {
             "outlinewidth": 0,
             "ticks": ""
            },
            "type": "choropleth"
           }
          ],
          "contour": [
           {
            "colorbar": {
             "outlinewidth": 0,
             "ticks": ""
            },
            "colorscale": [
             [
              0,
              "#0d0887"
             ],
             [
              0.1111111111111111,
              "#46039f"
             ],
             [
              0.2222222222222222,
              "#7201a8"
             ],
             [
              0.3333333333333333,
              "#9c179e"
             ],
             [
              0.4444444444444444,
              "#bd3786"
             ],
             [
              0.5555555555555556,
              "#d8576b"
             ],
             [
              0.6666666666666666,
              "#ed7953"
             ],
             [
              0.7777777777777778,
              "#fb9f3a"
             ],
             [
              0.8888888888888888,
              "#fdca26"
             ],
             [
              1,
              "#f0f921"
             ]
            ],
            "type": "contour"
           }
          ],
          "contourcarpet": [
           {
            "colorbar": {
             "outlinewidth": 0,
             "ticks": ""
            },
            "type": "contourcarpet"
           }
          ],
          "heatmap": [
           {
            "colorbar": {
             "outlinewidth": 0,
             "ticks": ""
            },
            "colorscale": [
             [
              0,
              "#0d0887"
             ],
             [
              0.1111111111111111,
              "#46039f"
             ],
             [
              0.2222222222222222,
              "#7201a8"
             ],
             [
              0.3333333333333333,
              "#9c179e"
             ],
             [
              0.4444444444444444,
              "#bd3786"
             ],
             [
              0.5555555555555556,
              "#d8576b"
             ],
             [
              0.6666666666666666,
              "#ed7953"
             ],
             [
              0.7777777777777778,
              "#fb9f3a"
             ],
             [
              0.8888888888888888,
              "#fdca26"
             ],
             [
              1,
              "#f0f921"
             ]
            ],
            "type": "heatmap"
           }
          ],
          "heatmapgl": [
           {
            "colorbar": {
             "outlinewidth": 0,
             "ticks": ""
            },
            "colorscale": [
             [
              0,
              "#0d0887"
             ],
             [
              0.1111111111111111,
              "#46039f"
             ],
             [
              0.2222222222222222,
              "#7201a8"
             ],
             [
              0.3333333333333333,
              "#9c179e"
             ],
             [
              0.4444444444444444,
              "#bd3786"
             ],
             [
              0.5555555555555556,
              "#d8576b"
             ],
             [
              0.6666666666666666,
              "#ed7953"
             ],
             [
              0.7777777777777778,
              "#fb9f3a"
             ],
             [
              0.8888888888888888,
              "#fdca26"
             ],
             [
              1,
              "#f0f921"
             ]
            ],
            "type": "heatmapgl"
           }
          ],
          "histogram": [
           {
            "marker": {
             "pattern": {
              "fillmode": "overlay",
              "size": 10,
              "solidity": 0.2
             }
            },
            "type": "histogram"
           }
          ],
          "histogram2d": [
           {
            "colorbar": {
             "outlinewidth": 0,
             "ticks": ""
            },
            "colorscale": [
             [
              0,
              "#0d0887"
             ],
             [
              0.1111111111111111,
              "#46039f"
             ],
             [
              0.2222222222222222,
              "#7201a8"
             ],
             [
              0.3333333333333333,
              "#9c179e"
             ],
             [
              0.4444444444444444,
              "#bd3786"
             ],
             [
              0.5555555555555556,
              "#d8576b"
             ],
             [
              0.6666666666666666,
              "#ed7953"
             ],
             [
              0.7777777777777778,
              "#fb9f3a"
             ],
             [
              0.8888888888888888,
              "#fdca26"
             ],
             [
              1,
              "#f0f921"
             ]
            ],
            "type": "histogram2d"
           }
          ],
          "histogram2dcontour": [
           {
            "colorbar": {
             "outlinewidth": 0,
             "ticks": ""
            },
            "colorscale": [
             [
              0,
              "#0d0887"
             ],
             [
              0.1111111111111111,
              "#46039f"
             ],
             [
              0.2222222222222222,
              "#7201a8"
             ],
             [
              0.3333333333333333,
              "#9c179e"
             ],
             [
              0.4444444444444444,
              "#bd3786"
             ],
             [
              0.5555555555555556,
              "#d8576b"
             ],
             [
              0.6666666666666666,
              "#ed7953"
             ],
             [
              0.7777777777777778,
              "#fb9f3a"
             ],
             [
              0.8888888888888888,
              "#fdca26"
             ],
             [
              1,
              "#f0f921"
             ]
            ],
            "type": "histogram2dcontour"
           }
          ],
          "mesh3d": [
           {
            "colorbar": {
             "outlinewidth": 0,
             "ticks": ""
            },
            "type": "mesh3d"
           }
          ],
          "parcoords": [
           {
            "line": {
             "colorbar": {
              "outlinewidth": 0,
              "ticks": ""
             }
            },
            "type": "parcoords"
           }
          ],
          "pie": [
           {
            "automargin": true,
            "type": "pie"
           }
          ],
          "scatter": [
           {
            "fillpattern": {
             "fillmode": "overlay",
             "size": 10,
             "solidity": 0.2
            },
            "type": "scatter"
           }
          ],
          "scatter3d": [
           {
            "line": {
             "colorbar": {
              "outlinewidth": 0,
              "ticks": ""
             }
            },
            "marker": {
             "colorbar": {
              "outlinewidth": 0,
              "ticks": ""
             }
            },
            "type": "scatter3d"
           }
          ],
          "scattercarpet": [
           {
            "marker": {
             "colorbar": {
              "outlinewidth": 0,
              "ticks": ""
             }
            },
            "type": "scattercarpet"
           }
          ],
          "scattergeo": [
           {
            "marker": {
             "colorbar": {
              "outlinewidth": 0,
              "ticks": ""
             }
            },
            "type": "scattergeo"
           }
          ],
          "scattergl": [
           {
            "marker": {
             "colorbar": {
              "outlinewidth": 0,
              "ticks": ""
             }
            },
            "type": "scattergl"
           }
          ],
          "scattermapbox": [
           {
            "marker": {
             "colorbar": {
              "outlinewidth": 0,
              "ticks": ""
             }
            },
            "type": "scattermapbox"
           }
          ],
          "scatterpolar": [
           {
            "marker": {
             "colorbar": {
              "outlinewidth": 0,
              "ticks": ""
             }
            },
            "type": "scatterpolar"
           }
          ],
          "scatterpolargl": [
           {
            "marker": {
             "colorbar": {
              "outlinewidth": 0,
              "ticks": ""
             }
            },
            "type": "scatterpolargl"
           }
          ],
          "scatterternary": [
           {
            "marker": {
             "colorbar": {
              "outlinewidth": 0,
              "ticks": ""
             }
            },
            "type": "scatterternary"
           }
          ],
          "surface": [
           {
            "colorbar": {
             "outlinewidth": 0,
             "ticks": ""
            },
            "colorscale": [
             [
              0,
              "#0d0887"
             ],
             [
              0.1111111111111111,
              "#46039f"
             ],
             [
              0.2222222222222222,
              "#7201a8"
             ],
             [
              0.3333333333333333,
              "#9c179e"
             ],
             [
              0.4444444444444444,
              "#bd3786"
             ],
             [
              0.5555555555555556,
              "#d8576b"
             ],
             [
              0.6666666666666666,
              "#ed7953"
             ],
             [
              0.7777777777777778,
              "#fb9f3a"
             ],
             [
              0.8888888888888888,
              "#fdca26"
             ],
             [
              1,
              "#f0f921"
             ]
            ],
            "type": "surface"
           }
          ],
          "table": [
           {
            "cells": {
             "fill": {
              "color": "#EBF0F8"
             },
             "line": {
              "color": "white"
             }
            },
            "header": {
             "fill": {
              "color": "#C8D4E3"
             },
             "line": {
              "color": "white"
             }
            },
            "type": "table"
           }
          ]
         },
         "layout": {
          "annotationdefaults": {
           "arrowcolor": "#2a3f5f",
           "arrowhead": 0,
           "arrowwidth": 1
          },
          "autotypenumbers": "strict",
          "coloraxis": {
           "colorbar": {
            "outlinewidth": 0,
            "ticks": ""
           }
          },
          "colorscale": {
           "diverging": [
            [
             0,
             "#8e0152"
            ],
            [
             0.1,
             "#c51b7d"
            ],
            [
             0.2,
             "#de77ae"
            ],
            [
             0.3,
             "#f1b6da"
            ],
            [
             0.4,
             "#fde0ef"
            ],
            [
             0.5,
             "#f7f7f7"
            ],
            [
             0.6,
             "#e6f5d0"
            ],
            [
             0.7,
             "#b8e186"
            ],
            [
             0.8,
             "#7fbc41"
            ],
            [
             0.9,
             "#4d9221"
            ],
            [
             1,
             "#276419"
            ]
           ],
           "sequential": [
            [
             0,
             "#0d0887"
            ],
            [
             0.1111111111111111,
             "#46039f"
            ],
            [
             0.2222222222222222,
             "#7201a8"
            ],
            [
             0.3333333333333333,
             "#9c179e"
            ],
            [
             0.4444444444444444,
             "#bd3786"
            ],
            [
             0.5555555555555556,
             "#d8576b"
            ],
            [
             0.6666666666666666,
             "#ed7953"
            ],
            [
             0.7777777777777778,
             "#fb9f3a"
            ],
            [
             0.8888888888888888,
             "#fdca26"
            ],
            [
             1,
             "#f0f921"
            ]
           ],
           "sequentialminus": [
            [
             0,
             "#0d0887"
            ],
            [
             0.1111111111111111,
             "#46039f"
            ],
            [
             0.2222222222222222,
             "#7201a8"
            ],
            [
             0.3333333333333333,
             "#9c179e"
            ],
            [
             0.4444444444444444,
             "#bd3786"
            ],
            [
             0.5555555555555556,
             "#d8576b"
            ],
            [
             0.6666666666666666,
             "#ed7953"
            ],
            [
             0.7777777777777778,
             "#fb9f3a"
            ],
            [
             0.8888888888888888,
             "#fdca26"
            ],
            [
             1,
             "#f0f921"
            ]
           ]
          },
          "colorway": [
           "#636efa",
           "#EF553B",
           "#00cc96",
           "#ab63fa",
           "#FFA15A",
           "#19d3f3",
           "#FF6692",
           "#B6E880",
           "#FF97FF",
           "#FECB52"
          ],
          "font": {
           "color": "#2a3f5f"
          },
          "geo": {
           "bgcolor": "white",
           "lakecolor": "white",
           "landcolor": "white",
           "showlakes": true,
           "showland": true,
           "subunitcolor": "#C8D4E3"
          },
          "hoverlabel": {
           "align": "left"
          },
          "hovermode": "closest",
          "mapbox": {
           "style": "light"
          },
          "paper_bgcolor": "white",
          "plot_bgcolor": "white",
          "polar": {
           "angularaxis": {
            "gridcolor": "#EBF0F8",
            "linecolor": "#EBF0F8",
            "ticks": ""
           },
           "bgcolor": "white",
           "radialaxis": {
            "gridcolor": "#EBF0F8",
            "linecolor": "#EBF0F8",
            "ticks": ""
           }
          },
          "scene": {
           "xaxis": {
            "backgroundcolor": "white",
            "gridcolor": "#DFE8F3",
            "gridwidth": 2,
            "linecolor": "#EBF0F8",
            "showbackground": true,
            "ticks": "",
            "zerolinecolor": "#EBF0F8"
           },
           "yaxis": {
            "backgroundcolor": "white",
            "gridcolor": "#DFE8F3",
            "gridwidth": 2,
            "linecolor": "#EBF0F8",
            "showbackground": true,
            "ticks": "",
            "zerolinecolor": "#EBF0F8"
           },
           "zaxis": {
            "backgroundcolor": "white",
            "gridcolor": "#DFE8F3",
            "gridwidth": 2,
            "linecolor": "#EBF0F8",
            "showbackground": true,
            "ticks": "",
            "zerolinecolor": "#EBF0F8"
           }
          },
          "shapedefaults": {
           "line": {
            "color": "#2a3f5f"
           }
          },
          "ternary": {
           "aaxis": {
            "gridcolor": "#DFE8F3",
            "linecolor": "#A2B1C6",
            "ticks": ""
           },
           "baxis": {
            "gridcolor": "#DFE8F3",
            "linecolor": "#A2B1C6",
            "ticks": ""
           },
           "bgcolor": "white",
           "caxis": {
            "gridcolor": "#DFE8F3",
            "linecolor": "#A2B1C6",
            "ticks": ""
           }
          },
          "title": {
           "x": 0.05
          },
          "xaxis": {
           "automargin": true,
           "gridcolor": "#EBF0F8",
           "linecolor": "#EBF0F8",
           "ticks": "",
           "title": {
            "standoff": 15
           },
           "zerolinecolor": "#EBF0F8",
           "zerolinewidth": 2
          },
          "yaxis": {
           "automargin": true,
           "gridcolor": "#EBF0F8",
           "linecolor": "#EBF0F8",
           "ticks": "",
           "title": {
            "standoff": 15
           },
           "zerolinecolor": "#EBF0F8",
           "zerolinewidth": 2
          }
         }
        },
        "title": {
         "text": "Order Book Depth Chart Over Time"
        },
        "updatemenus": [
         {
          "buttons": [
           {
            "args": [
             null
            ],
            "label": "Play",
            "method": "animate"
           }
          ],
          "type": "buttons"
         }
        ],
        "xaxis": {
         "title": {
          "text": "Price"
         }
        },
        "yaxis": {
         "title": {
          "text": "Cumulative Volume"
         }
        }
       }
      },
      "text/html": [
       "<div>                            <div id=\"6cc783ed-65ef-4046-933f-8716de38ebd0\" class=\"plotly-graph-div\" style=\"height:525px; width:100%;\"></div>            <script type=\"text/javascript\">                require([\"plotly\"], function(Plotly) {                    window.PLOTLYENV=window.PLOTLYENV || {};                                    if (document.getElementById(\"6cc783ed-65ef-4046-933f-8716de38ebd0\")) {                    Plotly.newPlot(                        \"6cc783ed-65ef-4046-933f-8716de38ebd0\",                        [{\"line\":{\"color\":\"green\",\"shape\":\"hv\"},\"mode\":\"lines+markers\",\"name\":\"Bids (Buy)\",\"x\":[488.0,487.0,485.0,481.0,479.0,477.0,476.0,470.0,461.0,458.0,457.0,452.0,446.0],\"y\":[31,431,643,673,721,1104,1259,1477,1646,1700,1745,2613,2750],\"type\":\"scatter\"},{\"line\":{\"color\":\"red\",\"shape\":\"hv\"},\"mode\":\"lines+markers\",\"name\":\"Asks (Sell)\",\"x\":[489.0,493.0,519.0,521.0,522.0,540.0,542.0],\"y\":[201,685,911,1063,1311,1454,1488],\"type\":\"scatter\"}],                        {\"template\":{\"data\":{\"barpolar\":[{\"marker\":{\"line\":{\"color\":\"white\",\"width\":0.5},\"pattern\":{\"fillmode\":\"overlay\",\"size\":10,\"solidity\":0.2}},\"type\":\"barpolar\"}],\"bar\":[{\"error_x\":{\"color\":\"#2a3f5f\"},\"error_y\":{\"color\":\"#2a3f5f\"},\"marker\":{\"line\":{\"color\":\"white\",\"width\":0.5},\"pattern\":{\"fillmode\":\"overlay\",\"size\":10,\"solidity\":0.2}},\"type\":\"bar\"}],\"carpet\":[{\"aaxis\":{\"endlinecolor\":\"#2a3f5f\",\"gridcolor\":\"#C8D4E3\",\"linecolor\":\"#C8D4E3\",\"minorgridcolor\":\"#C8D4E3\",\"startlinecolor\":\"#2a3f5f\"},\"baxis\":{\"endlinecolor\":\"#2a3f5f\",\"gridcolor\":\"#C8D4E3\",\"linecolor\":\"#C8D4E3\",\"minorgridcolor\":\"#C8D4E3\",\"startlinecolor\":\"#2a3f5f\"},\"type\":\"carpet\"}],\"choropleth\":[{\"colorbar\":{\"outlinewidth\":0,\"ticks\":\"\"},\"type\":\"choropleth\"}],\"contourcarpet\":[{\"colorbar\":{\"outlinewidth\":0,\"ticks\":\"\"},\"type\":\"contourcarpet\"}],\"contour\":[{\"colorbar\":{\"outlinewidth\":0,\"ticks\":\"\"},\"colorscale\":[[0.0,\"#0d0887\"],[0.1111111111111111,\"#46039f\"],[0.2222222222222222,\"#7201a8\"],[0.3333333333333333,\"#9c179e\"],[0.4444444444444444,\"#bd3786\"],[0.5555555555555556,\"#d8576b\"],[0.6666666666666666,\"#ed7953\"],[0.7777777777777778,\"#fb9f3a\"],[0.8888888888888888,\"#fdca26\"],[1.0,\"#f0f921\"]],\"type\":\"contour\"}],\"heatmapgl\":[{\"colorbar\":{\"outlinewidth\":0,\"ticks\":\"\"},\"colorscale\":[[0.0,\"#0d0887\"],[0.1111111111111111,\"#46039f\"],[0.2222222222222222,\"#7201a8\"],[0.3333333333333333,\"#9c179e\"],[0.4444444444444444,\"#bd3786\"],[0.5555555555555556,\"#d8576b\"],[0.6666666666666666,\"#ed7953\"],[0.7777777777777778,\"#fb9f3a\"],[0.8888888888888888,\"#fdca26\"],[1.0,\"#f0f921\"]],\"type\":\"heatmapgl\"}],\"heatmap\":[{\"colorbar\":{\"outlinewidth\":0,\"ticks\":\"\"},\"colorscale\":[[0.0,\"#0d0887\"],[0.1111111111111111,\"#46039f\"],[0.2222222222222222,\"#7201a8\"],[0.3333333333333333,\"#9c179e\"],[0.4444444444444444,\"#bd3786\"],[0.5555555555555556,\"#d8576b\"],[0.6666666666666666,\"#ed7953\"],[0.7777777777777778,\"#fb9f3a\"],[0.8888888888888888,\"#fdca26\"],[1.0,\"#f0f921\"]],\"type\":\"heatmap\"}],\"histogram2dcontour\":[{\"colorbar\":{\"outlinewidth\":0,\"ticks\":\"\"},\"colorscale\":[[0.0,\"#0d0887\"],[0.1111111111111111,\"#46039f\"],[0.2222222222222222,\"#7201a8\"],[0.3333333333333333,\"#9c179e\"],[0.4444444444444444,\"#bd3786\"],[0.5555555555555556,\"#d8576b\"],[0.6666666666666666,\"#ed7953\"],[0.7777777777777778,\"#fb9f3a\"],[0.8888888888888888,\"#fdca26\"],[1.0,\"#f0f921\"]],\"type\":\"histogram2dcontour\"}],\"histogram2d\":[{\"colorbar\":{\"outlinewidth\":0,\"ticks\":\"\"},\"colorscale\":[[0.0,\"#0d0887\"],[0.1111111111111111,\"#46039f\"],[0.2222222222222222,\"#7201a8\"],[0.3333333333333333,\"#9c179e\"],[0.4444444444444444,\"#bd3786\"],[0.5555555555555556,\"#d8576b\"],[0.6666666666666666,\"#ed7953\"],[0.7777777777777778,\"#fb9f3a\"],[0.8888888888888888,\"#fdca26\"],[1.0,\"#f0f921\"]],\"type\":\"histogram2d\"}],\"histogram\":[{\"marker\":{\"pattern\":{\"fillmode\":\"overlay\",\"size\":10,\"solidity\":0.2}},\"type\":\"histogram\"}],\"mesh3d\":[{\"colorbar\":{\"outlinewidth\":0,\"ticks\":\"\"},\"type\":\"mesh3d\"}],\"parcoords\":[{\"line\":{\"colorbar\":{\"outlinewidth\":0,\"ticks\":\"\"}},\"type\":\"parcoords\"}],\"pie\":[{\"automargin\":true,\"type\":\"pie\"}],\"scatter3d\":[{\"line\":{\"colorbar\":{\"outlinewidth\":0,\"ticks\":\"\"}},\"marker\":{\"colorbar\":{\"outlinewidth\":0,\"ticks\":\"\"}},\"type\":\"scatter3d\"}],\"scattercarpet\":[{\"marker\":{\"colorbar\":{\"outlinewidth\":0,\"ticks\":\"\"}},\"type\":\"scattercarpet\"}],\"scattergeo\":[{\"marker\":{\"colorbar\":{\"outlinewidth\":0,\"ticks\":\"\"}},\"type\":\"scattergeo\"}],\"scattergl\":[{\"marker\":{\"colorbar\":{\"outlinewidth\":0,\"ticks\":\"\"}},\"type\":\"scattergl\"}],\"scattermapbox\":[{\"marker\":{\"colorbar\":{\"outlinewidth\":0,\"ticks\":\"\"}},\"type\":\"scattermapbox\"}],\"scatterpolargl\":[{\"marker\":{\"colorbar\":{\"outlinewidth\":0,\"ticks\":\"\"}},\"type\":\"scatterpolargl\"}],\"scatterpolar\":[{\"marker\":{\"colorbar\":{\"outlinewidth\":0,\"ticks\":\"\"}},\"type\":\"scatterpolar\"}],\"scatter\":[{\"fillpattern\":{\"fillmode\":\"overlay\",\"size\":10,\"solidity\":0.2},\"type\":\"scatter\"}],\"scatterternary\":[{\"marker\":{\"colorbar\":{\"outlinewidth\":0,\"ticks\":\"\"}},\"type\":\"scatterternary\"}],\"surface\":[{\"colorbar\":{\"outlinewidth\":0,\"ticks\":\"\"},\"colorscale\":[[0.0,\"#0d0887\"],[0.1111111111111111,\"#46039f\"],[0.2222222222222222,\"#7201a8\"],[0.3333333333333333,\"#9c179e\"],[0.4444444444444444,\"#bd3786\"],[0.5555555555555556,\"#d8576b\"],[0.6666666666666666,\"#ed7953\"],[0.7777777777777778,\"#fb9f3a\"],[0.8888888888888888,\"#fdca26\"],[1.0,\"#f0f921\"]],\"type\":\"surface\"}],\"table\":[{\"cells\":{\"fill\":{\"color\":\"#EBF0F8\"},\"line\":{\"color\":\"white\"}},\"header\":{\"fill\":{\"color\":\"#C8D4E3\"},\"line\":{\"color\":\"white\"}},\"type\":\"table\"}]},\"layout\":{\"annotationdefaults\":{\"arrowcolor\":\"#2a3f5f\",\"arrowhead\":0,\"arrowwidth\":1},\"autotypenumbers\":\"strict\",\"coloraxis\":{\"colorbar\":{\"outlinewidth\":0,\"ticks\":\"\"}},\"colorscale\":{\"diverging\":[[0,\"#8e0152\"],[0.1,\"#c51b7d\"],[0.2,\"#de77ae\"],[0.3,\"#f1b6da\"],[0.4,\"#fde0ef\"],[0.5,\"#f7f7f7\"],[0.6,\"#e6f5d0\"],[0.7,\"#b8e186\"],[0.8,\"#7fbc41\"],[0.9,\"#4d9221\"],[1,\"#276419\"]],\"sequential\":[[0.0,\"#0d0887\"],[0.1111111111111111,\"#46039f\"],[0.2222222222222222,\"#7201a8\"],[0.3333333333333333,\"#9c179e\"],[0.4444444444444444,\"#bd3786\"],[0.5555555555555556,\"#d8576b\"],[0.6666666666666666,\"#ed7953\"],[0.7777777777777778,\"#fb9f3a\"],[0.8888888888888888,\"#fdca26\"],[1.0,\"#f0f921\"]],\"sequentialminus\":[[0.0,\"#0d0887\"],[0.1111111111111111,\"#46039f\"],[0.2222222222222222,\"#7201a8\"],[0.3333333333333333,\"#9c179e\"],[0.4444444444444444,\"#bd3786\"],[0.5555555555555556,\"#d8576b\"],[0.6666666666666666,\"#ed7953\"],[0.7777777777777778,\"#fb9f3a\"],[0.8888888888888888,\"#fdca26\"],[1.0,\"#f0f921\"]]},\"colorway\":[\"#636efa\",\"#EF553B\",\"#00cc96\",\"#ab63fa\",\"#FFA15A\",\"#19d3f3\",\"#FF6692\",\"#B6E880\",\"#FF97FF\",\"#FECB52\"],\"font\":{\"color\":\"#2a3f5f\"},\"geo\":{\"bgcolor\":\"white\",\"lakecolor\":\"white\",\"landcolor\":\"white\",\"showlakes\":true,\"showland\":true,\"subunitcolor\":\"#C8D4E3\"},\"hoverlabel\":{\"align\":\"left\"},\"hovermode\":\"closest\",\"mapbox\":{\"style\":\"light\"},\"paper_bgcolor\":\"white\",\"plot_bgcolor\":\"white\",\"polar\":{\"angularaxis\":{\"gridcolor\":\"#EBF0F8\",\"linecolor\":\"#EBF0F8\",\"ticks\":\"\"},\"bgcolor\":\"white\",\"radialaxis\":{\"gridcolor\":\"#EBF0F8\",\"linecolor\":\"#EBF0F8\",\"ticks\":\"\"}},\"scene\":{\"xaxis\":{\"backgroundcolor\":\"white\",\"gridcolor\":\"#DFE8F3\",\"gridwidth\":2,\"linecolor\":\"#EBF0F8\",\"showbackground\":true,\"ticks\":\"\",\"zerolinecolor\":\"#EBF0F8\"},\"yaxis\":{\"backgroundcolor\":\"white\",\"gridcolor\":\"#DFE8F3\",\"gridwidth\":2,\"linecolor\":\"#EBF0F8\",\"showbackground\":true,\"ticks\":\"\",\"zerolinecolor\":\"#EBF0F8\"},\"zaxis\":{\"backgroundcolor\":\"white\",\"gridcolor\":\"#DFE8F3\",\"gridwidth\":2,\"linecolor\":\"#EBF0F8\",\"showbackground\":true,\"ticks\":\"\",\"zerolinecolor\":\"#EBF0F8\"}},\"shapedefaults\":{\"line\":{\"color\":\"#2a3f5f\"}},\"ternary\":{\"aaxis\":{\"gridcolor\":\"#DFE8F3\",\"linecolor\":\"#A2B1C6\",\"ticks\":\"\"},\"baxis\":{\"gridcolor\":\"#DFE8F3\",\"linecolor\":\"#A2B1C6\",\"ticks\":\"\"},\"bgcolor\":\"white\",\"caxis\":{\"gridcolor\":\"#DFE8F3\",\"linecolor\":\"#A2B1C6\",\"ticks\":\"\"}},\"title\":{\"x\":0.05},\"xaxis\":{\"automargin\":true,\"gridcolor\":\"#EBF0F8\",\"linecolor\":\"#EBF0F8\",\"ticks\":\"\",\"title\":{\"standoff\":15},\"zerolinecolor\":\"#EBF0F8\",\"zerolinewidth\":2},\"yaxis\":{\"automargin\":true,\"gridcolor\":\"#EBF0F8\",\"linecolor\":\"#EBF0F8\",\"ticks\":\"\",\"title\":{\"standoff\":15},\"zerolinecolor\":\"#EBF0F8\",\"zerolinewidth\":2}}},\"title\":{\"text\":\"Order Book Depth Chart Over Time\"},\"updatemenus\":[{\"buttons\":[{\"args\":[null],\"label\":\"Play\",\"method\":\"animate\"}],\"type\":\"buttons\"}],\"xaxis\":{\"title\":{\"text\":\"Price\"}},\"yaxis\":{\"title\":{\"text\":\"Cumulative Volume\"}},\"sliders\":[{\"len\":0.9,\"steps\":[{\"args\":[[\"0\"],{\"mode\":\"immediate\",\"frame\":{\"duration\":200,\"redraw\":true}}],\"label\":\"t=0\",\"method\":\"animate\"},{\"args\":[[\"1\"],{\"mode\":\"immediate\",\"frame\":{\"duration\":200,\"redraw\":true}}],\"label\":\"t=1\",\"method\":\"animate\"},{\"args\":[[\"2\"],{\"mode\":\"immediate\",\"frame\":{\"duration\":200,\"redraw\":true}}],\"label\":\"t=2\",\"method\":\"animate\"},{\"args\":[[\"3\"],{\"mode\":\"immediate\",\"frame\":{\"duration\":200,\"redraw\":true}}],\"label\":\"t=3\",\"method\":\"animate\"},{\"args\":[[\"4\"],{\"mode\":\"immediate\",\"frame\":{\"duration\":200,\"redraw\":true}}],\"label\":\"t=4\",\"method\":\"animate\"},{\"args\":[[\"5\"],{\"mode\":\"immediate\",\"frame\":{\"duration\":200,\"redraw\":true}}],\"label\":\"t=5\",\"method\":\"animate\"},{\"args\":[[\"6\"],{\"mode\":\"immediate\",\"frame\":{\"duration\":200,\"redraw\":true}}],\"label\":\"t=6\",\"method\":\"animate\"},{\"args\":[[\"7\"],{\"mode\":\"immediate\",\"frame\":{\"duration\":200,\"redraw\":true}}],\"label\":\"t=7\",\"method\":\"animate\"},{\"args\":[[\"8\"],{\"mode\":\"immediate\",\"frame\":{\"duration\":200,\"redraw\":true}}],\"label\":\"t=8\",\"method\":\"animate\"},{\"args\":[[\"9\"],{\"mode\":\"immediate\",\"frame\":{\"duration\":200,\"redraw\":true}}],\"label\":\"t=9\",\"method\":\"animate\"},{\"args\":[[\"10\"],{\"mode\":\"immediate\",\"frame\":{\"duration\":200,\"redraw\":true}}],\"label\":\"t=10\",\"method\":\"animate\"},{\"args\":[[\"11\"],{\"mode\":\"immediate\",\"frame\":{\"duration\":200,\"redraw\":true}}],\"label\":\"t=11\",\"method\":\"animate\"},{\"args\":[[\"12\"],{\"mode\":\"immediate\",\"frame\":{\"duration\":200,\"redraw\":true}}],\"label\":\"t=12\",\"method\":\"animate\"},{\"args\":[[\"13\"],{\"mode\":\"immediate\",\"frame\":{\"duration\":200,\"redraw\":true}}],\"label\":\"t=13\",\"method\":\"animate\"},{\"args\":[[\"14\"],{\"mode\":\"immediate\",\"frame\":{\"duration\":200,\"redraw\":true}}],\"label\":\"t=14\",\"method\":\"animate\"},{\"args\":[[\"15\"],{\"mode\":\"immediate\",\"frame\":{\"duration\":200,\"redraw\":true}}],\"label\":\"t=15\",\"method\":\"animate\"},{\"args\":[[\"16\"],{\"mode\":\"immediate\",\"frame\":{\"duration\":200,\"redraw\":true}}],\"label\":\"t=16\",\"method\":\"animate\"},{\"args\":[[\"17\"],{\"mode\":\"immediate\",\"frame\":{\"duration\":200,\"redraw\":true}}],\"label\":\"t=17\",\"method\":\"animate\"},{\"args\":[[\"18\"],{\"mode\":\"immediate\",\"frame\":{\"duration\":200,\"redraw\":true}}],\"label\":\"t=18\",\"method\":\"animate\"},{\"args\":[[\"19\"],{\"mode\":\"immediate\",\"frame\":{\"duration\":200,\"redraw\":true}}],\"label\":\"t=19\",\"method\":\"animate\"},{\"args\":[[\"20\"],{\"mode\":\"immediate\",\"frame\":{\"duration\":200,\"redraw\":true}}],\"label\":\"t=20\",\"method\":\"animate\"},{\"args\":[[\"21\"],{\"mode\":\"immediate\",\"frame\":{\"duration\":200,\"redraw\":true}}],\"label\":\"t=21\",\"method\":\"animate\"},{\"args\":[[\"22\"],{\"mode\":\"immediate\",\"frame\":{\"duration\":200,\"redraw\":true}}],\"label\":\"t=22\",\"method\":\"animate\"},{\"args\":[[\"23\"],{\"mode\":\"immediate\",\"frame\":{\"duration\":200,\"redraw\":true}}],\"label\":\"t=23\",\"method\":\"animate\"},{\"args\":[[\"24\"],{\"mode\":\"immediate\",\"frame\":{\"duration\":200,\"redraw\":true}}],\"label\":\"t=24\",\"method\":\"animate\"},{\"args\":[[\"25\"],{\"mode\":\"immediate\",\"frame\":{\"duration\":200,\"redraw\":true}}],\"label\":\"t=25\",\"method\":\"animate\"},{\"args\":[[\"26\"],{\"mode\":\"immediate\",\"frame\":{\"duration\":200,\"redraw\":true}}],\"label\":\"t=26\",\"method\":\"animate\"},{\"args\":[[\"27\"],{\"mode\":\"immediate\",\"frame\":{\"duration\":200,\"redraw\":true}}],\"label\":\"t=27\",\"method\":\"animate\"},{\"args\":[[\"28\"],{\"mode\":\"immediate\",\"frame\":{\"duration\":200,\"redraw\":true}}],\"label\":\"t=28\",\"method\":\"animate\"},{\"args\":[[\"29\"],{\"mode\":\"immediate\",\"frame\":{\"duration\":200,\"redraw\":true}}],\"label\":\"t=29\",\"method\":\"animate\"},{\"args\":[[\"30\"],{\"mode\":\"immediate\",\"frame\":{\"duration\":200,\"redraw\":true}}],\"label\":\"t=30\",\"method\":\"animate\"},{\"args\":[[\"31\"],{\"mode\":\"immediate\",\"frame\":{\"duration\":200,\"redraw\":true}}],\"label\":\"t=31\",\"method\":\"animate\"},{\"args\":[[\"32\"],{\"mode\":\"immediate\",\"frame\":{\"duration\":200,\"redraw\":true}}],\"label\":\"t=32\",\"method\":\"animate\"},{\"args\":[[\"33\"],{\"mode\":\"immediate\",\"frame\":{\"duration\":200,\"redraw\":true}}],\"label\":\"t=33\",\"method\":\"animate\"},{\"args\":[[\"34\"],{\"mode\":\"immediate\",\"frame\":{\"duration\":200,\"redraw\":true}}],\"label\":\"t=34\",\"method\":\"animate\"},{\"args\":[[\"35\"],{\"mode\":\"immediate\",\"frame\":{\"duration\":200,\"redraw\":true}}],\"label\":\"t=35\",\"method\":\"animate\"},{\"args\":[[\"36\"],{\"mode\":\"immediate\",\"frame\":{\"duration\":200,\"redraw\":true}}],\"label\":\"t=36\",\"method\":\"animate\"},{\"args\":[[\"37\"],{\"mode\":\"immediate\",\"frame\":{\"duration\":200,\"redraw\":true}}],\"label\":\"t=37\",\"method\":\"animate\"},{\"args\":[[\"38\"],{\"mode\":\"immediate\",\"frame\":{\"duration\":200,\"redraw\":true}}],\"label\":\"t=38\",\"method\":\"animate\"},{\"args\":[[\"39\"],{\"mode\":\"immediate\",\"frame\":{\"duration\":200,\"redraw\":true}}],\"label\":\"t=39\",\"method\":\"animate\"},{\"args\":[[\"40\"],{\"mode\":\"immediate\",\"frame\":{\"duration\":200,\"redraw\":true}}],\"label\":\"t=40\",\"method\":\"animate\"},{\"args\":[[\"41\"],{\"mode\":\"immediate\",\"frame\":{\"duration\":200,\"redraw\":true}}],\"label\":\"t=41\",\"method\":\"animate\"},{\"args\":[[\"42\"],{\"mode\":\"immediate\",\"frame\":{\"duration\":200,\"redraw\":true}}],\"label\":\"t=42\",\"method\":\"animate\"},{\"args\":[[\"43\"],{\"mode\":\"immediate\",\"frame\":{\"duration\":200,\"redraw\":true}}],\"label\":\"t=43\",\"method\":\"animate\"},{\"args\":[[\"44\"],{\"mode\":\"immediate\",\"frame\":{\"duration\":200,\"redraw\":true}}],\"label\":\"t=44\",\"method\":\"animate\"},{\"args\":[[\"45\"],{\"mode\":\"immediate\",\"frame\":{\"duration\":200,\"redraw\":true}}],\"label\":\"t=45\",\"method\":\"animate\"},{\"args\":[[\"46\"],{\"mode\":\"immediate\",\"frame\":{\"duration\":200,\"redraw\":true}}],\"label\":\"t=46\",\"method\":\"animate\"},{\"args\":[[\"47\"],{\"mode\":\"immediate\",\"frame\":{\"duration\":200,\"redraw\":true}}],\"label\":\"t=47\",\"method\":\"animate\"},{\"args\":[[\"48\"],{\"mode\":\"immediate\",\"frame\":{\"duration\":200,\"redraw\":true}}],\"label\":\"t=48\",\"method\":\"animate\"},{\"args\":[[\"49\"],{\"mode\":\"immediate\",\"frame\":{\"duration\":200,\"redraw\":true}}],\"label\":\"t=49\",\"method\":\"animate\"},{\"args\":[[\"50\"],{\"mode\":\"immediate\",\"frame\":{\"duration\":200,\"redraw\":true}}],\"label\":\"t=50\",\"method\":\"animate\"},{\"args\":[[\"51\"],{\"mode\":\"immediate\",\"frame\":{\"duration\":200,\"redraw\":true}}],\"label\":\"t=51\",\"method\":\"animate\"},{\"args\":[[\"52\"],{\"mode\":\"immediate\",\"frame\":{\"duration\":200,\"redraw\":true}}],\"label\":\"t=52\",\"method\":\"animate\"},{\"args\":[[\"53\"],{\"mode\":\"immediate\",\"frame\":{\"duration\":200,\"redraw\":true}}],\"label\":\"t=53\",\"method\":\"animate\"},{\"args\":[[\"54\"],{\"mode\":\"immediate\",\"frame\":{\"duration\":200,\"redraw\":true}}],\"label\":\"t=54\",\"method\":\"animate\"},{\"args\":[[\"55\"],{\"mode\":\"immediate\",\"frame\":{\"duration\":200,\"redraw\":true}}],\"label\":\"t=55\",\"method\":\"animate\"},{\"args\":[[\"56\"],{\"mode\":\"immediate\",\"frame\":{\"duration\":200,\"redraw\":true}}],\"label\":\"t=56\",\"method\":\"animate\"},{\"args\":[[\"57\"],{\"mode\":\"immediate\",\"frame\":{\"duration\":200,\"redraw\":true}}],\"label\":\"t=57\",\"method\":\"animate\"},{\"args\":[[\"58\"],{\"mode\":\"immediate\",\"frame\":{\"duration\":200,\"redraw\":true}}],\"label\":\"t=58\",\"method\":\"animate\"},{\"args\":[[\"59\"],{\"mode\":\"immediate\",\"frame\":{\"duration\":200,\"redraw\":true}}],\"label\":\"t=59\",\"method\":\"animate\"},{\"args\":[[\"60\"],{\"mode\":\"immediate\",\"frame\":{\"duration\":200,\"redraw\":true}}],\"label\":\"t=60\",\"method\":\"animate\"},{\"args\":[[\"61\"],{\"mode\":\"immediate\",\"frame\":{\"duration\":200,\"redraw\":true}}],\"label\":\"t=61\",\"method\":\"animate\"},{\"args\":[[\"62\"],{\"mode\":\"immediate\",\"frame\":{\"duration\":200,\"redraw\":true}}],\"label\":\"t=62\",\"method\":\"animate\"},{\"args\":[[\"63\"],{\"mode\":\"immediate\",\"frame\":{\"duration\":200,\"redraw\":true}}],\"label\":\"t=63\",\"method\":\"animate\"},{\"args\":[[\"64\"],{\"mode\":\"immediate\",\"frame\":{\"duration\":200,\"redraw\":true}}],\"label\":\"t=64\",\"method\":\"animate\"},{\"args\":[[\"65\"],{\"mode\":\"immediate\",\"frame\":{\"duration\":200,\"redraw\":true}}],\"label\":\"t=65\",\"method\":\"animate\"},{\"args\":[[\"66\"],{\"mode\":\"immediate\",\"frame\":{\"duration\":200,\"redraw\":true}}],\"label\":\"t=66\",\"method\":\"animate\"},{\"args\":[[\"67\"],{\"mode\":\"immediate\",\"frame\":{\"duration\":200,\"redraw\":true}}],\"label\":\"t=67\",\"method\":\"animate\"},{\"args\":[[\"68\"],{\"mode\":\"immediate\",\"frame\":{\"duration\":200,\"redraw\":true}}],\"label\":\"t=68\",\"method\":\"animate\"},{\"args\":[[\"69\"],{\"mode\":\"immediate\",\"frame\":{\"duration\":200,\"redraw\":true}}],\"label\":\"t=69\",\"method\":\"animate\"},{\"args\":[[\"70\"],{\"mode\":\"immediate\",\"frame\":{\"duration\":200,\"redraw\":true}}],\"label\":\"t=70\",\"method\":\"animate\"},{\"args\":[[\"71\"],{\"mode\":\"immediate\",\"frame\":{\"duration\":200,\"redraw\":true}}],\"label\":\"t=71\",\"method\":\"animate\"},{\"args\":[[\"72\"],{\"mode\":\"immediate\",\"frame\":{\"duration\":200,\"redraw\":true}}],\"label\":\"t=72\",\"method\":\"animate\"},{\"args\":[[\"73\"],{\"mode\":\"immediate\",\"frame\":{\"duration\":200,\"redraw\":true}}],\"label\":\"t=73\",\"method\":\"animate\"},{\"args\":[[\"74\"],{\"mode\":\"immediate\",\"frame\":{\"duration\":200,\"redraw\":true}}],\"label\":\"t=74\",\"method\":\"animate\"},{\"args\":[[\"75\"],{\"mode\":\"immediate\",\"frame\":{\"duration\":200,\"redraw\":true}}],\"label\":\"t=75\",\"method\":\"animate\"},{\"args\":[[\"76\"],{\"mode\":\"immediate\",\"frame\":{\"duration\":200,\"redraw\":true}}],\"label\":\"t=76\",\"method\":\"animate\"},{\"args\":[[\"77\"],{\"mode\":\"immediate\",\"frame\":{\"duration\":200,\"redraw\":true}}],\"label\":\"t=77\",\"method\":\"animate\"},{\"args\":[[\"78\"],{\"mode\":\"immediate\",\"frame\":{\"duration\":200,\"redraw\":true}}],\"label\":\"t=78\",\"method\":\"animate\"},{\"args\":[[\"79\"],{\"mode\":\"immediate\",\"frame\":{\"duration\":200,\"redraw\":true}}],\"label\":\"t=79\",\"method\":\"animate\"},{\"args\":[[\"80\"],{\"mode\":\"immediate\",\"frame\":{\"duration\":200,\"redraw\":true}}],\"label\":\"t=80\",\"method\":\"animate\"},{\"args\":[[\"81\"],{\"mode\":\"immediate\",\"frame\":{\"duration\":200,\"redraw\":true}}],\"label\":\"t=81\",\"method\":\"animate\"},{\"args\":[[\"82\"],{\"mode\":\"immediate\",\"frame\":{\"duration\":200,\"redraw\":true}}],\"label\":\"t=82\",\"method\":\"animate\"},{\"args\":[[\"83\"],{\"mode\":\"immediate\",\"frame\":{\"duration\":200,\"redraw\":true}}],\"label\":\"t=83\",\"method\":\"animate\"},{\"args\":[[\"84\"],{\"mode\":\"immediate\",\"frame\":{\"duration\":200,\"redraw\":true}}],\"label\":\"t=84\",\"method\":\"animate\"},{\"args\":[[\"85\"],{\"mode\":\"immediate\",\"frame\":{\"duration\":200,\"redraw\":true}}],\"label\":\"t=85\",\"method\":\"animate\"},{\"args\":[[\"86\"],{\"mode\":\"immediate\",\"frame\":{\"duration\":200,\"redraw\":true}}],\"label\":\"t=86\",\"method\":\"animate\"},{\"args\":[[\"87\"],{\"mode\":\"immediate\",\"frame\":{\"duration\":200,\"redraw\":true}}],\"label\":\"t=87\",\"method\":\"animate\"},{\"args\":[[\"88\"],{\"mode\":\"immediate\",\"frame\":{\"duration\":200,\"redraw\":true}}],\"label\":\"t=88\",\"method\":\"animate\"},{\"args\":[[\"89\"],{\"mode\":\"immediate\",\"frame\":{\"duration\":200,\"redraw\":true}}],\"label\":\"t=89\",\"method\":\"animate\"},{\"args\":[[\"90\"],{\"mode\":\"immediate\",\"frame\":{\"duration\":200,\"redraw\":true}}],\"label\":\"t=90\",\"method\":\"animate\"},{\"args\":[[\"91\"],{\"mode\":\"immediate\",\"frame\":{\"duration\":200,\"redraw\":true}}],\"label\":\"t=91\",\"method\":\"animate\"},{\"args\":[[\"92\"],{\"mode\":\"immediate\",\"frame\":{\"duration\":200,\"redraw\":true}}],\"label\":\"t=92\",\"method\":\"animate\"},{\"args\":[[\"93\"],{\"mode\":\"immediate\",\"frame\":{\"duration\":200,\"redraw\":true}}],\"label\":\"t=93\",\"method\":\"animate\"},{\"args\":[[\"94\"],{\"mode\":\"immediate\",\"frame\":{\"duration\":200,\"redraw\":true}}],\"label\":\"t=94\",\"method\":\"animate\"},{\"args\":[[\"95\"],{\"mode\":\"immediate\",\"frame\":{\"duration\":200,\"redraw\":true}}],\"label\":\"t=95\",\"method\":\"animate\"},{\"args\":[[\"96\"],{\"mode\":\"immediate\",\"frame\":{\"duration\":200,\"redraw\":true}}],\"label\":\"t=96\",\"method\":\"animate\"},{\"args\":[[\"97\"],{\"mode\":\"immediate\",\"frame\":{\"duration\":200,\"redraw\":true}}],\"label\":\"t=97\",\"method\":\"animate\"},{\"args\":[[\"98\"],{\"mode\":\"immediate\",\"frame\":{\"duration\":200,\"redraw\":true}}],\"label\":\"t=98\",\"method\":\"animate\"},{\"args\":[[\"99\"],{\"mode\":\"immediate\",\"frame\":{\"duration\":200,\"redraw\":true}}],\"label\":\"t=99\",\"method\":\"animate\"}],\"transition\":{\"duration\":0},\"x\":0.1}]},                        {\"responsive\": true}                    ).then(function(){\n",
       "                            Plotly.addFrames('6cc783ed-65ef-4046-933f-8716de38ebd0', [{\"data\":[{\"line\":{\"color\":\"green\",\"shape\":\"hv\"},\"mode\":\"lines+markers\",\"x\":[488.0,487.0,485.0,481.0,479.0,477.0,476.0,470.0,461.0,458.0,457.0,452.0,446.0],\"y\":[31,431,643,673,721,1104,1259,1477,1646,1700,1745,2613,2750],\"type\":\"scatter\"},{\"line\":{\"color\":\"red\",\"shape\":\"hv\"},\"mode\":\"lines+markers\",\"x\":[489.0,493.0,519.0,521.0,522.0,540.0,542.0],\"y\":[201,685,911,1063,1311,1454,1488],\"type\":\"scatter\"}],\"name\":\"0\"},{\"data\":[{\"line\":{\"color\":\"green\",\"shape\":\"hv\"},\"mode\":\"lines+markers\",\"x\":[488.0,487.0,485.0,481.0,479.0,477.0,476.0,470.0,461.0,458.0,457.0,452.0,446.0],\"y\":[31,431,643,673,721,1104,1259,1477,1646,1700,1745,2613,2750],\"type\":\"scatter\"},{\"line\":{\"color\":\"red\",\"shape\":\"hv\"},\"mode\":\"lines+markers\",\"x\":[489.0,493.0,519.0,520.0,521.0,522.0,540.0,542.0],\"y\":[201,685,911,1137,1289,1537,1680,1714],\"type\":\"scatter\"}],\"name\":\"1\"},{\"data\":[{\"line\":{\"color\":\"green\",\"shape\":\"hv\"},\"mode\":\"lines+markers\",\"x\":[488.0,487.0,485.0,484.0,481.0,479.0,477.0,476.0,470.0,461.0,458.0,457.0,452.0,446.0],\"y\":[31,431,643,1073,1103,1151,1534,1689,1907,2076,2130,2175,3043,3180],\"type\":\"scatter\"},{\"line\":{\"color\":\"red\",\"shape\":\"hv\"},\"mode\":\"lines+markers\",\"x\":[489.0,493.0,519.0,520.0,521.0,522.0,540.0,542.0],\"y\":[201,685,911,1137,1289,1537,1680,1714],\"type\":\"scatter\"}],\"name\":\"2\"},{\"data\":[{\"line\":{\"color\":\"green\",\"shape\":\"hv\"},\"mode\":\"lines+markers\",\"x\":[488.0,487.0,485.0,484.0,481.0,479.0,477.0,476.0,470.0,461.0,458.0,457.0,452.0,446.0],\"y\":[31,431,643,1073,1103,1519,1902,2057,2275,2444,2498,2543,3411,3548],\"type\":\"scatter\"},{\"line\":{\"color\":\"red\",\"shape\":\"hv\"},\"mode\":\"lines+markers\",\"x\":[489.0,493.0,519.0,520.0,521.0,522.0,540.0,542.0],\"y\":[201,685,911,1137,1289,1537,1680,1714],\"type\":\"scatter\"}],\"name\":\"3\"},{\"data\":[{\"line\":{\"color\":\"green\",\"shape\":\"hv\"},\"mode\":\"lines+markers\",\"x\":[488.0,487.0,485.0,484.0,481.0,479.0,477.0,476.0,470.0,461.0,458.0,457.0,452.0,446.0],\"y\":[31,431,643,1073,1103,1519,1902,2057,2275,2444,2498,2543,3411,3548],\"type\":\"scatter\"},{\"line\":{\"color\":\"red\",\"shape\":\"hv\"},\"mode\":\"lines+markers\",\"x\":[489.0,493.0,496.0,519.0,520.0,521.0,522.0,540.0,542.0],\"y\":[201,685,1024,1250,1476,1628,1876,2019,2053],\"type\":\"scatter\"}],\"name\":\"4\"},{\"data\":[{\"line\":{\"color\":\"green\",\"shape\":\"hv\"},\"mode\":\"lines+markers\",\"x\":[488.0,487.0,485.0,484.0,481.0,479.0,477.0,476.0,470.0,461.0,458.0,457.0,452.0,446.0],\"y\":[31,431,643,1073,1103,1519,1902,2057,2275,2444,2498,2543,3411,3548],\"type\":\"scatter\"},{\"line\":{\"color\":\"red\",\"shape\":\"hv\"},\"mode\":\"lines+markers\",\"x\":[489.0,493.0,496.0,506.0,519.0,520.0,521.0,522.0,540.0,542.0],\"y\":[201,685,1024,1154,1380,1606,1758,2006,2149,2183],\"type\":\"scatter\"}],\"name\":\"5\"},{\"data\":[{\"line\":{\"color\":\"green\",\"shape\":\"hv\"},\"mode\":\"lines+markers\",\"x\":[488.0,487.0,485.0,484.0,481.0,479.0,477.0,476.0,470.0,461.0,458.0,457.0,452.0,446.0],\"y\":[31,431,643,1073,1103,1519,1902,2057,2275,2444,2498,2543,3411,3548],\"type\":\"scatter\"},{\"line\":{\"color\":\"red\",\"shape\":\"hv\"},\"mode\":\"lines+markers\",\"x\":[489.0,493.0,496.0,506.0,519.0,520.0,521.0,522.0,540.0,542.0],\"y\":[134,618,957,1087,1313,1539,1691,1939,2082,2116],\"type\":\"scatter\"}],\"name\":\"6\"},{\"data\":[{\"line\":{\"color\":\"green\",\"shape\":\"hv\"},\"mode\":\"lines+markers\",\"x\":[487.0,485.0,484.0,481.0,479.0,477.0,476.0,470.0,461.0,458.0,457.0,452.0,446.0],\"y\":[400,612,1042,1072,1488,1871,2026,2244,2413,2467,2512,3380,3517],\"type\":\"scatter\"},{\"line\":{\"color\":\"red\",\"shape\":\"hv\"},\"mode\":\"lines+markers\",\"x\":[488.0,489.0,493.0,496.0,506.0,519.0,520.0,521.0,522.0,540.0,542.0],\"y\":[270,404,888,1227,1357,1583,1809,1961,2209,2352,2386],\"type\":\"scatter\"}],\"name\":\"7\"},{\"data\":[{\"line\":{\"color\":\"green\",\"shape\":\"hv\"},\"mode\":\"lines+markers\",\"x\":[487.0,485.0,484.0,481.0,479.0,477.0,476.0,470.0,461.0,458.0,457.0,452.0,446.0],\"y\":[874,1086,1516,1546,1962,2345,2500,2718,2887,2941,2986,3854,3991],\"type\":\"scatter\"},{\"line\":{\"color\":\"red\",\"shape\":\"hv\"},\"mode\":\"lines+markers\",\"x\":[488.0,489.0,493.0,496.0,506.0,519.0,520.0,521.0,522.0,540.0,542.0],\"y\":[270,404,888,1227,1357,1583,1809,1961,2209,2352,2386],\"type\":\"scatter\"}],\"name\":\"8\"},{\"data\":[{\"line\":{\"color\":\"green\",\"shape\":\"hv\"},\"mode\":\"lines+markers\",\"x\":[487.0,485.0,484.0,481.0,479.0,477.0,476.0,470.0,461.0,458.0,457.0,452.0,446.0],\"y\":[874,1086,1516,1546,1962,2345,2500,2718,2887,2941,2986,3854,3991],\"type\":\"scatter\"},{\"line\":{\"color\":\"red\",\"shape\":\"hv\"},\"mode\":\"lines+markers\",\"x\":[489.0,493.0,496.0,506.0,519.0,520.0,521.0,522.0,540.0,542.0],\"y\":[65,549,888,1018,1244,1470,1622,1870,2013,2047],\"type\":\"scatter\"}],\"name\":\"9\"},{\"data\":[{\"line\":{\"color\":\"green\",\"shape\":\"hv\"},\"mode\":\"lines+markers\",\"x\":[487.0,485.0,484.0,481.0,479.0,477.0,476.0,470.0,461.0,458.0,457.0,452.0,446.0],\"y\":[874,1086,1516,1546,1962,2345,2500,2718,2887,2941,2986,3854,3991],\"type\":\"scatter\"},{\"line\":{\"color\":\"red\",\"shape\":\"hv\"},\"mode\":\"lines+markers\",\"x\":[489.0,493.0,495.0,496.0,506.0,519.0,520.0,521.0,522.0,540.0,542.0],\"y\":[65,549,785,1124,1254,1480,1706,1858,2106,2249,2283],\"type\":\"scatter\"}],\"name\":\"10\"},{\"data\":[{\"line\":{\"color\":\"green\",\"shape\":\"hv\"},\"mode\":\"lines+markers\",\"x\":[487.0,485.0,484.0,481.0,479.0,477.0,476.0,470.0,461.0,458.0,457.0,452.0,446.0],\"y\":[874,1086,1516,1546,1962,2345,2500,2718,2887,2941,2986,3854,3991],\"type\":\"scatter\"},{\"line\":{\"color\":\"red\",\"shape\":\"hv\"},\"mode\":\"lines+markers\",\"x\":[489.0,493.0,495.0,496.0,506.0,511.0,519.0,520.0,521.0,522.0,540.0,542.0],\"y\":[65,549,785,1124,1254,1429,1655,1881,2033,2281,2424,2458],\"type\":\"scatter\"}],\"name\":\"11\"},{\"data\":[{\"line\":{\"color\":\"green\",\"shape\":\"hv\"},\"mode\":\"lines+markers\",\"x\":[487.0,485.0,484.0,481.0,479.0,477.0,476.0,470.0,461.0,458.0,457.0,452.0,446.0],\"y\":[203,415,845,875,1291,1674,1829,2047,2216,2270,2315,3183,3320],\"type\":\"scatter\"},{\"line\":{\"color\":\"red\",\"shape\":\"hv\"},\"mode\":\"lines+markers\",\"x\":[489.0,493.0,495.0,496.0,506.0,511.0,519.0,520.0,521.0,522.0,540.0,542.0],\"y\":[65,549,785,1124,1254,1429,1655,1881,2033,2281,2424,2458],\"type\":\"scatter\"}],\"name\":\"12\"},{\"data\":[{\"line\":{\"color\":\"green\",\"shape\":\"hv\"},\"mode\":\"lines+markers\",\"x\":[487.0,485.0,484.0,481.0,479.0,477.0,476.0,470.0,461.0,458.0,457.0,452.0,446.0],\"y\":[497,709,1139,1169,1585,1968,2123,2341,2510,2564,2609,3477,3614],\"type\":\"scatter\"},{\"line\":{\"color\":\"red\",\"shape\":\"hv\"},\"mode\":\"lines+markers\",\"x\":[489.0,493.0,495.0,496.0,506.0,511.0,519.0,520.0,521.0,522.0,540.0,542.0],\"y\":[65,549,785,1124,1254,1429,1655,1881,2033,2281,2424,2458],\"type\":\"scatter\"}],\"name\":\"13\"},{\"data\":[{\"line\":{\"color\":\"green\",\"shape\":\"hv\"},\"mode\":\"lines+markers\",\"x\":[487.0,485.0,484.0,481.0,479.0,477.0,476.0,470.0,461.0,458.0,457.0,452.0,446.0],\"y\":[497,709,1212,1242,1658,2041,2196,2414,2583,2637,2682,3550,3687],\"type\":\"scatter\"},{\"line\":{\"color\":\"red\",\"shape\":\"hv\"},\"mode\":\"lines+markers\",\"x\":[489.0,493.0,495.0,496.0,506.0,511.0,519.0,520.0,521.0,522.0,540.0,542.0],\"y\":[65,549,785,1124,1254,1429,1655,1881,2033,2281,2424,2458],\"type\":\"scatter\"}],\"name\":\"14\"},{\"data\":[{\"line\":{\"color\":\"green\",\"shape\":\"hv\"},\"mode\":\"lines+markers\",\"x\":[487.0,485.0,484.0,481.0,479.0,477.0,476.0,470.0,461.0,458.0,457.0,452.0,446.0],\"y\":[167,379,882,912,1328,1711,1866,2084,2253,2307,2352,3220,3357],\"type\":\"scatter\"},{\"line\":{\"color\":\"red\",\"shape\":\"hv\"},\"mode\":\"lines+markers\",\"x\":[489.0,493.0,495.0,496.0,506.0,511.0,519.0,520.0,521.0,522.0,540.0,542.0],\"y\":[65,549,785,1124,1254,1429,1655,1881,2033,2281,2424,2458],\"type\":\"scatter\"}],\"name\":\"15\"},{\"data\":[{\"line\":{\"color\":\"green\",\"shape\":\"hv\"},\"mode\":\"lines+markers\",\"x\":[487.0,485.0,484.0,481.0,479.0,477.0,476.0,470.0,461.0,458.0,457.0,452.0,446.0],\"y\":[167,379,882,912,1328,1711,1866,2084,2253,2307,2352,3220,3357],\"type\":\"scatter\"},{\"line\":{\"color\":\"red\",\"shape\":\"hv\"},\"mode\":\"lines+markers\",\"x\":[489.0,493.0,495.0,496.0,506.0,511.0,519.0,520.0,521.0,522.0,540.0,542.0],\"y\":[22,506,742,1081,1211,1386,1612,1838,1990,2238,2381,2415],\"type\":\"scatter\"}],\"name\":\"16\"},{\"data\":[{\"line\":{\"color\":\"green\",\"shape\":\"hv\"},\"mode\":\"lines+markers\",\"x\":[489.0,487.0,485.0,484.0,481.0,479.0,477.0,476.0,470.0,461.0,458.0,457.0,452.0,446.0],\"y\":[221,388,600,1103,1133,1549,1932,2087,2305,2474,2528,2573,3441,3578],\"type\":\"scatter\"},{\"line\":{\"color\":\"red\",\"shape\":\"hv\"},\"mode\":\"lines+markers\",\"x\":[493.0,495.0,496.0,506.0,511.0,519.0,520.0,521.0,522.0,540.0,542.0],\"y\":[484,720,1059,1189,1364,1590,1816,1968,2216,2359,2393],\"type\":\"scatter\"}],\"name\":\"17\"},{\"data\":[{\"line\":{\"color\":\"green\",\"shape\":\"hv\"},\"mode\":\"lines+markers\",\"x\":[489.0,487.0,485.0,484.0,481.0,479.0,477.0,476.0,470.0,461.0,458.0,457.0,452.0,446.0],\"y\":[221,388,600,1103,1133,1549,1932,2087,2305,2474,2528,2573,3441,3578],\"type\":\"scatter\"},{\"line\":{\"color\":\"red\",\"shape\":\"hv\"},\"mode\":\"lines+markers\",\"x\":[493.0,495.0,496.0,497.0,506.0,511.0,519.0,520.0,521.0,522.0,540.0,542.0],\"y\":[484,720,1059,1311,1441,1616,1842,2068,2220,2468,2611,2645],\"type\":\"scatter\"}],\"name\":\"18\"},{\"data\":[{\"line\":{\"color\":\"green\",\"shape\":\"hv\"},\"mode\":\"lines+markers\",\"x\":[492.0,489.0,487.0,485.0,484.0,481.0,479.0,477.0,476.0,470.0,461.0,458.0,457.0,452.0,446.0],\"y\":[74,295,462,674,1177,1207,1623,2006,2161,2379,2548,2602,2647,3515,3652],\"type\":\"scatter\"},{\"line\":{\"color\":\"red\",\"shape\":\"hv\"},\"mode\":\"lines+markers\",\"x\":[493.0,495.0,496.0,497.0,506.0,511.0,519.0,520.0,521.0,522.0,540.0,542.0],\"y\":[484,720,1059,1311,1441,1616,1842,2068,2220,2468,2611,2645],\"type\":\"scatter\"}],\"name\":\"19\"},{\"data\":[{\"line\":{\"color\":\"green\",\"shape\":\"hv\"},\"mode\":\"lines+markers\",\"x\":[492.0,489.0,487.0,485.0,484.0,481.0,479.0,477.0,476.0,470.0,461.0,458.0,457.0,452.0,446.0],\"y\":[74,295,462,674,1177,1207,1623,2006,2161,2379,2548,2602,2647,3515,3652],\"type\":\"scatter\"},{\"line\":{\"color\":\"red\",\"shape\":\"hv\"},\"mode\":\"lines+markers\",\"x\":[493.0,495.0,496.0,497.0,506.0,511.0,519.0,520.0,521.0,522.0,540.0,542.0],\"y\":[484,720,1059,1311,1441,1616,1842,2068,2268,2516,2659,2693],\"type\":\"scatter\"}],\"name\":\"20\"},{\"data\":[{\"line\":{\"color\":\"green\",\"shape\":\"hv\"},\"mode\":\"lines+markers\",\"x\":[492.0,491.0,489.0,487.0,485.0,484.0,481.0,479.0,477.0,476.0,470.0,461.0,458.0,457.0,452.0,446.0],\"y\":[74,244,465,632,844,1347,1377,1793,2176,2331,2549,2718,2772,2817,3685,3822],\"type\":\"scatter\"},{\"line\":{\"color\":\"red\",\"shape\":\"hv\"},\"mode\":\"lines+markers\",\"x\":[493.0,495.0,496.0,497.0,506.0,511.0,519.0,520.0,521.0,522.0,540.0,542.0],\"y\":[484,720,1059,1311,1441,1616,1842,2068,2268,2516,2659,2693],\"type\":\"scatter\"}],\"name\":\"21\"},{\"data\":[{\"line\":{\"color\":\"green\",\"shape\":\"hv\"},\"mode\":\"lines+markers\",\"x\":[492.0,491.0,489.0,487.0,485.0,484.0,481.0,479.0,477.0,476.0,470.0,461.0,458.0,457.0,452.0,446.0],\"y\":[74,244,465,632,844,1347,1377,1793,2176,2331,2549,2718,2772,2817,3685,3822],\"type\":\"scatter\"},{\"line\":{\"color\":\"red\",\"shape\":\"hv\"},\"mode\":\"lines+markers\",\"x\":[493.0,495.0,496.0,497.0,506.0,511.0,519.0,520.0,521.0,522.0,540.0,542.0],\"y\":[97,333,672,924,1054,1229,1455,1681,1881,2129,2272,2306],\"type\":\"scatter\"}],\"name\":\"22\"},{\"data\":[{\"line\":{\"color\":\"green\",\"shape\":\"hv\"},\"mode\":\"lines+markers\",\"x\":[492.0,491.0,489.0,488.0,487.0,485.0,484.0,481.0,479.0,477.0,476.0,470.0,461.0,458.0,457.0,452.0,446.0],\"y\":[74,244,465,752,919,1131,1634,1664,2080,2463,2618,2836,3005,3059,3104,3972,4109],\"type\":\"scatter\"},{\"line\":{\"color\":\"red\",\"shape\":\"hv\"},\"mode\":\"lines+markers\",\"x\":[493.0,495.0,496.0,497.0,506.0,511.0,519.0,520.0,521.0,522.0,540.0,542.0],\"y\":[97,333,672,924,1054,1229,1455,1681,1881,2129,2272,2306],\"type\":\"scatter\"}],\"name\":\"23\"},{\"data\":[{\"line\":{\"color\":\"green\",\"shape\":\"hv\"},\"mode\":\"lines+markers\",\"x\":[492.0,491.0,489.0,488.0,487.0,485.0,484.0,481.0,479.0,477.0,476.0,470.0,461.0,458.0,457.0,452.0,446.0],\"y\":[74,244,465,752,919,1131,1634,1664,2080,2463,2618,2836,3005,3059,3104,3972,4109],\"type\":\"scatter\"},{\"line\":{\"color\":\"red\",\"shape\":\"hv\"},\"mode\":\"lines+markers\",\"x\":[495.0,496.0,497.0,506.0,511.0,519.0,520.0,521.0,522.0,540.0,542.0],\"y\":[127,466,718,848,1023,1249,1475,1675,1923,2066,2100],\"type\":\"scatter\"}],\"name\":\"24\"},{\"data\":[{\"line\":{\"color\":\"green\",\"shape\":\"hv\"},\"mode\":\"lines+markers\",\"x\":[492.0,491.0,489.0,488.0,487.0,485.0,484.0,481.0,479.0,477.0,476.0,470.0,461.0,458.0,457.0,452.0,446.0],\"y\":[74,244,465,752,919,1131,1634,1664,2080,2463,2618,2836,3005,3059,3104,3972,4109],\"type\":\"scatter\"},{\"line\":{\"color\":\"red\",\"shape\":\"hv\"},\"mode\":\"lines+markers\",\"x\":[495.0,496.0,497.0,506.0,510.0,511.0,519.0,520.0,521.0,522.0,540.0,542.0],\"y\":[127,466,718,848,1195,1370,1596,1822,2022,2270,2413,2447],\"type\":\"scatter\"}],\"name\":\"25\"},{\"data\":[{\"line\":{\"color\":\"green\",\"shape\":\"hv\"},\"mode\":\"lines+markers\",\"x\":[492.0,491.0,489.0,488.0,487.0,485.0,484.0,481.0,479.0,477.0,476.0,470.0,461.0,458.0,457.0,452.0,446.0],\"y\":[74,244,465,752,919,1131,1634,1664,2080,2463,2618,2836,3005,3059,3104,3972,4109],\"type\":\"scatter\"},{\"line\":{\"color\":\"red\",\"shape\":\"hv\"},\"mode\":\"lines+markers\",\"x\":[496.0,497.0,506.0,510.0,511.0,519.0,520.0,521.0,522.0,540.0,542.0],\"y\":[217,469,599,946,1121,1347,1573,1773,2021,2164,2198],\"type\":\"scatter\"}],\"name\":\"26\"},{\"data\":[{\"line\":{\"color\":\"green\",\"shape\":\"hv\"},\"mode\":\"lines+markers\",\"x\":[493.0,492.0,491.0,489.0,488.0,487.0,485.0,484.0,481.0,479.0,477.0,476.0,470.0,461.0,458.0,457.0,452.0,446.0],\"y\":[135,209,379,600,887,1054,1266,1769,1799,2215,2598,2753,2971,3140,3194,3239,4107,4244],\"type\":\"scatter\"},{\"line\":{\"color\":\"red\",\"shape\":\"hv\"},\"mode\":\"lines+markers\",\"x\":[496.0,497.0,506.0,510.0,511.0,519.0,520.0,521.0,522.0,540.0,542.0],\"y\":[217,469,599,946,1121,1347,1573,1773,2021,2164,2198],\"type\":\"scatter\"}],\"name\":\"27\"},{\"data\":[{\"line\":{\"color\":\"green\",\"shape\":\"hv\"},\"mode\":\"lines+markers\",\"x\":[491.0,489.0,488.0,487.0,485.0,484.0,481.0,479.0,477.0,476.0,470.0,461.0,458.0,457.0,452.0,446.0],\"y\":[137,358,645,812,1024,1527,1557,1973,2356,2511,2729,2898,2952,2997,3865,4002],\"type\":\"scatter\"},{\"line\":{\"color\":\"red\",\"shape\":\"hv\"},\"mode\":\"lines+markers\",\"x\":[496.0,497.0,506.0,510.0,511.0,519.0,520.0,521.0,522.0,540.0,542.0],\"y\":[217,469,599,946,1121,1347,1573,1773,2021,2164,2198],\"type\":\"scatter\"}],\"name\":\"28\"},{\"data\":[{\"line\":{\"color\":\"green\",\"shape\":\"hv\"},\"mode\":\"lines+markers\",\"x\":[491.0,489.0,488.0,487.0,485.0,484.0,481.0,479.0,477.0,476.0,470.0,461.0,458.0,457.0,452.0,446.0],\"y\":[443,664,951,1118,1330,1833,1863,2279,2662,2817,3035,3204,3258,3303,4171,4308],\"type\":\"scatter\"},{\"line\":{\"color\":\"red\",\"shape\":\"hv\"},\"mode\":\"lines+markers\",\"x\":[496.0,497.0,506.0,510.0,511.0,519.0,520.0,521.0,522.0,540.0,542.0],\"y\":[217,469,599,946,1121,1347,1573,1773,2021,2164,2198],\"type\":\"scatter\"}],\"name\":\"29\"},{\"data\":[{\"line\":{\"color\":\"green\",\"shape\":\"hv\"},\"mode\":\"lines+markers\",\"x\":[491.0,489.0,488.0,487.0,485.0,484.0,481.0,479.0,477.0,476.0,470.0,461.0,458.0,457.0,452.0,446.0],\"y\":[443,664,951,1118,1330,1833,1863,2279,2662,2817,3035,3204,3258,3303,4171,4308],\"type\":\"scatter\"},{\"line\":{\"color\":\"red\",\"shape\":\"hv\"},\"mode\":\"lines+markers\",\"x\":[495.0,496.0,497.0,506.0,510.0,511.0,519.0,520.0,521.0,522.0,540.0,542.0],\"y\":[441,658,910,1040,1387,1562,1788,2014,2214,2462,2605,2639],\"type\":\"scatter\"}],\"name\":\"30\"},{\"data\":[{\"line\":{\"color\":\"green\",\"shape\":\"hv\"},\"mode\":\"lines+markers\",\"x\":[491.0,489.0,488.0,487.0,485.0,484.0,481.0,479.0,477.0,476.0,470.0,461.0,458.0,457.0,452.0,446.0],\"y\":[443,664,951,1118,1330,1833,1863,2279,2662,2817,3035,3204,3258,3303,4171,4308],\"type\":\"scatter\"},{\"line\":{\"color\":\"red\",\"shape\":\"hv\"},\"mode\":\"lines+markers\",\"x\":[495.0,496.0,497.0,506.0,510.0,511.0,519.0,520.0,521.0,522.0,540.0,542.0],\"y\":[429,646,898,1028,1375,1550,1776,2002,2202,2450,2593,2627],\"type\":\"scatter\"}],\"name\":\"31\"},{\"data\":[{\"line\":{\"color\":\"green\",\"shape\":\"hv\"},\"mode\":\"lines+markers\",\"x\":[491.0,489.0,488.0,487.0,485.0,484.0,481.0,480.0,479.0,477.0,476.0,470.0,461.0,458.0,457.0,452.0,446.0],\"y\":[443,664,951,1118,1330,1833,1863,2145,2561,2944,3099,3317,3486,3540,3585,4453,4590],\"type\":\"scatter\"},{\"line\":{\"color\":\"red\",\"shape\":\"hv\"},\"mode\":\"lines+markers\",\"x\":[495.0,496.0,497.0,506.0,510.0,511.0,519.0,520.0,521.0,522.0,540.0,542.0],\"y\":[429,646,898,1028,1375,1550,1776,2002,2202,2450,2593,2627],\"type\":\"scatter\"}],\"name\":\"32\"},{\"data\":[{\"line\":{\"color\":\"green\",\"shape\":\"hv\"},\"mode\":\"lines+markers\",\"x\":[491.0,489.0,488.0,487.0,485.0,484.0,481.0,480.0,479.0,477.0,476.0,470.0,461.0,458.0,457.0,452.0,446.0],\"y\":[443,664,951,1118,1330,1833,1863,2145,2561,2944,3099,3317,3486,3540,3585,4453,4590],\"type\":\"scatter\"},{\"line\":{\"color\":\"red\",\"shape\":\"hv\"},\"mode\":\"lines+markers\",\"x\":[495.0,496.0,497.0,506.0,510.0,511.0,519.0,520.0,521.0,522.0,540.0,542.0],\"y\":[328,545,797,927,1274,1449,1675,1901,2101,2349,2492,2526],\"type\":\"scatter\"}],\"name\":\"33\"},{\"data\":[{\"line\":{\"color\":\"green\",\"shape\":\"hv\"},\"mode\":\"lines+markers\",\"x\":[491.0,489.0,488.0,487.0,485.0,484.0,481.0,480.0,479.0,477.0,476.0,470.0,461.0,458.0,457.0,452.0,446.0],\"y\":[293,514,801,968,1180,1683,1713,1995,2411,2794,2949,3167,3336,3390,3435,4303,4440],\"type\":\"scatter\"},{\"line\":{\"color\":\"red\",\"shape\":\"hv\"},\"mode\":\"lines+markers\",\"x\":[495.0,496.0,497.0,506.0,510.0,511.0,519.0,520.0,521.0,522.0,540.0,542.0],\"y\":[328,545,797,927,1274,1449,1675,1901,2101,2349,2492,2526],\"type\":\"scatter\"}],\"name\":\"34\"},{\"data\":[{\"line\":{\"color\":\"green\",\"shape\":\"hv\"},\"mode\":\"lines+markers\",\"x\":[492.0,491.0,489.0,488.0,487.0,485.0,484.0,481.0,480.0,479.0,477.0,476.0,470.0,461.0,458.0,457.0,452.0,446.0],\"y\":[307,600,821,1108,1275,1487,1990,2020,2302,2718,3101,3256,3474,3643,3697,3742,4610,4747],\"type\":\"scatter\"},{\"line\":{\"color\":\"red\",\"shape\":\"hv\"},\"mode\":\"lines+markers\",\"x\":[495.0,496.0,497.0,506.0,510.0,511.0,519.0,520.0,521.0,522.0,540.0,542.0],\"y\":[328,545,797,927,1274,1449,1675,1901,2101,2349,2492,2526],\"type\":\"scatter\"}],\"name\":\"35\"},{\"data\":[{\"line\":{\"color\":\"green\",\"shape\":\"hv\"},\"mode\":\"lines+markers\",\"x\":[492.0,491.0,489.0,488.0,487.0,485.0,484.0,481.0,480.0,479.0,477.0,476.0,470.0,461.0,458.0,457.0,452.0,446.0],\"y\":[307,600,821,1108,1275,1487,1990,2020,2302,2718,3101,3256,3474,3643,3697,3742,4610,4747],\"type\":\"scatter\"},{\"line\":{\"color\":\"red\",\"shape\":\"hv\"},\"mode\":\"lines+markers\",\"x\":[495.0,496.0,497.0,506.0,510.0,511.0,519.0,520.0,521.0,522.0,540.0,542.0],\"y\":[106,323,575,705,1052,1227,1453,1679,1879,2127,2270,2304],\"type\":\"scatter\"}],\"name\":\"36\"},{\"data\":[{\"line\":{\"color\":\"green\",\"shape\":\"hv\"},\"mode\":\"lines+markers\",\"x\":[492.0,491.0,489.0,488.0,487.0,485.0,484.0,481.0,480.0,479.0,477.0,476.0,470.0,461.0,458.0,457.0,452.0,446.0],\"y\":[307,600,821,1108,1275,1487,1990,2020,2302,2718,3101,3256,3474,3643,3697,3742,4610,4747],\"type\":\"scatter\"},{\"line\":{\"color\":\"red\",\"shape\":\"hv\"},\"mode\":\"lines+markers\",\"x\":[495.0,496.0,497.0,504.0,506.0,510.0,511.0,519.0,520.0,521.0,522.0,540.0,542.0],\"y\":[106,323,575,1050,1180,1527,1702,1928,2154,2354,2602,2745,2779],\"type\":\"scatter\"}],\"name\":\"37\"},{\"data\":[{\"line\":{\"color\":\"green\",\"shape\":\"hv\"},\"mode\":\"lines+markers\",\"x\":[492.0,491.0,489.0,488.0,487.0,485.0,484.0,481.0,480.0,479.0,477.0,476.0,470.0,461.0,458.0,457.0,452.0,446.0],\"y\":[307,600,821,1108,1275,1487,1990,2020,2302,2718,3101,3256,3474,3643,3697,3742,4610,4747],\"type\":\"scatter\"},{\"line\":{\"color\":\"red\",\"shape\":\"hv\"},\"mode\":\"lines+markers\",\"x\":[495.0,496.0,497.0,504.0,506.0,510.0,511.0,519.0,520.0,521.0,522.0,540.0,542.0],\"y\":[278,495,747,1222,1352,1699,1874,2100,2326,2526,2774,2917,2951],\"type\":\"scatter\"}],\"name\":\"38\"},{\"data\":[{\"line\":{\"color\":\"green\",\"shape\":\"hv\"},\"mode\":\"lines+markers\",\"x\":[492.0,491.0,489.0,488.0,487.0,485.0,484.0,481.0,480.0,479.0,477.0,476.0,471.0,470.0,461.0,458.0,457.0,452.0,446.0],\"y\":[307,600,821,1108,1275,1487,1990,2020,2302,2718,3101,3256,3457,3675,3844,3898,3943,4811,4948],\"type\":\"scatter\"},{\"line\":{\"color\":\"red\",\"shape\":\"hv\"},\"mode\":\"lines+markers\",\"x\":[495.0,496.0,497.0,504.0,506.0,510.0,511.0,519.0,520.0,521.0,522.0,540.0,542.0],\"y\":[278,495,747,1222,1352,1699,1874,2100,2326,2526,2774,2917,2951],\"type\":\"scatter\"}],\"name\":\"39\"},{\"data\":[{\"line\":{\"color\":\"green\",\"shape\":\"hv\"},\"mode\":\"lines+markers\",\"x\":[492.0,491.0,489.0,488.0,487.0,485.0,484.0,481.0,480.0,479.0,477.0,476.0,471.0,470.0,461.0,458.0,457.0,452.0,446.0],\"y\":[307,600,821,1108,1275,1487,1990,2020,2302,2718,3101,3256,3457,3675,3844,3898,3943,4811,4948],\"type\":\"scatter\"},{\"line\":{\"color\":\"red\",\"shape\":\"hv\"},\"mode\":\"lines+markers\",\"x\":[495.0,496.0,497.0,504.0,506.0,510.0,511.0,519.0,520.0,521.0,522.0,540.0,542.0],\"y\":[130,347,599,1074,1204,1551,1726,1952,2178,2378,2626,2769,2803],\"type\":\"scatter\"}],\"name\":\"40\"},{\"data\":[{\"line\":{\"color\":\"green\",\"shape\":\"hv\"},\"mode\":\"lines+markers\",\"x\":[492.0,491.0,489.0,488.0,487.0,485.0,484.0,481.0,480.0,479.0,477.0,476.0,471.0,470.0,461.0,458.0,457.0,452.0,446.0],\"y\":[307,600,821,1108,1275,1487,1990,2020,2302,2718,3101,3256,3457,3675,3844,3898,3943,4811,4948],\"type\":\"scatter\"},{\"line\":{\"color\":\"red\",\"shape\":\"hv\"},\"mode\":\"lines+markers\",\"x\":[497.0,504.0,506.0,510.0,511.0,519.0,520.0,521.0,522.0,540.0,542.0],\"y\":[183,658,788,1135,1310,1536,1762,1962,2210,2353,2387],\"type\":\"scatter\"}],\"name\":\"41\"},{\"data\":[{\"line\":{\"color\":\"green\",\"shape\":\"hv\"},\"mode\":\"lines+markers\",\"x\":[501.0,492.0,491.0,489.0,488.0,487.0,485.0,484.0,481.0,480.0,479.0,477.0,476.0,471.0,470.0,461.0,458.0,457.0,452.0,446.0],\"y\":[141,448,741,962,1249,1416,1628,2131,2161,2443,2859,3242,3397,3598,3816,3985,4039,4084,4952,5089],\"type\":\"scatter\"},{\"line\":{\"color\":\"red\",\"shape\":\"hv\"},\"mode\":\"lines+markers\",\"x\":[504.0,506.0,510.0,511.0,519.0,520.0,521.0,522.0,540.0,542.0],\"y\":[475,605,952,1127,1353,1579,1779,2027,2170,2204],\"type\":\"scatter\"}],\"name\":\"42\"},{\"data\":[{\"line\":{\"color\":\"green\",\"shape\":\"hv\"},\"mode\":\"lines+markers\",\"x\":[492.0,491.0,489.0,488.0,487.0,485.0,484.0,481.0,480.0,479.0,477.0,476.0,471.0,470.0,461.0,458.0,457.0,452.0,446.0],\"y\":[307,600,821,1108,1275,1487,1990,2020,2302,2718,3101,3256,3457,3675,3844,3898,3943,4811,4948],\"type\":\"scatter\"},{\"line\":{\"color\":\"red\",\"shape\":\"hv\"},\"mode\":\"lines+markers\",\"x\":[499.0,504.0,506.0,510.0,511.0,519.0,520.0,521.0,522.0,540.0,542.0],\"y\":[20,495,625,972,1147,1373,1599,1799,2047,2190,2224],\"type\":\"scatter\"}],\"name\":\"43\"},{\"data\":[{\"line\":{\"color\":\"green\",\"shape\":\"hv\"},\"mode\":\"lines+markers\",\"x\":[496.0,492.0,491.0,489.0,488.0,487.0,485.0,484.0,481.0,480.0,479.0,477.0,476.0,471.0,470.0,461.0,458.0,457.0,452.0,446.0],\"y\":[239,546,839,1060,1347,1514,1726,2229,2259,2541,2957,3340,3495,3696,3914,4083,4137,4182,5050,5187],\"type\":\"scatter\"},{\"line\":{\"color\":\"red\",\"shape\":\"hv\"},\"mode\":\"lines+markers\",\"x\":[499.0,504.0,506.0,510.0,511.0,519.0,520.0,521.0,522.0,540.0,542.0],\"y\":[20,495,625,972,1147,1373,1599,1799,2047,2190,2224],\"type\":\"scatter\"}],\"name\":\"44\"},{\"data\":[{\"line\":{\"color\":\"green\",\"shape\":\"hv\"},\"mode\":\"lines+markers\",\"x\":[496.0,492.0,491.0,489.0,488.0,487.0,485.0,484.0,483.0,481.0,480.0,479.0,477.0,476.0,471.0,470.0,461.0,458.0,457.0,452.0,446.0],\"y\":[239,546,839,1060,1347,1514,1726,2229,2279,2309,2591,3007,3390,3545,3746,3964,4133,4187,4232,5100,5237],\"type\":\"scatter\"},{\"line\":{\"color\":\"red\",\"shape\":\"hv\"},\"mode\":\"lines+markers\",\"x\":[499.0,504.0,506.0,510.0,511.0,519.0,520.0,521.0,522.0,540.0,542.0],\"y\":[20,495,625,972,1147,1373,1599,1799,2047,2190,2224],\"type\":\"scatter\"}],\"name\":\"45\"},{\"data\":[{\"line\":{\"color\":\"green\",\"shape\":\"hv\"},\"mode\":\"lines+markers\",\"x\":[496.0,492.0,491.0,489.0,488.0,487.0,485.0,484.0,483.0,481.0,480.0,479.0,477.0,476.0,473.0,471.0,470.0,461.0,458.0,457.0,452.0,446.0],\"y\":[239,546,839,1060,1347,1514,1726,2229,2279,2309,2591,3007,3390,3545,3904,4105,4323,4492,4546,4591,5459,5596],\"type\":\"scatter\"},{\"line\":{\"color\":\"red\",\"shape\":\"hv\"},\"mode\":\"lines+markers\",\"x\":[499.0,504.0,506.0,510.0,511.0,519.0,520.0,521.0,522.0,540.0,542.0],\"y\":[20,495,625,972,1147,1373,1599,1799,2047,2190,2224],\"type\":\"scatter\"}],\"name\":\"46\"},{\"data\":[{\"line\":{\"color\":\"green\",\"shape\":\"hv\"},\"mode\":\"lines+markers\",\"x\":[496.0,492.0,491.0,489.0,488.0,487.0,485.0,484.0,483.0,481.0,480.0,479.0,477.0,476.0,473.0,471.0,470.0,461.0,458.0,457.0,452.0,446.0],\"y\":[55,362,655,876,1163,1330,1542,2045,2095,2125,2407,2823,3206,3361,3720,3921,4139,4308,4362,4407,5275,5412],\"type\":\"scatter\"},{\"line\":{\"color\":\"red\",\"shape\":\"hv\"},\"mode\":\"lines+markers\",\"x\":[499.0,504.0,506.0,510.0,511.0,519.0,520.0,521.0,522.0,540.0,542.0],\"y\":[20,495,625,972,1147,1373,1599,1799,2047,2190,2224],\"type\":\"scatter\"}],\"name\":\"47\"},{\"data\":[{\"line\":{\"color\":\"green\",\"shape\":\"hv\"},\"mode\":\"lines+markers\",\"x\":[496.0,492.0,491.0,489.0,488.0,487.0,485.0,484.0,483.0,481.0,480.0,479.0,477.0,476.0,473.0,471.0,470.0,461.0,458.0,457.0,452.0,446.0],\"y\":[55,362,655,876,1163,1330,1793,2296,2346,2376,2658,3074,3457,3612,3971,4172,4390,4559,4613,4658,5526,5663],\"type\":\"scatter\"},{\"line\":{\"color\":\"red\",\"shape\":\"hv\"},\"mode\":\"lines+markers\",\"x\":[499.0,504.0,506.0,510.0,511.0,519.0,520.0,521.0,522.0,540.0,542.0],\"y\":[20,495,625,972,1147,1373,1599,1799,2047,2190,2224],\"type\":\"scatter\"}],\"name\":\"48\"},{\"data\":[{\"line\":{\"color\":\"green\",\"shape\":\"hv\"},\"mode\":\"lines+markers\",\"x\":[496.0,492.0,491.0,489.0,488.0,487.0,485.0,484.0,483.0,481.0,480.0,479.0,477.0,476.0,473.0,471.0,470.0,461.0,458.0,457.0,452.0,446.0],\"y\":[55,362,655,876,1163,1330,1793,2296,2346,2376,2658,3074,3457,3612,3971,4172,4390,4559,4613,4658,5526,5663],\"type\":\"scatter\"},{\"line\":{\"color\":\"red\",\"shape\":\"hv\"},\"mode\":\"lines+markers\",\"x\":[499.0,501.0,504.0,506.0,510.0,511.0,519.0,520.0,521.0,522.0,540.0,542.0],\"y\":[20,92,567,697,1044,1219,1445,1671,1871,2119,2262,2296],\"type\":\"scatter\"}],\"name\":\"49\"},{\"data\":[{\"line\":{\"color\":\"green\",\"shape\":\"hv\"},\"mode\":\"lines+markers\",\"x\":[492.0,491.0,489.0,488.0,487.0,485.0,484.0,483.0,481.0,480.0,479.0,477.0,476.0,473.0,471.0,470.0,461.0,458.0,457.0,452.0,446.0],\"y\":[203,496,717,1004,1171,1634,2137,2187,2217,2499,2915,3298,3453,3812,4013,4231,4400,4454,4499,5367,5504],\"type\":\"scatter\"},{\"line\":{\"color\":\"red\",\"shape\":\"hv\"},\"mode\":\"lines+markers\",\"x\":[499.0,501.0,504.0,506.0,510.0,511.0,519.0,520.0,521.0,522.0,540.0,542.0],\"y\":[20,92,567,697,1044,1219,1445,1671,1871,2119,2262,2296],\"type\":\"scatter\"}],\"name\":\"50\"},{\"data\":[{\"line\":{\"color\":\"green\",\"shape\":\"hv\"},\"mode\":\"lines+markers\",\"x\":[492.0,491.0,489.0,488.0,487.0,485.0,484.0,483.0,481.0,480.0,479.0,477.0,476.0,473.0,471.0,470.0,461.0,458.0,457.0,452.0,446.0],\"y\":[203,496,717,1004,1171,1634,2137,2187,2217,2499,2915,3298,3453,3812,4013,4231,4400,4454,4499,5367,5504],\"type\":\"scatter\"},{\"line\":{\"color\":\"red\",\"shape\":\"hv\"},\"mode\":\"lines+markers\",\"x\":[499.0,501.0,504.0,506.0,509.0,510.0,511.0,519.0,520.0,521.0,522.0,540.0,542.0],\"y\":[20,92,567,697,814,1161,1336,1562,1788,1988,2236,2379,2413],\"type\":\"scatter\"}],\"name\":\"51\"},{\"data\":[{\"line\":{\"color\":\"green\",\"shape\":\"hv\"},\"mode\":\"lines+markers\",\"x\":[492.0,491.0,489.0,488.0,487.0,485.0,484.0,483.0,481.0,480.0,479.0,477.0,476.0,473.0,471.0,470.0,461.0,458.0,457.0,452.0,446.0],\"y\":[203,496,717,1004,1171,1634,2137,2187,2217,2499,2915,3298,3453,3812,4013,4231,4400,4454,4499,5367,5504],\"type\":\"scatter\"},{\"line\":{\"color\":\"red\",\"shape\":\"hv\"},\"mode\":\"lines+markers\",\"x\":[499.0,501.0,503.0,504.0,506.0,509.0,510.0,511.0,519.0,520.0,521.0,522.0,540.0,542.0],\"y\":[20,92,384,859,989,1106,1453,1628,1854,2080,2280,2528,2671,2705],\"type\":\"scatter\"}],\"name\":\"52\"},{\"data\":[{\"line\":{\"color\":\"green\",\"shape\":\"hv\"},\"mode\":\"lines+markers\",\"x\":[492.0,491.0,489.0,488.0,487.0,485.0,484.0,483.0,481.0,480.0,479.0,477.0,476.0,473.0,471.0,470.0,461.0,458.0,457.0,452.0,446.0],\"y\":[203,496,717,1004,1171,1634,2137,2187,2217,2499,2915,3298,3453,3812,4013,4231,4400,4454,4499,5367,5504],\"type\":\"scatter\"},{\"line\":{\"color\":\"red\",\"shape\":\"hv\"},\"mode\":\"lines+markers\",\"x\":[499.0,501.0,503.0,504.0,506.0,509.0,510.0,511.0,519.0,520.0,521.0,522.0,540.0,542.0],\"y\":[20,92,384,859,989,1106,1574,1749,1975,2201,2401,2649,2792,2826],\"type\":\"scatter\"}],\"name\":\"53\"},{\"data\":[{\"line\":{\"color\":\"green\",\"shape\":\"hv\"},\"mode\":\"lines+markers\",\"x\":[495.0,492.0,491.0,489.0,488.0,487.0,485.0,484.0,483.0,481.0,480.0,479.0,477.0,476.0,473.0,471.0,470.0,461.0,458.0,457.0,452.0,446.0],\"y\":[25,228,521,742,1029,1196,1659,2162,2212,2242,2524,2940,3323,3478,3837,4038,4256,4425,4479,4524,5392,5529],\"type\":\"scatter\"},{\"line\":{\"color\":\"red\",\"shape\":\"hv\"},\"mode\":\"lines+markers\",\"x\":[499.0,501.0,503.0,504.0,506.0,509.0,510.0,511.0,519.0,520.0,521.0,522.0,540.0,542.0],\"y\":[20,92,384,859,989,1106,1574,1749,1975,2201,2401,2649,2792,2826],\"type\":\"scatter\"}],\"name\":\"54\"},{\"data\":[{\"line\":{\"color\":\"green\",\"shape\":\"hv\"},\"mode\":\"lines+markers\",\"x\":[492.0,491.0,489.0,488.0,487.0,485.0,484.0,483.0,481.0,480.0,479.0,477.0,476.0,473.0,471.0,470.0,461.0,458.0,457.0,452.0,446.0],\"y\":[203,496,717,1004,1171,1634,2137,2187,2217,2499,2915,3298,3453,3812,4013,4231,4400,4454,4499,5367,5504],\"type\":\"scatter\"},{\"line\":{\"color\":\"red\",\"shape\":\"hv\"},\"mode\":\"lines+markers\",\"x\":[494.0,499.0,501.0,503.0,504.0,506.0,509.0,510.0,511.0,519.0,520.0,521.0,522.0,540.0,542.0],\"y\":[51,71,143,435,910,1040,1157,1625,1800,2026,2252,2452,2700,2843,2877],\"type\":\"scatter\"}],\"name\":\"55\"},{\"data\":[{\"line\":{\"color\":\"green\",\"shape\":\"hv\"},\"mode\":\"lines+markers\",\"x\":[492.0,491.0,489.0,488.0,487.0,485.0,484.0,483.0,481.0,480.0,479.0,477.0,476.0,473.0,471.0,470.0,461.0,458.0,457.0,452.0,446.0],\"y\":[203,496,717,1004,1171,1634,2137,2187,2217,2499,2915,3298,3453,3812,4013,4231,4400,4454,4499,5367,5504],\"type\":\"scatter\"},{\"line\":{\"color\":\"red\",\"shape\":\"hv\"},\"mode\":\"lines+markers\",\"x\":[494.0,499.0,501.0,503.0,504.0,506.0,509.0,510.0,511.0,519.0,520.0,521.0,522.0,540.0,542.0],\"y\":[28,48,120,412,887,1017,1134,1602,1777,2003,2229,2429,2677,2820,2854],\"type\":\"scatter\"}],\"name\":\"56\"},{\"data\":[{\"line\":{\"color\":\"green\",\"shape\":\"hv\"},\"mode\":\"lines+markers\",\"x\":[492.0,491.0,489.0,488.0,487.0,485.0,484.0,483.0,481.0,480.0,479.0,477.0,476.0,473.0,471.0,470.0,461.0,458.0,457.0,452.0,446.0],\"y\":[203,496,717,1004,1171,1634,2137,2187,2217,2499,2915,3298,3453,3812,4013,4231,4400,4454,4499,5367,5504],\"type\":\"scatter\"},{\"line\":{\"color\":\"red\",\"shape\":\"hv\"},\"mode\":\"lines+markers\",\"x\":[494.0,499.0,501.0,503.0,504.0,506.0,509.0,510.0,511.0,519.0,520.0,521.0,522.0,540.0,542.0],\"y\":[520,540,612,904,1379,1509,1626,2094,2269,2495,2721,2921,3169,3312,3346],\"type\":\"scatter\"}],\"name\":\"57\"},{\"data\":[{\"line\":{\"color\":\"green\",\"shape\":\"hv\"},\"mode\":\"lines+markers\",\"x\":[492.0,491.0,489.0,488.0,487.0,485.0,484.0,483.0,481.0,480.0,479.0,477.0,476.0,473.0,471.0,470.0,461.0,458.0,457.0,452.0,446.0],\"y\":[203,496,1203,1490,1657,2120,2623,2673,2703,2985,3401,3784,3939,4298,4499,4717,4886,4940,4985,5853,5990],\"type\":\"scatter\"},{\"line\":{\"color\":\"red\",\"shape\":\"hv\"},\"mode\":\"lines+markers\",\"x\":[494.0,499.0,501.0,503.0,504.0,506.0,509.0,510.0,511.0,519.0,520.0,521.0,522.0,540.0,542.0],\"y\":[520,540,612,904,1379,1509,1626,2094,2269,2495,2721,2921,3169,3312,3346],\"type\":\"scatter\"}],\"name\":\"58\"},{\"data\":[{\"line\":{\"color\":\"green\",\"shape\":\"hv\"},\"mode\":\"lines+markers\",\"x\":[492.0,491.0,489.0,488.0,487.0,485.0,484.0,483.0,481.0,480.0,479.0,477.0,476.0,473.0,471.0,470.0,461.0,458.0,457.0,452.0,446.0],\"y\":[203,496,1203,1490,1657,2120,2623,2673,2703,2985,3401,3784,3939,4298,4499,4717,4886,4940,4985,5853,5990],\"type\":\"scatter\"},{\"line\":{\"color\":\"red\",\"shape\":\"hv\"},\"mode\":\"lines+markers\",\"x\":[494.0,499.0,501.0,503.0,504.0,506.0,509.0,510.0,511.0,519.0,520.0,521.0,522.0,540.0,542.0],\"y\":[520,540,612,1053,1528,1658,1775,2243,2418,2644,2870,3070,3318,3461,3495],\"type\":\"scatter\"}],\"name\":\"59\"},{\"data\":[{\"line\":{\"color\":\"green\",\"shape\":\"hv\"},\"mode\":\"lines+markers\",\"x\":[492.0,491.0,489.0,488.0,487.0,485.0,484.0,483.0,481.0,480.0,479.0,477.0,476.0,473.0,471.0,470.0,461.0,458.0,457.0,452.0,446.0],\"y\":[203,496,1203,1490,1657,2120,2623,2673,2703,2985,3401,3784,3939,4298,4499,4717,4886,4940,4985,5853,5990],\"type\":\"scatter\"},{\"line\":{\"color\":\"red\",\"shape\":\"hv\"},\"mode\":\"lines+markers\",\"x\":[494.0,499.0,501.0,503.0,504.0,506.0,509.0,510.0,511.0,519.0,520.0,521.0,522.0,540.0,542.0],\"y\":[66,86,158,599,1074,1204,1321,1789,1964,2190,2416,2616,2864,3007,3041],\"type\":\"scatter\"}],\"name\":\"60\"},{\"data\":[{\"line\":{\"color\":\"green\",\"shape\":\"hv\"},\"mode\":\"lines+markers\",\"x\":[495.0,492.0,491.0,489.0,488.0,487.0,485.0,484.0,483.0,481.0,480.0,479.0,477.0,476.0,473.0,471.0,470.0,461.0,458.0,457.0,452.0,446.0],\"y\":[65,268,561,1268,1555,1722,2185,2688,2738,2768,3050,3466,3849,4004,4363,4564,4782,4951,5005,5050,5918,6055],\"type\":\"scatter\"},{\"line\":{\"color\":\"red\",\"shape\":\"hv\"},\"mode\":\"lines+markers\",\"x\":[499.0,501.0,503.0,504.0,506.0,509.0,510.0,511.0,519.0,520.0,521.0,522.0,540.0,542.0],\"y\":[20,92,533,1008,1138,1255,1723,1898,2124,2350,2550,2798,2941,2975],\"type\":\"scatter\"}],\"name\":\"61\"},{\"data\":[{\"line\":{\"color\":\"green\",\"shape\":\"hv\"},\"mode\":\"lines+markers\",\"x\":[495.0,492.0,491.0,489.0,488.0,487.0,485.0,484.0,483.0,481.0,480.0,479.0,477.0,476.0,473.0,471.0,470.0,461.0,458.0,457.0,452.0,446.0],\"y\":[65,268,561,1268,1555,1722,2185,2688,2738,2768,3050,3466,3849,4004,4363,4564,4782,4951,5005,5050,5918,6055],\"type\":\"scatter\"},{\"line\":{\"color\":\"red\",\"shape\":\"hv\"},\"mode\":\"lines+markers\",\"x\":[501.0,503.0,504.0,506.0,509.0,510.0,511.0,519.0,520.0,521.0,522.0,540.0,542.0],\"y\":[22,463,938,1068,1185,1653,1828,2054,2280,2480,2728,2871,2905],\"type\":\"scatter\"}],\"name\":\"62\"},{\"data\":[{\"line\":{\"color\":\"green\",\"shape\":\"hv\"},\"mode\":\"lines+markers\",\"x\":[495.0,492.0,491.0,489.0,488.0,487.0,485.0,484.0,483.0,481.0,480.0,479.0,477.0,476.0,473.0,471.0,470.0,461.0,458.0,457.0,452.0,446.0],\"y\":[65,268,561,1268,1555,1722,2185,2688,2738,2768,3050,3466,3849,4004,4363,4564,4782,4951,5005,5050,5918,6055],\"type\":\"scatter\"},{\"line\":{\"color\":\"red\",\"shape\":\"hv\"},\"mode\":\"lines+markers\",\"x\":[503.0,504.0,506.0,509.0,510.0,511.0,519.0,520.0,521.0,522.0,540.0,542.0],\"y\":[114,589,719,836,1304,1479,1705,1931,2131,2379,2522,2556],\"type\":\"scatter\"}],\"name\":\"63\"},{\"data\":[{\"line\":{\"color\":\"green\",\"shape\":\"hv\"},\"mode\":\"lines+markers\",\"x\":[495.0,492.0,491.0,489.0,488.0,487.0,485.0,484.0,483.0,481.0,480.0,479.0,477.0,476.0,473.0,471.0,470.0,461.0,458.0,457.0,452.0,446.0],\"y\":[65,268,561,1268,1555,1722,2185,2688,2738,2768,3050,3466,3849,4004,4363,4564,4782,4951,5005,5050,5918,6055],\"type\":\"scatter\"},{\"line\":{\"color\":\"red\",\"shape\":\"hv\"},\"mode\":\"lines+markers\",\"x\":[503.0,504.0,506.0,509.0,510.0,511.0,517.0,519.0,520.0,521.0,522.0,540.0,542.0],\"y\":[114,589,719,836,1304,1479,1878,2104,2330,2530,2778,2921,2955],\"type\":\"scatter\"}],\"name\":\"64\"},{\"data\":[{\"line\":{\"color\":\"green\",\"shape\":\"hv\"},\"mode\":\"lines+markers\",\"x\":[495.0,492.0,491.0,489.0,488.0,487.0,485.0,484.0,483.0,481.0,480.0,479.0,477.0,476.0,473.0,471.0,470.0,461.0,458.0,457.0,452.0,446.0],\"y\":[65,268,561,1268,1555,1722,2595,3098,3148,3178,3460,3876,4259,4414,4773,4974,5192,5361,5415,5460,6328,6465],\"type\":\"scatter\"},{\"line\":{\"color\":\"red\",\"shape\":\"hv\"},\"mode\":\"lines+markers\",\"x\":[503.0,504.0,506.0,509.0,510.0,511.0,517.0,519.0,520.0,521.0,522.0,540.0,542.0],\"y\":[114,589,719,836,1304,1479,1878,2104,2330,2530,2778,2921,2955],\"type\":\"scatter\"}],\"name\":\"65\"},{\"data\":[{\"line\":{\"color\":\"green\",\"shape\":\"hv\"},\"mode\":\"lines+markers\",\"x\":[491.0,489.0,488.0,487.0,485.0,484.0,483.0,481.0,480.0,479.0,477.0,476.0,473.0,471.0,470.0,461.0,458.0,457.0,452.0,446.0],\"y\":[196,903,1190,1357,2230,2733,2783,2813,3095,3511,3894,4049,4408,4609,4827,4996,5050,5095,5963,6100],\"type\":\"scatter\"},{\"line\":{\"color\":\"red\",\"shape\":\"hv\"},\"mode\":\"lines+markers\",\"x\":[503.0,504.0,506.0,509.0,510.0,511.0,517.0,519.0,520.0,521.0,522.0,540.0,542.0],\"y\":[114,589,719,836,1304,1479,1878,2104,2330,2530,2778,2921,2955],\"type\":\"scatter\"}],\"name\":\"66\"},{\"data\":[{\"line\":{\"color\":\"green\",\"shape\":\"hv\"},\"mode\":\"lines+markers\",\"x\":[491.0,489.0,488.0,487.0,485.0,484.0,483.0,481.0,480.0,479.0,477.0,476.0,473.0,471.0,470.0,461.0,458.0,457.0,452.0,446.0],\"y\":[196,903,1190,1357,2230,2733,2783,2813,3462,3878,4261,4416,4775,4976,5194,5363,5417,5462,6330,6467],\"type\":\"scatter\"},{\"line\":{\"color\":\"red\",\"shape\":\"hv\"},\"mode\":\"lines+markers\",\"x\":[503.0,504.0,506.0,509.0,510.0,511.0,517.0,519.0,520.0,521.0,522.0,540.0,542.0],\"y\":[114,589,719,836,1304,1479,1878,2104,2330,2530,2778,2921,2955],\"type\":\"scatter\"}],\"name\":\"67\"},{\"data\":[{\"line\":{\"color\":\"green\",\"shape\":\"hv\"},\"mode\":\"lines+markers\",\"x\":[491.0,489.0,488.0,487.0,485.0,484.0,483.0,481.0,480.0,479.0,477.0,476.0,473.0,471.0,470.0,461.0,458.0,457.0,452.0,446.0],\"y\":[196,1397,1684,1851,2724,3227,3277,3307,3956,4372,4755,4910,5269,5470,5688,5857,5911,5956,6824,6961],\"type\":\"scatter\"},{\"line\":{\"color\":\"red\",\"shape\":\"hv\"},\"mode\":\"lines+markers\",\"x\":[503.0,504.0,506.0,509.0,510.0,511.0,517.0,519.0,520.0,521.0,522.0,540.0,542.0],\"y\":[114,589,719,836,1304,1479,1878,2104,2330,2530,2778,2921,2955],\"type\":\"scatter\"}],\"name\":\"68\"},{\"data\":[{\"line\":{\"color\":\"green\",\"shape\":\"hv\"},\"mode\":\"lines+markers\",\"x\":[501.0,491.0,489.0,488.0,487.0,485.0,484.0,483.0,481.0,480.0,479.0,477.0,476.0,473.0,471.0,470.0,461.0,458.0,457.0,452.0,446.0],\"y\":[36,232,1433,1720,1887,2760,3263,3313,3343,3992,4408,4791,4946,5305,5506,5724,5893,5947,5992,6860,6997],\"type\":\"scatter\"},{\"line\":{\"color\":\"red\",\"shape\":\"hv\"},\"mode\":\"lines+markers\",\"x\":[503.0,504.0,506.0,509.0,510.0,511.0,517.0,519.0,520.0,521.0,522.0,540.0,542.0],\"y\":[114,589,719,836,1304,1479,1878,2104,2330,2530,2778,2921,2955],\"type\":\"scatter\"}],\"name\":\"69\"},{\"data\":[{\"line\":{\"color\":\"green\",\"shape\":\"hv\"},\"mode\":\"lines+markers\",\"x\":[501.0,491.0,489.0,488.0,487.0,485.0,484.0,483.0,481.0,480.0,479.0,477.0,476.0,473.0,471.0,470.0,461.0,458.0,457.0,452.0,446.0],\"y\":[36,232,1707,1994,2161,3034,3537,3587,3617,4266,4682,5065,5220,5579,5780,5998,6167,6221,6266,7134,7271],\"type\":\"scatter\"},{\"line\":{\"color\":\"red\",\"shape\":\"hv\"},\"mode\":\"lines+markers\",\"x\":[503.0,504.0,506.0,509.0,510.0,511.0,517.0,519.0,520.0,521.0,522.0,540.0,542.0],\"y\":[114,589,719,836,1304,1479,1878,2104,2330,2530,2778,2921,2955],\"type\":\"scatter\"}],\"name\":\"70\"},{\"data\":[{\"line\":{\"color\":\"green\",\"shape\":\"hv\"},\"mode\":\"lines+markers\",\"x\":[501.0,491.0,490.0,489.0,488.0,487.0,485.0,484.0,483.0,481.0,480.0,479.0,477.0,476.0,473.0,471.0,470.0,461.0,458.0,457.0,452.0,446.0],\"y\":[36,232,290,1765,2052,2219,3092,3595,3645,3675,4324,4740,5123,5278,5637,5838,6056,6225,6279,6324,7192,7329],\"type\":\"scatter\"},{\"line\":{\"color\":\"red\",\"shape\":\"hv\"},\"mode\":\"lines+markers\",\"x\":[503.0,504.0,506.0,509.0,510.0,511.0,517.0,519.0,520.0,521.0,522.0,540.0,542.0],\"y\":[114,589,719,836,1304,1479,1878,2104,2330,2530,2778,2921,2955],\"type\":\"scatter\"}],\"name\":\"71\"},{\"data\":[{\"line\":{\"color\":\"green\",\"shape\":\"hv\"},\"mode\":\"lines+markers\",\"x\":[491.0,490.0,489.0,488.0,487.0,485.0,484.0,483.0,481.0,480.0,479.0,477.0,476.0,473.0,471.0,470.0,461.0,458.0,457.0,452.0,446.0],\"y\":[73,131,1606,1893,2060,2933,3436,3486,3516,4165,4581,4964,5119,5478,5679,5897,6066,6120,6165,7033,7170],\"type\":\"scatter\"},{\"line\":{\"color\":\"red\",\"shape\":\"hv\"},\"mode\":\"lines+markers\",\"x\":[503.0,504.0,506.0,509.0,510.0,511.0,517.0,519.0,520.0,521.0,522.0,540.0,542.0],\"y\":[114,589,719,836,1304,1479,1878,2104,2330,2530,2778,2921,2955],\"type\":\"scatter\"}],\"name\":\"72\"},{\"data\":[{\"line\":{\"color\":\"green\",\"shape\":\"hv\"},\"mode\":\"lines+markers\",\"x\":[491.0,490.0,489.0,488.0,487.0,485.0,484.0,483.0,481.0,480.0,479.0,477.0,476.0,473.0,471.0,470.0,461.0,458.0,457.0,452.0,446.0],\"y\":[73,131,1606,2197,2364,3237,3740,3790,3820,4469,4885,5268,5423,5782,5983,6201,6370,6424,6469,7337,7474],\"type\":\"scatter\"},{\"line\":{\"color\":\"red\",\"shape\":\"hv\"},\"mode\":\"lines+markers\",\"x\":[503.0,504.0,506.0,509.0,510.0,511.0,517.0,519.0,520.0,521.0,522.0,540.0,542.0],\"y\":[114,589,719,836,1304,1479,1878,2104,2330,2530,2778,2921,2955],\"type\":\"scatter\"}],\"name\":\"73\"},{\"data\":[{\"line\":{\"color\":\"green\",\"shape\":\"hv\"},\"mode\":\"lines+markers\",\"x\":[491.0,490.0,489.0,488.0,487.0,485.0,484.0,483.0,481.0,480.0,479.0,477.0,476.0,473.0,471.0,470.0,461.0,458.0,457.0,452.0,446.0],\"y\":[73,131,1606,2197,2364,3237,3740,3790,3820,4469,4885,5268,5423,5782,5983,6201,6370,6424,6469,7337,7474],\"type\":\"scatter\"},{\"line\":{\"color\":\"red\",\"shape\":\"hv\"},\"mode\":\"lines+markers\",\"x\":[501.0,503.0,504.0,506.0,509.0,510.0,511.0,517.0,519.0,520.0,521.0,522.0,540.0,542.0],\"y\":[240,354,829,959,1076,1544,1719,2118,2344,2570,2770,3018,3161,3195],\"type\":\"scatter\"}],\"name\":\"74\"},{\"data\":[{\"line\":{\"color\":\"green\",\"shape\":\"hv\"},\"mode\":\"lines+markers\",\"x\":[491.0,490.0,489.0,488.0,487.0,485.0,484.0,483.0,481.0,480.0,479.0,477.0,476.0,473.0,471.0,470.0,461.0,458.0,457.0,452.0,446.0],\"y\":[73,131,1606,2197,2364,3237,3740,3790,3820,4469,4885,5268,5423,5782,5983,6201,6370,6424,6469,7337,7474],\"type\":\"scatter\"},{\"line\":{\"color\":\"red\",\"shape\":\"hv\"},\"mode\":\"lines+markers\",\"x\":[501.0,503.0,504.0,506.0,509.0,510.0,511.0,517.0,519.0,520.0,521.0,522.0,540.0,542.0],\"y\":[69,183,658,788,905,1373,1548,1947,2173,2399,2599,2847,2990,3024],\"type\":\"scatter\"}],\"name\":\"75\"},{\"data\":[{\"line\":{\"color\":\"green\",\"shape\":\"hv\"},\"mode\":\"lines+markers\",\"x\":[491.0,490.0,489.0,488.0,487.0,485.0,484.0,483.0,481.0,480.0,479.0,477.0,476.0,473.0,471.0,470.0,461.0,458.0,457.0,452.0,446.0],\"y\":[73,131,1606,2197,2364,3237,3740,3790,3820,4469,4885,5268,5423,5782,5983,6201,6370,6424,6469,7337,7474],\"type\":\"scatter\"},{\"line\":{\"color\":\"red\",\"shape\":\"hv\"},\"mode\":\"lines+markers\",\"x\":[501.0,503.0,504.0,505.0,506.0,509.0,510.0,511.0,517.0,519.0,520.0,521.0,522.0,540.0,542.0],\"y\":[69,183,658,948,1078,1195,1663,1838,2237,2463,2689,2889,3137,3280,3314],\"type\":\"scatter\"}],\"name\":\"76\"},{\"data\":[{\"line\":{\"color\":\"green\",\"shape\":\"hv\"},\"mode\":\"lines+markers\",\"x\":[491.0,490.0,489.0,488.0,487.0,485.0,484.0,483.0,481.0,480.0,479.0,477.0,476.0,473.0,471.0,470.0,461.0,458.0,457.0,452.0,446.0],\"y\":[73,131,1606,2197,2364,3237,3740,3790,3820,4469,4885,5268,5423,5782,5983,6201,6370,6424,6469,7337,7474],\"type\":\"scatter\"},{\"line\":{\"color\":\"red\",\"shape\":\"hv\"},\"mode\":\"lines+markers\",\"x\":[501.0,503.0,504.0,505.0,506.0,509.0,510.0,511.0,517.0,519.0,520.0,521.0,522.0,540.0,542.0],\"y\":[55,169,644,934,1064,1181,1649,1824,2223,2449,2675,2875,3123,3266,3300],\"type\":\"scatter\"}],\"name\":\"77\"},{\"data\":[{\"line\":{\"color\":\"green\",\"shape\":\"hv\"},\"mode\":\"lines+markers\",\"x\":[496.0,491.0,490.0,489.0,488.0,487.0,485.0,484.0,483.0,481.0,480.0,479.0,477.0,476.0,473.0,471.0,470.0,461.0,458.0,457.0,452.0,446.0],\"y\":[71,144,202,1677,2268,2435,3308,3811,3861,3891,4540,4956,5339,5494,5853,6054,6272,6441,6495,6540,7408,7545],\"type\":\"scatter\"},{\"line\":{\"color\":\"red\",\"shape\":\"hv\"},\"mode\":\"lines+markers\",\"x\":[501.0,503.0,504.0,505.0,506.0,509.0,510.0,511.0,517.0,519.0,520.0,521.0,522.0,540.0,542.0],\"y\":[55,169,644,934,1064,1181,1649,1824,2223,2449,2675,2875,3123,3266,3300],\"type\":\"scatter\"}],\"name\":\"78\"},{\"data\":[{\"line\":{\"color\":\"green\",\"shape\":\"hv\"},\"mode\":\"lines+markers\",\"x\":[491.0,490.0,489.0,488.0,487.0,485.0,484.0,483.0,481.0,480.0,479.0,477.0,476.0,473.0,471.0,470.0,461.0,458.0,457.0,452.0,446.0],\"y\":[73,131,1606,2197,2364,3237,3740,3790,3820,4469,4885,5268,5423,5782,5983,6201,6370,6424,6469,7337,7474],\"type\":\"scatter\"},{\"line\":{\"color\":\"red\",\"shape\":\"hv\"},\"mode\":\"lines+markers\",\"x\":[494.0,501.0,503.0,504.0,505.0,506.0,509.0,510.0,511.0,517.0,519.0,520.0,521.0,522.0,540.0,542.0],\"y\":[173,228,342,817,1107,1237,1354,1822,1997,2396,2622,2848,3048,3296,3439,3473],\"type\":\"scatter\"}],\"name\":\"79\"},{\"data\":[{\"line\":{\"color\":\"green\",\"shape\":\"hv\"},\"mode\":\"lines+markers\",\"x\":[491.0,490.0,489.0,488.0,487.0,485.0,484.0,483.0,481.0,480.0,479.0,477.0,476.0,473.0,471.0,470.0,461.0,458.0,457.0,452.0,446.0],\"y\":[73,131,1606,2197,2364,3237,3740,3790,3820,4469,4885,5268,5423,5782,5983,6201,6370,6424,6469,7337,7474],\"type\":\"scatter\"},{\"line\":{\"color\":\"red\",\"shape\":\"hv\"},\"mode\":\"lines+markers\",\"x\":[494.0,501.0,503.0,504.0,505.0,506.0,509.0,510.0,511.0,517.0,519.0,520.0,521.0,522.0,540.0,542.0],\"y\":[173,228,502,977,1267,1397,1514,1982,2157,2556,2782,3008,3208,3456,3599,3633],\"type\":\"scatter\"}],\"name\":\"80\"},{\"data\":[{\"line\":{\"color\":\"green\",\"shape\":\"hv\"},\"mode\":\"lines+markers\",\"x\":[491.0,490.0,489.0,488.0,487.0,485.0,484.0,483.0,481.0,480.0,479.0,477.0,476.0,473.0,471.0,470.0,461.0,458.0,457.0,452.0,446.0],\"y\":[73,131,1606,2197,2364,3237,3740,3790,3820,4469,4885,5268,5423,5782,5983,6201,6370,6424,6469,7337,7474],\"type\":\"scatter\"},{\"line\":{\"color\":\"red\",\"shape\":\"hv\"},\"mode\":\"lines+markers\",\"x\":[494.0,501.0,503.0,504.0,505.0,506.0,509.0,510.0,511.0,517.0,519.0,520.0,521.0,522.0,540.0,542.0],\"y\":[173,228,502,977,1301,1431,1548,2016,2191,2590,2816,3042,3242,3490,3633,3667],\"type\":\"scatter\"}],\"name\":\"81\"},{\"data\":[{\"line\":{\"color\":\"green\",\"shape\":\"hv\"},\"mode\":\"lines+markers\",\"x\":[489.0,488.0,487.0,485.0,484.0,483.0,481.0,480.0,479.0,477.0,476.0,473.0,471.0,470.0,461.0,458.0,457.0,452.0,446.0],\"y\":[1475,2066,2233,3106,3609,3659,3689,4338,4754,5137,5292,5651,5852,6070,6239,6293,6338,7206,7343],\"type\":\"scatter\"},{\"line\":{\"color\":\"red\",\"shape\":\"hv\"},\"mode\":\"lines+markers\",\"x\":[490.0,494.0,501.0,503.0,504.0,505.0,506.0,509.0,510.0,511.0,517.0,519.0,520.0,521.0,522.0,540.0,542.0],\"y\":[86,259,314,588,1063,1387,1517,1634,2102,2277,2676,2902,3128,3328,3576,3719,3753],\"type\":\"scatter\"}],\"name\":\"82\"},{\"data\":[{\"line\":{\"color\":\"green\",\"shape\":\"hv\"},\"mode\":\"lines+markers\",\"x\":[489.0,488.0,487.0,485.0,484.0,483.0,481.0,480.0,479.0,477.0,476.0,473.0,471.0,470.0,461.0,458.0,457.0,452.0,446.0],\"y\":[1475,2066,2233,3106,3609,3659,3689,4338,4754,5137,5292,5651,5852,6070,6239,6293,6338,7206,7343],\"type\":\"scatter\"},{\"line\":{\"color\":\"red\",\"shape\":\"hv\"},\"mode\":\"lines+markers\",\"x\":[490.0,494.0,501.0,503.0,504.0,505.0,506.0,509.0,510.0,511.0,517.0,519.0,520.0,521.0,522.0,540.0,542.0],\"y\":[86,259,314,588,1063,1387,1517,1634,2102,2343,2742,2968,3194,3394,3642,3785,3819],\"type\":\"scatter\"}],\"name\":\"83\"},{\"data\":[{\"line\":{\"color\":\"green\",\"shape\":\"hv\"},\"mode\":\"lines+markers\",\"x\":[489.0,488.0,487.0,485.0,484.0,483.0,481.0,480.0,479.0,477.0,476.0,473.0,471.0,470.0,461.0,458.0,457.0,452.0,446.0],\"y\":[1475,2066,2233,3106,3609,3659,3689,4338,4754,5137,5292,5651,5852,6070,6239,6293,6338,7206,7343],\"type\":\"scatter\"},{\"line\":{\"color\":\"red\",\"shape\":\"hv\"},\"mode\":\"lines+markers\",\"x\":[490.0,494.0,501.0,503.0,504.0,505.0,506.0,509.0,510.0,511.0,517.0,519.0,520.0,521.0,522.0,540.0,542.0],\"y\":[86,259,314,588,1078,1402,1532,1649,2117,2358,2757,2983,3209,3409,3657,3800,3834],\"type\":\"scatter\"}],\"name\":\"84\"},{\"data\":[{\"line\":{\"color\":\"green\",\"shape\":\"hv\"},\"mode\":\"lines+markers\",\"x\":[489.0,488.0,487.0,485.0,484.0,483.0,481.0,480.0,479.0,477.0,476.0,473.0,471.0,470.0,461.0,458.0,457.0,452.0,446.0],\"y\":[1475,2066,2233,3106,3609,3659,3689,4338,4754,5137,5292,5651,5852,6070,6239,6293,6338,7206,7343],\"type\":\"scatter\"},{\"line\":{\"color\":\"red\",\"shape\":\"hv\"},\"mode\":\"lines+markers\",\"x\":[490.0,494.0,501.0,503.0,504.0,505.0,506.0,509.0,510.0,511.0,517.0,519.0,520.0,521.0,522.0,540.0,542.0],\"y\":[86,292,347,621,1111,1435,1565,1682,2150,2391,2790,3016,3242,3442,3690,3833,3867],\"type\":\"scatter\"}],\"name\":\"85\"},{\"data\":[{\"line\":{\"color\":\"green\",\"shape\":\"hv\"},\"mode\":\"lines+markers\",\"x\":[489.0,488.0,487.0,485.0,484.0,483.0,481.0,480.0,479.0,477.0,476.0,473.0,471.0,470.0,461.0,458.0,457.0,452.0,446.0],\"y\":[1475,2066,2233,3106,3609,3659,3689,4338,4754,5137,5292,5651,5852,6070,6239,6293,6338,7206,7343],\"type\":\"scatter\"},{\"line\":{\"color\":\"red\",\"shape\":\"hv\"},\"mode\":\"lines+markers\",\"x\":[490.0,494.0,501.0,503.0,504.0,505.0,506.0,509.0,510.0,511.0,517.0,519.0,520.0,521.0,522.0,540.0,542.0],\"y\":[86,292,347,621,1111,1435,1565,2134,2602,2843,3242,3468,3694,3894,4142,4285,4319],\"type\":\"scatter\"}],\"name\":\"86\"},{\"data\":[{\"line\":{\"color\":\"green\",\"shape\":\"hv\"},\"mode\":\"lines+markers\",\"x\":[489.0,488.0,487.0,485.0,484.0,483.0,482.0,481.0,480.0,479.0,477.0,476.0,473.0,471.0,470.0,461.0,458.0,457.0,452.0,446.0],\"y\":[1475,2066,2233,3106,3609,3659,4031,4061,4710,5126,5509,5664,6023,6224,6442,6611,6665,6710,7578,7715],\"type\":\"scatter\"},{\"line\":{\"color\":\"red\",\"shape\":\"hv\"},\"mode\":\"lines+markers\",\"x\":[490.0,494.0,501.0,503.0,504.0,505.0,506.0,509.0,510.0,511.0,517.0,519.0,520.0,521.0,522.0,540.0,542.0],\"y\":[86,292,347,621,1111,1435,1565,2134,2602,2843,3242,3468,3694,3894,4142,4285,4319],\"type\":\"scatter\"}],\"name\":\"87\"},{\"data\":[{\"line\":{\"color\":\"green\",\"shape\":\"hv\"},\"mode\":\"lines+markers\",\"x\":[489.0,488.0,487.0,485.0,484.0,483.0,482.0,481.0,480.0,479.0,477.0,476.0,473.0,471.0,470.0,461.0,458.0,457.0,452.0,446.0],\"y\":[1661,2252,2419,3292,3795,3845,4217,4247,4896,5312,5695,5850,6209,6410,6628,6797,6851,6896,7764,7901],\"type\":\"scatter\"},{\"line\":{\"color\":\"red\",\"shape\":\"hv\"},\"mode\":\"lines+markers\",\"x\":[490.0,494.0,501.0,503.0,504.0,505.0,506.0,509.0,510.0,511.0,517.0,519.0,520.0,521.0,522.0,540.0,542.0],\"y\":[86,292,347,621,1111,1435,1565,2134,2602,2843,3242,3468,3694,3894,4142,4285,4319],\"type\":\"scatter\"}],\"name\":\"88\"},{\"data\":[{\"line\":{\"color\":\"green\",\"shape\":\"hv\"},\"mode\":\"lines+markers\",\"x\":[489.0,488.0,487.0,485.0,484.0,483.0,482.0,481.0,480.0,479.0,477.0,476.0,473.0,471.0,470.0,461.0,458.0,457.0,452.0,446.0],\"y\":[1661,2252,2419,3292,3795,3845,4217,4247,4896,5312,5695,5850,6209,6410,6628,6797,6851,6896,7764,7901],\"type\":\"scatter\"},{\"line\":{\"color\":\"red\",\"shape\":\"hv\"},\"mode\":\"lines+markers\",\"x\":[494.0,501.0,503.0,504.0,505.0,506.0,509.0,510.0,511.0,517.0,519.0,520.0,521.0,522.0,540.0,542.0],\"y\":[25,80,354,844,1168,1298,1867,2335,2576,2975,3201,3427,3627,3875,4018,4052],\"type\":\"scatter\"}],\"name\":\"89\"},{\"data\":[{\"line\":{\"color\":\"green\",\"shape\":\"hv\"},\"mode\":\"lines+markers\",\"x\":[489.0,488.0,487.0,485.0,484.0,483.0,482.0,481.0,480.0,479.0,477.0,476.0,473.0,471.0,470.0,461.0,458.0,457.0,452.0,446.0],\"y\":[1661,2252,2419,3292,3795,3845,4217,4247,4896,5312,5695,5850,6209,6410,6628,6797,6851,6896,7764,7901],\"type\":\"scatter\"},{\"line\":{\"color\":\"red\",\"shape\":\"hv\"},\"mode\":\"lines+markers\",\"x\":[491.0,494.0,501.0,503.0,504.0,505.0,506.0,509.0,510.0,511.0,517.0,519.0,520.0,521.0,522.0,540.0,542.0],\"y\":[467,492,547,821,1311,1635,1765,2334,2802,3043,3442,3668,3894,4094,4342,4485,4519],\"type\":\"scatter\"}],\"name\":\"90\"},{\"data\":[{\"line\":{\"color\":\"green\",\"shape\":\"hv\"},\"mode\":\"lines+markers\",\"x\":[489.0,488.0,487.0,485.0,484.0,483.0,482.0,481.0,480.0,479.0,477.0,476.0,473.0,471.0,470.0,461.0,458.0,457.0,452.0,446.0],\"y\":[1661,2252,2419,3292,3795,3845,4217,4247,4896,5312,5695,5850,6209,6410,6628,6797,6851,6896,7764,7901],\"type\":\"scatter\"},{\"line\":{\"color\":\"red\",\"shape\":\"hv\"},\"mode\":\"lines+markers\",\"x\":[491.0,494.0,501.0,503.0,504.0,505.0,506.0,509.0,510.0,511.0,517.0,519.0,520.0,521.0,522.0,540.0,542.0],\"y\":[555,580,635,909,1399,1723,1853,2422,2890,3131,3530,3756,3982,4182,4430,4573,4607],\"type\":\"scatter\"}],\"name\":\"91\"},{\"data\":[{\"line\":{\"color\":\"green\",\"shape\":\"hv\"},\"mode\":\"lines+markers\",\"x\":[489.0,488.0,487.0,485.0,484.0,483.0,482.0,481.0,480.0,479.0,477.0,476.0,473.0,471.0,470.0,461.0,458.0,457.0,452.0,446.0],\"y\":[1661,2252,2419,3292,3795,3845,4217,4247,4896,5312,5695,5850,6209,6410,6628,6797,6851,6896,7764,7901],\"type\":\"scatter\"},{\"line\":{\"color\":\"red\",\"shape\":\"hv\"},\"mode\":\"lines+markers\",\"x\":[491.0,494.0,501.0,503.0,504.0,505.0,506.0,509.0,510.0,511.0,517.0,519.0,520.0,521.0,522.0,540.0,542.0],\"y\":[555,580,635,909,1399,1723,1853,2422,2890,3131,3530,3756,3982,4182,4646,4789,4823],\"type\":\"scatter\"}],\"name\":\"92\"},{\"data\":[{\"line\":{\"color\":\"green\",\"shape\":\"hv\"},\"mode\":\"lines+markers\",\"x\":[489.0,488.0,487.0,485.0,484.0,483.0,482.0,481.0,480.0,479.0,477.0,476.0,473.0,471.0,470.0,461.0,458.0,457.0,452.0,446.0],\"y\":[1661,2252,2419,3292,3795,3845,4217,4247,4896,5312,5695,5850,6209,6410,6628,6797,6851,6896,7764,7901],\"type\":\"scatter\"},{\"line\":{\"color\":\"red\",\"shape\":\"hv\"},\"mode\":\"lines+markers\",\"x\":[491.0,494.0,501.0,503.0,504.0,505.0,506.0,509.0,510.0,511.0,517.0,519.0,520.0,521.0,522.0,540.0,542.0],\"y\":[240,265,320,594,1084,1408,1538,2107,2575,2816,3215,3441,3667,3867,4331,4474,4508],\"type\":\"scatter\"}],\"name\":\"93\"},{\"data\":[{\"line\":{\"color\":\"green\",\"shape\":\"hv\"},\"mode\":\"lines+markers\",\"x\":[489.0,488.0,487.0,485.0,484.0,483.0,482.0,481.0,480.0,479.0,477.0,476.0,473.0,471.0,470.0,461.0,458.0,457.0,452.0,446.0],\"y\":[1661,2252,2419,3292,3795,3845,4217,4247,4896,5312,5695,5850,6209,6410,6628,6797,6851,6896,7764,7901],\"type\":\"scatter\"},{\"line\":{\"color\":\"red\",\"shape\":\"hv\"},\"mode\":\"lines+markers\",\"x\":[491.0,494.0,501.0,503.0,504.0,505.0,506.0,509.0,510.0,511.0,516.0,517.0,519.0,520.0,521.0,522.0,540.0,542.0],\"y\":[240,265,320,594,1084,1408,1538,2107,2575,2816,3229,3628,3854,4080,4280,4744,4887,4921],\"type\":\"scatter\"}],\"name\":\"94\"},{\"data\":[{\"line\":{\"color\":\"green\",\"shape\":\"hv\"},\"mode\":\"lines+markers\",\"x\":[498.0,489.0,488.0,487.0,485.0,484.0,483.0,482.0,481.0,480.0,479.0,477.0,476.0,473.0,471.0,470.0,461.0,458.0,457.0,452.0,446.0],\"y\":[41,1702,2293,2460,3333,3836,3886,4258,4288,4937,5353,5736,5891,6250,6451,6669,6838,6892,6937,7805,7942],\"type\":\"scatter\"},{\"line\":{\"color\":\"red\",\"shape\":\"hv\"},\"mode\":\"lines+markers\",\"x\":[501.0,503.0,504.0,505.0,506.0,509.0,510.0,511.0,516.0,517.0,519.0,520.0,521.0,522.0,540.0,542.0],\"y\":[55,329,819,1143,1273,1842,2310,2551,2964,3363,3589,3815,4015,4479,4622,4656],\"type\":\"scatter\"}],\"name\":\"95\"},{\"data\":[{\"line\":{\"color\":\"green\",\"shape\":\"hv\"},\"mode\":\"lines+markers\",\"x\":[489.0,488.0,487.0,485.0,484.0,483.0,482.0,481.0,480.0,479.0,477.0,476.0,473.0,471.0,470.0,461.0,458.0,457.0,452.0,446.0],\"y\":[181,772,939,1812,2315,2365,2737,2767,3416,3832,4215,4370,4729,4930,5148,5317,5371,5416,6284,6421],\"type\":\"scatter\"},{\"line\":{\"color\":\"red\",\"shape\":\"hv\"},\"mode\":\"lines+markers\",\"x\":[501.0,503.0,504.0,505.0,506.0,509.0,510.0,511.0,516.0,517.0,519.0,520.0,521.0,522.0,540.0,542.0],\"y\":[55,329,819,1143,1273,1842,2310,2551,2964,3363,3589,3815,4015,4479,4622,4656],\"type\":\"scatter\"}],\"name\":\"96\"},{\"data\":[{\"line\":{\"color\":\"green\",\"shape\":\"hv\"},\"mode\":\"lines+markers\",\"x\":[489.0,488.0,487.0,485.0,484.0,483.0,482.0,481.0,480.0,479.0,477.0,476.0,473.0,471.0,470.0,461.0,458.0,457.0,452.0,446.0],\"y\":[181,772,939,1812,2315,2365,2737,2767,3416,3832,4215,4370,4729,4930,5148,5317,5371,5416,6284,6421],\"type\":\"scatter\"},{\"line\":{\"color\":\"red\",\"shape\":\"hv\"},\"mode\":\"lines+markers\",\"x\":[501.0,503.0,504.0,505.0,506.0,509.0,510.0,511.0,516.0,517.0,519.0,520.0,521.0,522.0,540.0,542.0],\"y\":[55,507,997,1321,1451,2020,2488,2729,3142,3541,3767,3993,4193,4657,4800,4834],\"type\":\"scatter\"}],\"name\":\"97\"},{\"data\":[{\"line\":{\"color\":\"green\",\"shape\":\"hv\"},\"mode\":\"lines+markers\",\"x\":[489.0,488.0,487.0,485.0,484.0,483.0,482.0,481.0,480.0,479.0,477.0,476.0,473.0,471.0,470.0,461.0,458.0,457.0,452.0,446.0],\"y\":[181,772,939,1812,2315,2365,2737,2767,3416,3832,4215,4370,4729,4930,5148,5317,5371,5416,6284,6421],\"type\":\"scatter\"},{\"line\":{\"color\":\"red\",\"shape\":\"hv\"},\"mode\":\"lines+markers\",\"x\":[503.0,504.0,505.0,506.0,509.0,510.0,511.0,516.0,517.0,519.0,520.0,521.0,522.0,540.0,542.0],\"y\":[97,587,911,1041,1610,2078,2319,2732,3131,3357,3583,3783,4247,4390,4424],\"type\":\"scatter\"}],\"name\":\"98\"},{\"data\":[{\"line\":{\"color\":\"green\",\"shape\":\"hv\"},\"mode\":\"lines+markers\",\"x\":[489.0,488.0,487.0,485.0,484.0,483.0,482.0,481.0,480.0,479.0,477.0,476.0,473.0,471.0,470.0,461.0,458.0,457.0,452.0,446.0],\"y\":[181,772,939,1812,2315,2365,2737,2767,3416,3832,4215,4370,4729,4930,5148,5317,5371,5416,6284,6421],\"type\":\"scatter\"},{\"line\":{\"color\":\"red\",\"shape\":\"hv\"},\"mode\":\"lines+markers\",\"x\":[503.0,504.0,505.0,506.0,509.0,510.0,511.0,516.0,517.0,519.0,520.0,521.0,522.0,540.0,542.0],\"y\":[97,587,911,1041,1610,2193,2434,2847,3246,3472,3698,3898,4362,4505,4539],\"type\":\"scatter\"}],\"name\":\"99\"}]);\n",
       "                        }).then(function(){\n",
       "                            \n",
       "var gd = document.getElementById('6cc783ed-65ef-4046-933f-8716de38ebd0');\n",
       "var x = new MutationObserver(function (mutations, observer) {{\n",
       "        var display = window.getComputedStyle(gd).display;\n",
       "        if (!display || display === 'none') {{\n",
       "            console.log([gd, 'removed!']);\n",
       "            Plotly.purge(gd);\n",
       "            observer.disconnect();\n",
       "        }}\n",
       "}});\n",
       "\n",
       "// Listen for the removal of the full notebook cells\n",
       "var notebookContainer = gd.closest('#notebook-container');\n",
       "if (notebookContainer) {{\n",
       "    x.observe(notebookContainer, {childList: true});\n",
       "}}\n",
       "\n",
       "// Listen for the clearing of the current output cell\n",
       "var outputEl = gd.closest('.output');\n",
       "if (outputEl) {{\n",
       "    x.observe(outputEl, {childList: true});\n",
       "}}\n",
       "\n",
       "                        })                };                });            </script>        </div>"
      ]
     },
     "metadata": {},
     "output_type": "display_data"
    }
   ],
   "source": [
    "import plotly.graph_objects as go\n",
    "import numpy as np\n",
    "\n",
    "\n",
    "frames = []\n",
    "initial_bids = []\n",
    "initial_asks = []\n",
    "\n",
    "for t in range(100):\n",
    "    buy_prices = []\n",
    "    buy_volumes = []\n",
    "    for orders, currentNode in exchange.buys.head.in_order():\n",
    "        buy_prices.append(currentNode.value)\n",
    "        buy_volumes.append(sum(order.unfilledVolume for order in orders))\n",
    "    \n",
    "    sell_prices = []\n",
    "    sell_volumes = []\n",
    "    for orders, currentNode in exchange.sells.head.in_order():\n",
    "        sell_prices.append(currentNode.value)\n",
    "        sell_volumes.append(sum(order.unfilledVolume for order in orders))\n",
    "\n",
    "    buy_cumvol = np.cumsum(buy_volumes)\n",
    "    sell_cumvol = np.cumsum(sell_volumes)\n",
    "\n",
    "    # Save the first snapshot to use as the base\n",
    "    if t == 0:\n",
    "        initial_bids = [go.Scatter(\n",
    "            x=buy_prices,\n",
    "            y=buy_cumvol,\n",
    "            mode='lines+markers',\n",
    "            name='Bids (Buy)',\n",
    "            line=dict(color='green', shape='hv')\n",
    "        )]\n",
    "        initial_asks = [go.Scatter(\n",
    "            x=sell_prices,\n",
    "            y=sell_cumvol,\n",
    "            mode='lines+markers',\n",
    "            name='Asks (Sell)',\n",
    "            line=dict(color='red', shape='hv')\n",
    "        )]\n",
    "\n",
    "    # Each frame stores updated bid/ask lines\n",
    "    frames.append(go.Frame(\n",
    "        name=str(t),\n",
    "        data=[\n",
    "            go.Scatter(x=buy_prices, y=buy_cumvol, mode='lines+markers',\n",
    "                       line=dict(color='green', shape='hv')),\n",
    "            go.Scatter(x=sell_prices, y=sell_cumvol, mode='lines+markers',\n",
    "                       line=dict(color='red', shape='hv'))\n",
    "        ]\n",
    "    ))\n",
    "\n",
    "    order1 = Order(np.floor(np.random.normal()* 10) + 500,random.randint(1,500),False)\n",
    "    order2 = Order(np.floor(np.random.normal()* 10) + 495,random.randint(1,500),True)\n",
    "    exchange.submitOrder(random.choice([order1,order2]))\n",
    "\n",
    "# Create figure with initial data\n",
    "fig = go.Figure(\n",
    "    data=initial_bids + initial_asks,\n",
    "    layout=go.Layout(\n",
    "        title=\"Order Book Depth Chart Over Time\",\n",
    "        xaxis_title=\"Price\",\n",
    "        yaxis_title=\"Cumulative Volume\",\n",
    "        template='plotly_white',\n",
    "        updatemenus=[dict(\n",
    "            type=\"buttons\",\n",
    "            buttons=[dict(label=\"Play\", method=\"animate\", args=[None])]\n",
    "        )]\n",
    "    ),\n",
    "    frames=frames\n",
    ")\n",
    "\n",
    "# Add slider for time\n",
    "fig.update_layout(\n",
    "    sliders=[{\n",
    "        \"steps\": [\n",
    "            {\n",
    "                \"method\": \"animate\",\n",
    "                \"args\": [[str(t)], {\"mode\": \"immediate\", \"frame\": {\"duration\": 200, \"redraw\": True}}],\n",
    "                \"label\": f\"t={t}\"\n",
    "            } for t in range(len(frames))\n",
    "        ],\n",
    "        \"transition\": {\"duration\": 0},\n",
    "        \"x\": 0.1,\n",
    "        \"len\": 0.9\n",
    "    }]\n",
    ")\n",
    "\n",
    "fig.show()\n"
   ]
  }
 ],
 "metadata": {
  "kernelspec": {
   "display_name": "general",
   "language": "python",
   "name": "python3"
  },
  "language_info": {
   "codemirror_mode": {
    "name": "ipython",
    "version": 3
   },
   "file_extension": ".py",
   "mimetype": "text/x-python",
   "name": "python",
   "nbconvert_exporter": "python",
   "pygments_lexer": "ipython3",
   "version": "3.12.1"
  }
 },
 "nbformat": 4,
 "nbformat_minor": 5
}
